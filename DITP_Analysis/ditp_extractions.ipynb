{
 "cells": [
  {
   "cell_type": "markdown",
   "metadata": {},
   "source": [
    "# Extractions\n",
    "\n",
    "The objective of this notebook is to generate extractions from the verbatims."
   ]
  },
  {
   "cell_type": "code",
   "execution_count": 1,
   "metadata": {},
   "outputs": [],
   "source": [
    "import pandas as pd\n",
    "import json\n",
    "import importlib\n",
    "\n",
    "from tqdm import tqdm\n",
    "from typing import List, Dict\n",
    "from pymongo import MongoClient\n",
    "\n",
    "import boto3\n",
    "import certifi\n",
    "\n",
    "from utils.extractions_utils import generate_extraction_results, split_text_into_parts, extract_information_from_text, add_extractions_to_splitted_analysis"
   ]
  },
  {
   "cell_type": "code",
   "execution_count": 2,
   "metadata": {},
   "outputs": [],
   "source": [
    "STAGE = 'prod'"
   ]
  },
  {
   "cell_type": "markdown",
   "metadata": {},
   "source": [
    "Loading all key libraries"
   ]
  },
  {
   "cell_type": "code",
   "execution_count": 3,
   "metadata": {},
   "outputs": [],
   "source": [
    "_secrets_manager_client = boto3.client(\"secretsmanager\", region_name=\"eu-west-3\")\n",
    "\n",
    "_secrets = json.loads(\n",
    "    _secrets_manager_client.get_secret_value(\n",
    "        SecretId=f\"{STAGE.capitalize()}/alloreview\"\n",
    "    )[\"SecretString\"]\n",
    ")\n",
    "MONGO_CONNECTION_STRING = (\n",
    "    \"mongodb+srv://alloreview:{}@feedbacksdev.cuwx1.mongodb.net\".format(\n",
    "        _secrets[\"mongodb\"][\"password\"]\n",
    "    )\n",
    ")\n",
    "\n",
    "OPENAI_API_KEY = _secrets[\"openai\"][\"api_key\"]\n",
    "LLM_API_KEY = _secrets[\"litellm\"][\"api_key\"]\n"
   ]
  },
  {
   "cell_type": "code",
   "execution_count": 4,
   "metadata": {},
   "outputs": [],
   "source": [
    "mongo_client = MongoClient(MONGO_CONNECTION_STRING,tlsCAFile=certifi.where())\n",
    "\n",
    "collection = mongo_client['feedbacks_db']['feedbacks_Prod']"
   ]
  },
  {
   "cell_type": "markdown",
   "metadata": {},
   "source": [
    "Define the brand and a short description of the brand."
   ]
  },
  {
   "cell_type": "code",
   "execution_count": 5,
   "metadata": {},
   "outputs": [],
   "source": [
    "BRAND = 'ditp_analysis'"
   ]
  },
  {
   "cell_type": "code",
   "execution_count": 6,
   "metadata": {},
   "outputs": [],
   "source": [
    "#NEW\n",
    "from_mongo = pd.read_csv('ditp_test.csv')"
   ]
  },
  {
   "cell_type": "code",
   "execution_count": 7,
   "metadata": {},
   "outputs": [
    {
     "data": {
      "text/plain": [
       "(80478, 84)"
      ]
     },
     "execution_count": 7,
     "metadata": {},
     "output_type": "execute_result"
    }
   ],
   "source": [
    "from_mongo = pd.DataFrame(list(collection.aggregate([\n",
    "    {\n",
    "        '$match': {\n",
    "            'brand': BRAND,\n",
    "        },\n",
    "    },\n",
    "])))\n",
    "\n",
    "\n",
    "from_mongo.shape"
   ]
  },
  {
   "cell_type": "markdown",
   "metadata": {},
   "source": [
    "## Run the extraction pipeline on sample"
   ]
  },
  {
   "cell_type": "code",
   "execution_count": 8,
   "metadata": {},
   "outputs": [],
   "source": [
    "import importlib\n",
    "# this function allows to parallelize the extraction process and to save the results on the mongo database\n",
    "from utils.extractions_utils import process_extractions_in_parallel\n",
    "module = importlib.import_module('utils.extractions_utils')\n",
    "importlib.reload(module)\n",
    "\n",
    "# Ensure the function is re-imported after reloading the module\n",
    "process_extractions_in_parallel = module.process_extractions_in_parallel"
   ]
  },
  {
   "cell_type": "code",
   "execution_count": 9,
   "metadata": {},
   "outputs": [
    {
     "name": "stdout",
     "output_type": "stream",
     "text": [
      "Test will be done on 100 samples.\n"
     ]
    }
   ],
   "source": [
    "subdf = from_mongo.sample(100)\n",
    "print(f'Test will be done on {subdf.shape[0]} samples.')\n",
    "\n"
   ]
  },
  {
   "cell_type": "code",
   "execution_count": 10,
   "metadata": {},
   "outputs": [],
   "source": [
    "def format_ligne(ligne):\n",
    "    # Fonction interne pour gérer les valeurs manquantes\n",
    "    def extraire_champ(champ, allow_empty=False):\n",
    "        return champ if pd.notnull(champ) and (allow_empty or champ != 'N/A') else None\n",
    "\n",
    "    # Champs obligatoires et facultatifs\n",
    "    champs = [\n",
    "        (\"Intitulé Structure 1\", ligne.get(\"intitule_structure_1\"), False),\n",
    "        (\"Intitulé Structure 2\", ligne.get(\"intitule_structure_2\"), True),\n",
    "        (\"Tags Métiers\", ligne.get(\"tags_metiers\"), True),\n",
    "        (\"Pays de la demande\", ligne.get(\"pays\"), False)\n",
    "    ]\n",
    "    \n",
    "    # Initialisation des lignes avec une phrase fixe\n",
    "    lignes = [\"Feedbacks are from French public services.\"]\n",
    "    \n",
    "    # Génération des lignes dynamiques si les champs sont présents\n",
    "    for label, champ, allow_empty in champs:\n",
    "        valeur = extraire_champ(champ, allow_empty)\n",
    "        if valeur:\n",
    "            lignes.append(f\"{label}: {valeur}\")\n",
    "    \n",
    "    # Retour du résultat formaté\n",
    "    return \"\\n\".join(lignes)"
   ]
  },
  {
   "cell_type": "code",
   "execution_count": 11,
   "metadata": {},
   "outputs": [],
   "source": [
    "#NEW\n",
    "subdf['text'] = subdf['verbatims']\n",
    "subdf['brand_context'] = subdf.apply(format_ligne, axis=1)\n",
    "subsubdf = subdf[['text', '_id', 'brand_context']]"
   ]
  },
  {
   "cell_type": "markdown",
   "metadata": {},
   "source": [
    "#### For one extraction"
   ]
  },
  {
   "cell_type": "code",
   "execution_count": 14,
   "metadata": {},
   "outputs": [],
   "source": [
    "text = subsubdf.iloc[0]  \n",
    "extraction = extract_information_from_text(\n",
    "    text['text'],\n",
    "    text['_id'],\n",
    "    text['brand_context'],\n",
    "    language='french',\n",
    "    model=\"gpt-4o-mini\"\n",
    ")\n"
   ]
  },
  {
   "cell_type": "markdown",
   "metadata": {},
   "source": [
    "#### For multiple extraction"
   ]
  },
  {
   "cell_type": "code",
   "execution_count": 12,
   "metadata": {},
   "outputs": [
    {
     "name": "stderr",
     "output_type": "stream",
     "text": [
      "Processing chunks:  20%|██        | 1/5 [00:12<00:48, 12.22s/it]"
     ]
    },
    {
     "name": "stdout",
     "output_type": "stream",
     "text": [
      "JSON decoding error: Expecting value: line 70 column 17 (char 1662)\n",
      "[extract_information_from_text()] Missing key: 'text'\n",
      "JSON decoding error: Unterminated string starting at: line 70 column 18 (char 1695)\n",
      "[extract_information_from_text()] Missing key: 'text'\n",
      "JSON decoding error: Expecting ',' delimiter: line 62 column 1 (char 1651)\n",
      "[extract_information_from_text()] Missing key: 'text'\n"
     ]
    },
    {
     "name": "stderr",
     "output_type": "stream",
     "text": [
      "Processing chunks:  60%|██████    | 3/5 [00:31<00:18,  9.45s/it]"
     ]
    },
    {
     "name": "stdout",
     "output_type": "stream",
     "text": [
      "JSON decoding error: Unterminated string starting at: line 66 column 15 (char 1725)\n",
      "[extract_information_from_text()] Missing key: 'text'\n"
     ]
    },
    {
     "name": "stderr",
     "output_type": "stream",
     "text": [
      "Processing chunks: 100%|██████████| 5/5 [00:52<00:00, 10.50s/it]\n"
     ]
    }
   ],
   "source": [
    "extractions = process_extractions_in_parallel(\n",
    "    subsubdf,\n",
    "    brand_name=BRAND,\n",
    "    language='french',\n",
    "    model=\"gpt-4o-mini\",\n",
    "    save_to_mongo=True\n",
    ")"
   ]
  },
  {
   "cell_type": "markdown",
   "metadata": {},
   "source": [
    "## Checking result in MongoDB"
   ]
  },
  {
   "cell_type": "code",
   "execution_count": 12,
   "metadata": {},
   "outputs": [],
   "source": [
    "# getting the document from the database to check if the extractions are saved\n",
    "# matching the brand and the id in res\n",
    "\n",
    "documents = collection.find({\n",
    "    'brand': BRAND,\n",
    "    '_id': {'$in': [r['id'] for r in extractions]}\n",
    "})\n",
    "\n",
    "documents = pd.DataFrame(documents)"
   ]
  },
  {
   "cell_type": "code",
   "execution_count": 13,
   "metadata": {},
   "outputs": [
    {
     "data": {
      "text/plain": [
       "(20, 84)"
      ]
     },
     "execution_count": 13,
     "metadata": {},
     "output_type": "execute_result"
    }
   ],
   "source": [
    "documents.shape"
   ]
  },
  {
   "cell_type": "code",
   "execution_count": 14,
   "metadata": {},
   "outputs": [
    {
     "data": {
      "text/plain": [
       "\"Téléphone\\nPlus de 50 appels en une journée, jamais de réponse, personne ne décroche le téléphone, pourtant appels passés dès l'ouverture jusqu'à la fermeture sans interruption, toujours la même chose: les agents sont en communication, alors que l'appel est lancé même avant l'ouverture pour être sûr d'être partis les 1ers. Très mauvaise expérience, et quand il ou elle répond, ils ont vite envie de raccrocher sans pour autant donner une réponse claire à la question posée.\""
      ]
     },
     "execution_count": 14,
     "metadata": {},
     "output_type": "execute_result"
    }
   ],
   "source": [
    "documents.sample().iloc[0].verbatims"
   ]
  },
  {
   "cell_type": "code",
   "execution_count": 15,
   "metadata": {},
   "outputs": [
    {
     "data": {
      "text/plain": [
       "[{'sentiment': 'NEGATIVE',\n",
       "  'extraction': 'Difficulté à trouver le bouton de déconnexion',\n",
       "  'text': 'Où se trouve le bouton de déconnexion de vote site ?'},\n",
       " {'sentiment': 'SUGGESTION',\n",
       "  'extraction': 'Bouton de déconnexion près du profil',\n",
       "  'text': 'Il devrait se trouver prés de mon profil et me permettre de me déconnecter \"proprement\"'}]"
      ]
     },
     "execution_count": 15,
     "metadata": {},
     "output_type": "execute_result"
    }
   ],
   "source": [
    "documents.sample().iloc[0].extractions"
   ]
  },
  {
   "cell_type": "code",
   "execution_count": 16,
   "metadata": {},
   "outputs": [
    {
     "data": {
      "text/plain": [
       "[{'text': 'Demande de passeport et de carte d’identité',\n",
       "  'extractions': [{'sentiment': 'NEGATIVE',\n",
       "    'extraction': 'Demande de passeport et de carte d’identité'}]},\n",
       " {'text': 'J’avais des photos récentes on m’a demandé de les refaire sans aucun motif,',\n",
       "  'extractions': [{'sentiment': 'NEGATIVE',\n",
       "    'extraction': 'Demande de refaire des photos sans motif'}]},\n",
       " {'text': 'sauf celui de payer à nouveau 6€.',\n",
       "  'extractions': [{'sentiment': 'NEGATIVE',\n",
       "    'extraction': 'Coût supplémentaire de 6€ pour les nouvelles photos'}]},\n",
       " {'text': \"Ce n'est vraiment pas cool,\",\n",
       "  'extractions': [{'sentiment': 'NEGATIVE',\n",
       "    'extraction': 'Insatisfaction concernant la demande de nouvelles photos'}]},\n",
       " {'text': \"alors qu'elles avaient été acceptées au départ.\",\n",
       "  'extractions': [{'sentiment': 'NEGATIVE',\n",
       "    'extraction': 'Photos initialement acceptées'}]},\n",
       " {'text': 'Pourquoi me refaire faire des photos ?',\n",
       "  'extractions': [{'sentiment': 'SUGGESTION',\n",
       "    'extraction': 'Question sur la nécessité de refaire des photos'}]}]"
      ]
     },
     "execution_count": 16,
     "metadata": {},
     "output_type": "execute_result"
    }
   ],
   "source": [
    "documents.sample().iloc[0].splitted_analysis_v2"
   ]
  },
  {
   "cell_type": "code",
   "execution_count": null,
   "metadata": {},
   "outputs": [],
   "source": []
  }
 ],
 "metadata": {
  "kernelspec": {
   "display_name": "Python 3",
   "language": "python",
   "name": "python3"
  },
  "language_info": {
   "codemirror_mode": {
    "name": "ipython",
    "version": 3
   },
   "file_extension": ".py",
   "mimetype": "text/x-python",
   "name": "python",
   "nbconvert_exporter": "python",
   "pygments_lexer": "ipython3",
   "version": "3.11.3"
  }
 },
 "nbformat": 4,
 "nbformat_minor": 2
}
