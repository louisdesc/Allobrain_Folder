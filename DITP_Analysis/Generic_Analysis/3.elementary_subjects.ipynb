{
 "cells": [
  {
   "cell_type": "code",
   "execution_count": 3,
   "metadata": {},
   "outputs": [],
   "source": [
    "import json\n",
    "import boto3\n",
    "import pandas as pd\n",
    "\n",
    "from utils.analysis_utils import classify_one_feedback\n",
    "from utils.database import get_field_value\n",
    "from pymongo import MongoClient\n"
   ]
  },
  {
   "cell_type": "code",
   "execution_count": 4,
   "metadata": {},
   "outputs": [],
   "source": [
    "_secrets_manager_client = boto3.client(\"secretsmanager\", region_name=\"eu-west-3\")\n",
    "\n",
    "_secrets = json.loads(\n",
    "    _secrets_manager_client.get_secret_value(\n",
    "        SecretId=f\"Prod/alloreview\"\n",
    "    )[\"SecretString\"]\n",
    ")\n",
    "MONGO_CONNECTION_STRING = (\n",
    "    \"mongodb+srv://alloreview:{}@feedbacksdev.cuwx1.mongodb.net\".format(\n",
    "        _secrets[\"mongodb\"][\"password\"]\n",
    "    )\n",
    ")\n",
    "mongo_client = MongoClient(MONGO_CONNECTION_STRING)\n",
    "\n",
    "collection = mongo_client['feedbacks_db']['feedbacks_Prod']"
   ]
  },
  {
   "attachments": {},
   "cell_type": "markdown",
   "metadata": {},
   "source": [
    "# Generating Elementary Subjects\n",
    "\n",
    "After creating all the extractions, our objective is to generate elementary subjects.\n",
    "\n",
    "We use the following method:\n",
    "\n",
    "1. For each extraction, we attempt to classify it among the existing elementary subjects.\n",
    "2. If no subject matches, we generate a new one.\n",
    "3. As we progress, we also verify that we are not generating duplicates.\n",
    "\n",
    "## Process\n",
    "\n",
    "We classify and generate our elementary subjects progressively:\n",
    "\n",
    "1. Classify each extraction\n",
    "2. Generate new subjects as needed\n",
    "3. Check for duplicates\n",
    "\n",
    "By the end of this process, after classifying everything, we will have generated all our subjects.\n",
    "\n",
    "## Database Storage\n",
    "\n",
    "The elementary subjects are pushed into the `elementary_subjects_dev` database."
   ]
  },
  {
   "cell_type": "code",
   "execution_count": 5,
   "metadata": {},
   "outputs": [],
   "source": [
    "BRAND = 'columbuscafe_test'\n",
    "\n",
    "BRAND_DESCR = '''\n",
    "Feedbacks are from client of columbus cafe.\n",
    "Columbus Café & Co est une chaîne française de cafés.\n",
    "'''"
   ]
  },
  {
   "cell_type": "code",
   "execution_count": 25,
   "metadata": {},
   "outputs": [
    {
     "data": {
      "text/plain": [
       "(2994, 16)"
      ]
     },
     "execution_count": 25,
     "metadata": {},
     "output_type": "execute_result"
    }
   ],
   "source": [
    "# getting feedbacks from mongo\n",
    "\n",
    "from_mongo = pd.DataFrame(list(collection.aggregate([\n",
    "    {\n",
    "        '$match': {\n",
    "            'brand': BRAND,\n",
    "        },\n",
    "    },\n",
    "])))\n",
    "\n",
    "from_mongo.shape"
   ]
  },
  {
   "cell_type": "code",
   "execution_count": 9,
   "metadata": {},
   "outputs": [
    {
     "name": "stdout",
     "output_type": "stream",
     "text": [
      "(20, 16)\n",
      "Demandé un chocolat chaud il est tiède. De olus aucune tranquillité avec le télétravail c'est très désagréable d'entendre la conversation des uns et des autres. A revoir\n"
     ]
    }
   ],
   "source": [
    "# keeping only feedbacks with extractions and splitted_analysis_v2\n",
    "\n",
    "subdf = from_mongo[from_mongo['extractions'].notna()]\n",
    "subdf = subdf[subdf['splitted_analysis_v2'].notna()]\n",
    "print(subdf.shape)\n",
    "\n",
    "row = subdf.sample().iloc[0]\n",
    "\n",
    "print(row.verbatim['text'])"
   ]
  },
  {
   "cell_type": "code",
   "execution_count": 12,
   "metadata": {},
   "outputs": [
    {
     "data": {
      "text/plain": [
       "[{'sentiment': 'POSITIVE',\n",
       "  'extraction': 'Établissement très propre',\n",
       "  'text': 'Très propre le personnel est très aimable je vous le conseille à 100%'},\n",
       " {'sentiment': 'POSITIVE',\n",
       "  'extraction': 'Personnel très aimable',\n",
       "  'text': 'Très propre le personnel est très aimable je vous le conseille à 100%'},\n",
       " {'sentiment': 'POSITIVE',\n",
       "  'extraction': 'Recommandation à 100%',\n",
       "  'text': 'Très propre le personnel est très aimable je vous le conseille à 100%'}]"
      ]
     },
     "execution_count": 12,
     "metadata": {},
     "output_type": "execute_result"
    }
   ],
   "source": [
    "extractions = get_field_value(\n",
    "    feedback_id=row['_id'],\n",
    "    field_name='extractions',\n",
    ")\n",
    "\n",
    "extractions"
   ]
  },
  {
   "attachments": {},
   "cell_type": "markdown",
   "metadata": {},
   "source": [
    "The function `classify_one_feedback` is used to classify each extraction."
   ]
  },
  {
   "cell_type": "code",
   "execution_count": 14,
   "metadata": {},
   "outputs": [
    {
     "name": "stdout",
     "output_type": "stream",
     "text": [
      "Updating feedback columbuscafe_test/a965ce53ffc4263dd876 with updates: {'extractions': [{'sentiment': 'POSITIVE', 'extraction': 'Établissement très propre', 'text': 'Très propre le personnel est très aimable je vous le conseille à 100%', 'elementary_subjects': [\"Ambiance : Propreté de l'établissement\"], 'topics': []}, {'sentiment': 'POSITIVE', 'extraction': 'Personnel très aimable', 'text': 'Très propre le personnel est très aimable je vous le conseille à 100%', 'elementary_subjects': [\"Service : Qualité de l'équipe\"], 'topics': []}, {'sentiment': 'POSITIVE', 'extraction': 'Recommandation à 100%', 'text': 'Très propre le personnel est très aimable je vous le conseille à 100%'}], 'splitted_analysis_v2': [{'text': 'Très propre le personnel est très aimable je vous le conseille à 100%', 'extractions': [{'sentiment': 'POSITIVE', 'extraction': 'Établissement très propre', 'text': 'Très propre le personnel est très aimable je vous le conseille à 100%', 'elementary_subjects': [\"Ambiance : Propreté de l'établissement\"], 'topics': []}, {'sentiment': 'POSITIVE', 'extraction': 'Personnel très aimable', 'text': 'Très propre le personnel est très aimable je vous le conseille à 100%', 'elementary_subjects': [\"Service : Qualité de l'équipe\"], 'topics': []}, {'sentiment': 'POSITIVE', 'extraction': 'Recommandation à 100%', 'text': 'Très propre le personnel est très aimable je vous le conseille à 100%'}]}], 'topics_v2': []}\n"
     ]
    },
    {
     "data": {
      "text/plain": [
       "[{'sentiment': 'POSITIVE',\n",
       "  'extraction': 'Établissement très propre',\n",
       "  'text': 'Très propre le personnel est très aimable je vous le conseille à 100%',\n",
       "  'elementary_subjects': [\"Ambiance : Propreté de l'établissement\"],\n",
       "  'topics': []},\n",
       " {'sentiment': 'POSITIVE',\n",
       "  'extraction': 'Personnel très aimable',\n",
       "  'text': 'Très propre le personnel est très aimable je vous le conseille à 100%',\n",
       "  'elementary_subjects': [\"Service : Qualité de l'équipe\"],\n",
       "  'topics': []},\n",
       " {'sentiment': 'POSITIVE',\n",
       "  'extraction': 'Recommandation à 100%',\n",
       "  'text': 'Très propre le personnel est très aimable je vous le conseille à 100%'}]"
      ]
     },
     "execution_count": 14,
     "metadata": {},
     "output_type": "execute_result"
    }
   ],
   "source": [
    "res = classify_one_feedback(\n",
    "    feedback_id=row['_id'],\n",
    "    extractions=extractions,\n",
    "    model=\"gpt-4o-mini\",\n",
    "    brand=BRAND,\n",
    "    brand_descr=BRAND_DESCR,\n",
    "    language=\"french\",\n",
    "    extractions_column=\"extractions\",\n",
    "    update_mongo=True\n",
    ")\n",
    "\n",
    "res"
   ]
  },
  {
   "cell_type": "code",
   "execution_count": 1,
   "metadata": {},
   "outputs": [],
   "source": [
    "# this function allows to parallelize the analysis process and to save the results on the mongo database\n",
    "from utils.analysis_utils import run_analysis_full_parallel"
   ]
  },
  {
   "cell_type": "code",
   "execution_count": 13,
   "metadata": {},
   "outputs": [
    {
     "name": "stdout",
     "output_type": "stream",
     "text": [
      "To extract: 10\n"
     ]
    }
   ],
   "source": [
    "to_analyse = subdf.sample(10) # test on a subset\n",
    "print('To extract:', to_analyse.shape[0])\n",
    "\n",
    "extractions_with_ids = to_analyse[['extractions', '_id']].to_dict(orient='records')"
   ]
  },
  {
   "cell_type": "code",
   "execution_count": null,
   "metadata": {},
   "outputs": [],
   "source": [
    "analysis = run_analysis_full_parallel(\n",
    "    extractions_with_ids,\n",
    "    BRAND,\n",
    "    brand_descr=BRAND_DESCR,\n",
    "    language='french',\n",
    "    model=\"gpt-4o-mini\",\n",
    "    save_to_mongo=True\n",
    ")\n",
    "\n",
    "analysis"
   ]
  },
  {
   "cell_type": "code",
   "execution_count": 16,
   "metadata": {},
   "outputs": [
    {
     "data": {
      "text/plain": [
       "[{'id': 'columbuscafe_test/13892e2103825cf06d02',\n",
       "  'extractions': [{'sentiment': 'POSITIVE',\n",
       "    'extraction': 'Appréciation générale',\n",
       "    'text': '1👍'}]},\n",
       " {'id': 'columbuscafe_test/a965ce53ffc4263dd876',\n",
       "  'extractions': [{'sentiment': 'POSITIVE',\n",
       "    'extraction': 'Établissement très propre',\n",
       "    'text': 'Très propre le personnel est très aimable je vous le conseille à 100%',\n",
       "    'elementary_subjects': [\"Ambiance : Propreté de l'établissement\"],\n",
       "    'topics': []},\n",
       "   {'sentiment': 'POSITIVE',\n",
       "    'extraction': 'Personnel très aimable',\n",
       "    'text': 'Très propre le personnel est très aimable je vous le conseille à 100%',\n",
       "    'elementary_subjects': [\"Service : Qualité de l'équipe\"],\n",
       "    'topics': []},\n",
       "   {'sentiment': 'POSITIVE',\n",
       "    'extraction': 'Recommandation à 100%',\n",
       "    'text': 'Très propre le personnel est très aimable je vous le conseille à 100%'}]},\n",
       " {'id': 'columbuscafe_test/09849c25a5224e258d60',\n",
       "  'extractions': [{'sentiment': 'POSITIVE',\n",
       "    'extraction': 'Très bon accueil',\n",
       "    'text': 'Très bon accueil,',\n",
       "    'elementary_subjects': ['Service : Accueil chaleureux'],\n",
       "    'topics': [{'topic': {'1': 'Personnel', '2': 'Aimabilité du personnel'},\n",
       "      'classification_scheme_id': ObjectId('66df25bf365a29ed53caf5a2'),\n",
       "      'classification_scheme_name': 'Test Classification Scheme'}]},\n",
       "   {'sentiment': 'POSITIVE',\n",
       "    'extraction': 'Très bon service',\n",
       "    'text': ' très bon service.',\n",
       "    'elementary_subjects': [\"Service : Qualité de l'équipe\"],\n",
       "    'topics': []},\n",
       "   {'sentiment': 'POSITIVE',\n",
       "    'extraction': 'Personnel très agréable',\n",
       "    'text': ' Personnel très agréable,',\n",
       "    'elementary_subjects': [\"Service : Qualité de l'équipe\"],\n",
       "    'topics': []},\n",
       "   {'sentiment': 'POSITIVE',\n",
       "    'extraction': 'Grand blond très sympathique',\n",
       "    'text': ' surtout le grand blond très sympathique.',\n",
       "    'elementary_subjects': [\"Service : Qualité de l'équipe\"],\n",
       "    'topics': []},\n",
       "   {'sentiment': 'POSITIVE',\n",
       "    'extraction': 'À recommander',\n",
       "    'text': ' À recommander !'}]},\n",
       " {'id': 'columbuscafe_test/1fd3f4ab1be2aaacc937', 'extractions': []},\n",
       " {'id': 'columbuscafe_test/6d79829dfc75c2e4ed36',\n",
       "  'extractions': [{'sentiment': 'POSITIVE',\n",
       "    'extraction': 'Accueil très bien',\n",
       "    'text': 'Toujours très bien accueillis,',\n",
       "    'elementary_subjects': ['Service : Accueil chaleureux'],\n",
       "    'topics': [{'topic': {'1': 'Personnel', '2': 'Aimabilité du personnel'},\n",
       "      'classification_scheme_id': ObjectId('66df25bf365a29ed53caf5a2'),\n",
       "      'classification_scheme_name': 'Test Classification Scheme'}]},\n",
       "   {'sentiment': 'POSITIVE',\n",
       "    'extraction': 'Équipe super agréable',\n",
       "    'text': ' Une équipe super agréable,',\n",
       "    'elementary_subjects': [\"Service : Qualité de l'équipe\"],\n",
       "    'topics': []},\n",
       "   {'sentiment': 'POSITIVE',\n",
       "    'extraction': 'Équipe souriante et professionnelle',\n",
       "    'text': ' souriante et très professionnelle.',\n",
       "    'elementary_subjects': [\"Service : Qualité de l'équipe\"],\n",
       "    'topics': []}]},\n",
       " {'id': 'columbuscafe_test/1de034c59bebb207d616',\n",
       "  'extractions': [{'sentiment': 'POSITIVE',\n",
       "    'extraction': 'Personnel agréable',\n",
       "    'text': 'Personnel toujours agréable.\\n',\n",
       "    'elementary_subjects': [\"Service : Qualité de l'équipe\"],\n",
       "    'topics': []},\n",
       "   {'sentiment': 'POSITIVE',\n",
       "    'extraction': 'Service impeccable',\n",
       "    'text': 'Service impeccable.',\n",
       "    'elementary_subjects': [\"Service : Qualité de l'équipe\"],\n",
       "    'topics': []},\n",
       "   {'sentiment': 'POSITIVE',\n",
       "    'extraction': 'Volonté de revenir',\n",
       "    'text': ' J’y reviens sans hésiter.',\n",
       "    'elementary_subjects': ['Satisfaction générale : Volonté de revenir'],\n",
       "    'topics': []}]},\n",
       " {'id': 'columbuscafe_test/91ac4fb172ed69326b8f',\n",
       "  'extractions': [{'sentiment': 'NEGATIVE',\n",
       "    'extraction': 'Chocolat chaud tiède',\n",
       "    'text': 'Demandé un chocolat chaud il est tiède.',\n",
       "    'elementary_subjects': ['Produits : Problème de qualité : Chocolat chaud tiède'],\n",
       "    'topics': [{'topic': {'1': 'Personnel', '2': 'Aimabilité du personnel'},\n",
       "      'classification_scheme_id': ObjectId('66df25bf365a29ed53caf5a2'),\n",
       "      'classification_scheme_name': 'Test Classification Scheme'}]},\n",
       "   {'sentiment': 'NEGATIVE',\n",
       "    'extraction': 'Manque de tranquillité avec le télétravail',\n",
       "    'text': \" De olus aucune tranquillité avec le télétravail c'est très désagréable d'entendre la conversation des uns et des autres.\",\n",
       "    'elementary_subjects': [\"Ambiance : Manque de tranquillité dans l'établissement\"],\n",
       "    'topics': []},\n",
       "   {'sentiment': 'SUGGESTION',\n",
       "    'extraction': 'À revoir',\n",
       "    'text': ' A revoir'}]},\n",
       " {'id': 'columbuscafe_test/f75b1294c3b09d36be07',\n",
       "  'extractions': [{'sentiment': 'POSITIVE',\n",
       "    'extraction': 'Personnel sympathique',\n",
       "    'text': 'Personnelles toujours sympathique bon produit\\n\\n',\n",
       "    'elementary_subjects': [\"Service : Qualité de l'équipe\"],\n",
       "    'topics': []},\n",
       "   {'sentiment': 'POSITIVE',\n",
       "    'extraction': 'Produits de qualité',\n",
       "    'text': 'Personnelles toujours sympathique bon produit\\n\\n',\n",
       "    'elementary_subjects': ['Produits : Qualité des produits : Qualité générale des produits'],\n",
       "    'topics': [{'topic': {'1': 'Personnel', '2': 'Aimabilité du personnel'},\n",
       "      'classification_scheme_id': ObjectId('66df25bf365a29ed53caf5a2'),\n",
       "      'classification_scheme_name': 'Test Classification Scheme'}]},\n",
       "   {'sentiment': 'POSITIVE',\n",
       "    'extraction': 'Options adaptées aux enfants',\n",
       "    'text': 'Kid-friendliness: Il y a de tout même pour les enfants\\n\\n',\n",
       "    'elementary_subjects': ['Produits : Options adaptées aux enfants'],\n",
       "    'topics': []},\n",
       "   {'sentiment': 'POSITIVE',\n",
       "    'extraction': 'Grand parking disponible',\n",
       "    'text': 'Parking: Grand parking',\n",
       "    'elementary_subjects': ['Emplacement : Disponibilité du parking'],\n",
       "    'topics': []}]},\n",
       " {'id': 'columbuscafe_test/f6790519b4ff3fd7b410',\n",
       "  'extractions': [{'sentiment': 'POSITIVE',\n",
       "    'extraction': \"Satisfaction de l'accueil par Iris\",\n",
       "    'text': 'Je viens régulièrement prendre mon petit moka au colombus et c’est toujours un plaisir d’être reçu par Iris qui est souriante et serviable !',\n",
       "    'elementary_subjects': ['Service : Accueil chaleureux'],\n",
       "    'topics': [{'topic': {'1': 'Personnel', '2': 'Aimabilité du personnel'},\n",
       "      'classification_scheme_id': ObjectId('66df25bf365a29ed53caf5a2'),\n",
       "      'classification_scheme_name': 'Test Classification Scheme'}]},\n",
       "   {'sentiment': 'POSITIVE',\n",
       "    'extraction': 'Moka exceptionnel',\n",
       "    'text': ' son moka est exceptionnel 🤩',\n",
       "    'elementary_subjects': ['Produits : Qualité des produits : Qualité du café'],\n",
       "    'topics': [{'topic': {'1': 'Personnel', '2': 'Aimabilité du personnel'},\n",
       "      'classification_scheme_id': ObjectId('66df25bf365a29ed53caf5a2'),\n",
       "      'classification_scheme_name': 'Test Classification Scheme'}]}]},\n",
       " {'id': 'columbuscafe_test/6e5641974a4d3ce0e1dc',\n",
       "  'extractions': [{'sentiment': 'POSITIVE',\n",
       "    'extraction': 'Produits excellents',\n",
       "    'text': \"Les produits sont excellents et l'accueil est un vrai bonheur également !\",\n",
       "    'elementary_subjects': ['Produits : Qualité des produits : Qualité générale des produits'],\n",
       "    'topics': [{'topic': {'1': 'Personnel', '2': 'Aimabilité du personnel'},\n",
       "      'classification_scheme_id': ObjectId('66df25bf365a29ed53caf5a2'),\n",
       "      'classification_scheme_name': 'Test Classification Scheme'}]},\n",
       "   {'sentiment': 'POSITIVE',\n",
       "    'extraction': 'Accueil agréable',\n",
       "    'text': \"Les produits sont excellents et l'accueil est un vrai bonheur également !\",\n",
       "    'elementary_subjects': ['Service : Accueil chaleureux'],\n",
       "    'topics': [{'topic': {'1': 'Personnel', '2': 'Aimabilité du personnel'},\n",
       "      'classification_scheme_id': ObjectId('66df25bf365a29ed53caf5a2'),\n",
       "      'classification_scheme_name': 'Test Classification Scheme'}]}]}]"
      ]
     },
     "execution_count": 16,
     "metadata": {},
     "output_type": "execute_result"
    }
   ],
   "source": [
    "analysis"
   ]
  },
  {
   "attachments": {},
   "cell_type": "markdown",
   "metadata": {},
   "source": [
    "## Check elementary subjects that we generated"
   ]
  },
  {
   "cell_type": "code",
   "execution_count": 17,
   "metadata": {},
   "outputs": [],
   "source": [
    "from utils.database import get_elementary_subjects"
   ]
  },
  {
   "cell_type": "code",
   "execution_count": 19,
   "metadata": {},
   "outputs": [
    {
     "data": {
      "text/plain": [
       "18"
      ]
     },
     "execution_count": 19,
     "metadata": {},
     "output_type": "execute_result"
    }
   ],
   "source": [
    "positive_elementary_subjects = get_elementary_subjects(BRAND, 'positive')\n",
    "\n",
    "len(positive_elementary_subjects)"
   ]
  },
  {
   "cell_type": "code",
   "execution_count": 20,
   "metadata": {},
   "outputs": [
    {
     "data": {
      "text/plain": [
       "['Ambiance : Ambiance agréable',\n",
       " 'Service : Accueil chaleureux',\n",
       " 'Service : Problemlösung : Schnelle Problemlösung bei Fehlern',\n",
       " 'Produits : Qualité des produits : Qualité de la nourriture',\n",
       " 'Produits : Qualité des produits : Qualité du café']"
      ]
     },
     "execution_count": 20,
     "metadata": {},
     "output_type": "execute_result"
    }
   ],
   "source": [
    "[x['elementary_subject'] for x in positive_elementary_subjects[:5]]"
   ]
  },
  {
   "cell_type": "code",
   "execution_count": 24,
   "metadata": {},
   "outputs": [
    {
     "name": "stdout",
     "output_type": "stream",
     "text": [
      "11\n"
     ]
    },
    {
     "data": {
      "text/plain": [
       "['Service : Comportement du personnel : Serveur impoli ou nerveux',\n",
       " 'Magasin : Aménagement : Emplacement du mobilier inapproprié',\n",
       " \"Accessibilité : Difficulté d'accès pour les fauteuils roulants\",\n",
       " 'Produits : Problème de qualité : Chocolat non consommable',\n",
       " 'Prix : Tarifs élevés']"
      ]
     },
     "execution_count": 24,
     "metadata": {},
     "output_type": "execute_result"
    }
   ],
   "source": [
    "negative_elementary_subjects = get_elementary_subjects(BRAND, 'negative')\n",
    "\n",
    "print(len(negative_elementary_subjects))\n",
    "\n",
    "[x['elementary_subject'] for x in negative_elementary_subjects[:5]]"
   ]
  }
 ],
 "metadata": {
  "kernelspec": {
   "display_name": ".venv",
   "language": "python",
   "name": "python3"
  },
  "language_info": {
   "codemirror_mode": {
    "name": "ipython",
    "version": 3
   },
   "file_extension": ".py",
   "mimetype": "text/x-python",
   "name": "python",
   "nbconvert_exporter": "python",
   "pygments_lexer": "ipython3",
   "version": "3.9.20"
  },
  "orig_nbformat": 4
 },
 "nbformat": 4,
 "nbformat_minor": 2
}
