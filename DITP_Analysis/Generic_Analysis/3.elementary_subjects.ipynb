{
 "cells": [
  {
   "cell_type": "code",
   "execution_count": 2,
   "metadata": {},
   "outputs": [],
   "source": [
    "import json\n",
    "import boto3\n",
    "import pandas as pd\n",
    "\n",
    "from utils.analysis_utils import classify_one_feedback\n",
    "from utils.database import get_field_value\n",
    "from pymongo import MongoClient\n",
    "import certifi"
   ]
  },
  {
   "cell_type": "code",
   "execution_count": 3,
   "metadata": {},
   "outputs": [],
   "source": [
    "_secrets_manager_client = boto3.client(\"secretsmanager\", region_name=\"eu-west-3\")\n",
    "\n",
    "_secrets = json.loads(\n",
    "    _secrets_manager_client.get_secret_value(\n",
    "        SecretId=f\"Prod/alloreview\"\n",
    "    )[\"SecretString\"]\n",
    ")\n",
    "MONGO_CONNECTION_STRING = (\n",
    "    \"mongodb+srv://alloreview:{}@feedbacksdev.cuwx1.mongodb.net\".format(\n",
    "        _secrets[\"mongodb\"][\"password\"]\n",
    "    )\n",
    ")\n",
    "mongo_client = MongoClient(MONGO_CONNECTION_STRING,tlsCAFile=certifi.where())\n",
    "\n",
    "collection = mongo_client['feedbacks_db']['feedbacks_Prod']"
   ]
  },
  {
   "attachments": {},
   "cell_type": "markdown",
   "metadata": {},
   "source": [
    "# Generating Elementary Subjects\n",
    "\n",
    "After creating all the extractions, our objective is to generate elementary subjects.\n",
    "\n",
    "We use the following method:\n",
    "\n",
    "1. For each extraction, we attempt to classify it among the existing elementary subjects.\n",
    "2. If no subject matches, we generate a new one.\n",
    "3. As we progress, we also verify that we are not generating duplicates.\n",
    "\n",
    "## Process\n",
    "\n",
    "We classify and generate our elementary subjects progressively:\n",
    "\n",
    "1. Classify each extraction\n",
    "2. Generate new subjects as needed\n",
    "3. Check for duplicates\n",
    "\n",
    "By the end of this process, after classifying everything, we will have generated all our subjects.\n",
    "\n",
    "## Database Storage\n",
    "\n",
    "The elementary subjects are pushed into the `elementary_subjects_dev` database."
   ]
  },
  {
   "cell_type": "code",
   "execution_count": 4,
   "metadata": {},
   "outputs": [],
   "source": [
    "BRAND = 'columbuscafe_test'\n",
    "\n",
    "BRAND_DESCR = '''\n",
    "Feedbacks are from client of columbus cafe.\n",
    "Columbus Café & Co est une chaîne française de cafés.\n",
    "'''"
   ]
  },
  {
   "cell_type": "code",
   "execution_count": 5,
   "metadata": {},
   "outputs": [
    {
     "data": {
      "text/plain": [
       "(2994, 16)"
      ]
     },
     "execution_count": 5,
     "metadata": {},
     "output_type": "execute_result"
    }
   ],
   "source": [
    "# getting feedbacks from mongo\n",
    "\n",
    "from_mongo = pd.DataFrame(list(collection.aggregate([\n",
    "    {\n",
    "        '$match': {\n",
    "            'brand': BRAND,\n",
    "        },\n",
    "    },\n",
    "])))\n",
    "\n",
    "from_mongo.shape"
   ]
  },
  {
   "cell_type": "code",
   "execution_count": 6,
   "metadata": {},
   "outputs": [
    {
     "name": "stdout",
     "output_type": "stream",
     "text": [
      "(59, 16)\n",
      "Service courtois. Préparation des beignets par un employé exposé comme un poisson dans un aquarium. Perso, je n'aimerais pas trop travaillé exposé comme ça. Enfin. Bref. Petit espace sympa pour manger sur place, bien situé, sous un puit de lumière. 😎 Produits  d'excellente qualité. 👍 En rapport avec 💵 dépensé. Ça fait une bonne pause goûter au cours des courses.\n"
     ]
    }
   ],
   "source": [
    "# keeping only feedbacks with extractions and splitted_analysis_v2\n",
    "\n",
    "subdf = from_mongo[from_mongo['extractions'].notna()]\n",
    "subdf = subdf[subdf['splitted_analysis_v2'].notna()]\n",
    "print(subdf.shape)\n",
    "\n",
    "row = subdf.sample().iloc[0]\n",
    "\n",
    "print(row.verbatim['text'])"
   ]
  },
  {
   "cell_type": "code",
   "execution_count": 7,
   "metadata": {},
   "outputs": [
    {
     "data": {
      "text/plain": [
       "[{'sentiment': 'POSITIVE',\n",
       "  'extraction': 'Service courtois',\n",
       "  'text': 'Service courtois.',\n",
       "  'elementary_subjects': [\"Service : Qualité de l'équipe\"],\n",
       "  'topics': []},\n",
       " {'sentiment': 'NEGATIVE',\n",
       "  'extraction': 'Préparation des beignets exposée de manière peu agréable',\n",
       "  'text': ' Préparation des beignets par un employé exposé comme un poisson dans un aquarium.',\n",
       "  'elementary_subjects': ['Produits : Problème de présentation : Présentation des beignets peu agréable'],\n",
       "  'topics': []},\n",
       " {'sentiment': 'NEGATIVE',\n",
       "  'extraction': 'Préparation des beignets exposée de manière peu agréable',\n",
       "  'text': \" je n'aimerais pas trop travaillé exposé comme ça.\",\n",
       "  'elementary_subjects': ['Produits : Problème de présentation : Présentation des beignets peu agréable'],\n",
       "  'topics': []},\n",
       " {'sentiment': 'POSITIVE',\n",
       "  'extraction': 'Petit espace sympa pour manger sur place',\n",
       "  'text': ' Petit espace sympa pour manger sur place,',\n",
       "  'elementary_subjects': ['Ambiance : Ambiance agréable'],\n",
       "  'topics': []},\n",
       " {'sentiment': 'POSITIVE',\n",
       "  'extraction': 'Bien situé',\n",
       "  'text': ' bien situé,',\n",
       "  'elementary_subjects': [\"Emplacement : Qualité de l'emplacement\"],\n",
       "  'topics': []},\n",
       " {'sentiment': 'POSITIVE',\n",
       "  'extraction': 'Espace sous un puits de lumière',\n",
       "  'text': ' sous un puit de lumière.',\n",
       "  'elementary_subjects': [\"Ambiance : Qualité de l'espace : Espace sous un puits de lumière\"],\n",
       "  'topics': []},\n",
       " {'sentiment': 'POSITIVE',\n",
       "  'extraction': \"Produits d'excellente qualité\",\n",
       "  'text': \" 😎 Produits  d'excellente qualité.\",\n",
       "  'elementary_subjects': ['Produits : Qualité des produits : Qualité générale des produits'],\n",
       "  'topics': [{'topic': {'1': 'Personnel', '2': 'Aimabilité du personnel'},\n",
       "    'classification_scheme_id': ObjectId('66df25bf365a29ed53caf5a2'),\n",
       "    'classification_scheme_name': 'Test Classification Scheme'}]},\n",
       " {'sentiment': 'POSITIVE',\n",
       "  'extraction': 'Bon rapport qualité-prix',\n",
       "  'text': ' 👍 En rapport avec 💵 dépensé.',\n",
       "  'elementary_subjects': ['Prix : Rapport qualité-prix'],\n",
       "  'topics': [{'topic': {'1': 'Prix', '2': 'Prix des produits'},\n",
       "    'classification_scheme_id': ObjectId('66df25bf365a29ed53caf5a2'),\n",
       "    'classification_scheme_name': 'Test Classification Scheme'}]},\n",
       " {'sentiment': 'POSITIVE',\n",
       "  'extraction': 'Bonne pause goûter pendant les courses',\n",
       "  'text': ' Ça fait une bonne pause goûter au cours des courses.',\n",
       "  'elementary_subjects': ['Produits : Satisfaction générale : Satisfaction lors de la pause goûter'],\n",
       "  'topics': []}]"
      ]
     },
     "execution_count": 7,
     "metadata": {},
     "output_type": "execute_result"
    }
   ],
   "source": [
    "extractions = get_field_value(\n",
    "    feedback_id=row['_id'],\n",
    "    field_name='extractions',\n",
    ")\n",
    "\n",
    "extractions"
   ]
  },
  {
   "attachments": {},
   "cell_type": "markdown",
   "metadata": {},
   "source": [
    "The function `classify_one_feedback` is used to classify each extraction."
   ]
  },
  {
   "cell_type": "code",
   "execution_count": 10,
   "metadata": {},
   "outputs": [
    {
     "name": "stdout",
     "output_type": "stream",
     "text": [
      "Updating feedback columbuscafe_test/d04ec381e414f002aaf3 with updates: {'extractions': [{'sentiment': 'POSITIVE', 'extraction': 'Personnel drôle et sympathique', 'text': ' et je suis tombée sur un personnel drôle et sympathique !', 'elementary_subjects': [\"Service : Qualité de l'équipe\"], 'topics': []}, {'sentiment': 'NEGATIVE', 'extraction': \"Prix élevés pour les budgets d'étudiant\", 'text': ' Les prix sont un peu élevés pour les budgets d’étudiant.', 'elementary_subjects': ['Prix : Tarifs élevés'], 'topics': [{'topic': {'1': 'Prix', '2': 'Prix des produits'}, 'classification_scheme_id': ObjectId('66df25bf365a29ed53caf5a2'), 'classification_scheme_name': 'Test Classification Scheme'}]}, {'sentiment': 'POSITIVE', 'extraction': 'Recommandation du matcha coco', 'text': ' mais je recommande le matcha coco (:', 'elementary_subjects': ['Produits : Recommandation de produits : Recommandation du matcha coco'], 'topics': []}], 'splitted_analysis_v2': [{'text': 'Je suis venue au Columbus Café en fin d’après-midi,'}, {'text': ' le vendredi 14 avril,'}, {'text': ' et je suis tombée sur un personnel drôle et sympathique !', 'extractions': [{'sentiment': 'POSITIVE', 'extraction': 'Personnel drôle et sympathique', 'text': ' et je suis tombée sur un personnel drôle et sympathique !', 'elementary_subjects': [\"Service : Qualité de l'équipe\"], 'topics': []}]}, {'text': ' Les prix sont un peu élevés pour les budgets d’étudiant.', 'extractions': [{'sentiment': 'NEGATIVE', 'extraction': \"Prix élevés pour les budgets d'étudiant\", 'text': ' Les prix sont un peu élevés pour les budgets d’étudiant.', 'elementary_subjects': ['Prix : Tarifs élevés'], 'topics': [{'topic': {'1': 'Prix', '2': 'Prix des produits'}, 'classification_scheme_id': ObjectId('66df25bf365a29ed53caf5a2'), 'classification_scheme_name': 'Test Classification Scheme'}]}]}, {'text': 'es,'}, {'text': ' mais je recommande le matcha coco (:', 'extractions': [{'sentiment': 'POSITIVE', 'extraction': 'Recommandation du matcha coco', 'text': ' mais je recommande le matcha coco (:', 'elementary_subjects': ['Produits : Recommandation de produits : Recommandation du matcha coco'], 'topics': []}]}], 'topics_v2': [{'topic': {'1': 'Prix', '2': 'Prix des produits'}, 'classification_scheme_id': ObjectId('66df25bf365a29ed53caf5a2'), 'classification_scheme_name': 'Test Classification Scheme'}]}\n",
      "[check_duplicates()] unterminated string literal (detected at line 15) (<string>, line 15)\n"
     ]
    },
    {
     "data": {
      "text/plain": [
       "{'id': 'columbuscafe_test/d04ec381e414f002aaf3',\n",
       " 'extractions': [{'sentiment': 'POSITIVE',\n",
       "   'extraction': 'Personnel drôle et sympathique',\n",
       "   'text': ' et je suis tombée sur un personnel drôle et sympathique !',\n",
       "   'elementary_subjects': [\"Service : Qualité de l'équipe\"],\n",
       "   'topics': []},\n",
       "  {'sentiment': 'NEGATIVE',\n",
       "   'extraction': \"Prix élevés pour les budgets d'étudiant\",\n",
       "   'text': ' Les prix sont un peu élevés pour les budgets d’étudiant.',\n",
       "   'elementary_subjects': ['Prix : Tarifs élevés'],\n",
       "   'topics': [{'topic': {'1': 'Prix', '2': 'Prix des produits'},\n",
       "     'classification_scheme_id': ObjectId('66df25bf365a29ed53caf5a2'),\n",
       "     'classification_scheme_name': 'Test Classification Scheme'}]},\n",
       "  {'sentiment': 'POSITIVE',\n",
       "   'extraction': 'Recommandation du matcha coco',\n",
       "   'text': ' mais je recommande le matcha coco (:',\n",
       "   'elementary_subjects': ['Produits : Recommandation de produits : Recommandation du matcha coco'],\n",
       "   'topics': []}]}"
      ]
     },
     "execution_count": 10,
     "metadata": {},
     "output_type": "execute_result"
    }
   ],
   "source": [
    "res = classify_one_feedback(\n",
    "    feedback_id=row['_id'],\n",
    "    extractions=extractions,\n",
    "    model=\"gpt-4o-mini\",\n",
    "    brand=BRAND,\n",
    "    brand_descr=BRAND_DESCR,\n",
    "    language=\"french\",\n",
    "    extractions_column=\"extractions\",\n",
    "    update_mongo=True\n",
    ")\n",
    "\n",
    "res"
   ]
  },
  {
   "cell_type": "code",
   "execution_count": 11,
   "metadata": {},
   "outputs": [],
   "source": [
    "# this function allows to parallelize the analysis process and to save the results on the mongo database\n",
    "from utils.analysis_utils import run_analysis_full_parallel"
   ]
  },
  {
   "cell_type": "code",
   "execution_count": 12,
   "metadata": {},
   "outputs": [
    {
     "name": "stdout",
     "output_type": "stream",
     "text": [
      "To extract: 10\n"
     ]
    }
   ],
   "source": [
    "to_analyse = subdf.sample(10) # test on a subset\n",
    "print('To extract:', to_analyse.shape[0])\n",
    "\n",
    "extractions_with_ids = to_analyse[['extractions', '_id']].to_dict(orient='records')"
   ]
  },
  {
   "cell_type": "code",
   "execution_count": 13,
   "metadata": {},
   "outputs": [
    {
     "name": "stderr",
     "output_type": "stream",
     "text": [
      "Processing chunks:   0%|          | 0/1 [00:00<?, ?it/s]"
     ]
    },
    {
     "name": "stdout",
     "output_type": "stream",
     "text": [
      "Updating feedback columbuscafe_test/1976c554cdd362249798 with updates: {'extractions': [], 'splitted_analysis_v2': [], 'topics_v2': []}\n",
      "Updating feedback columbuscafe_test/5c9bb9d227a8028911e2 with updates: {'extractions': [{'sentiment': 'POSITIVE', 'extraction': 'Appréciation générale', 'text': '1👍'}], 'splitted_analysis_v2': [{'text': '1👍', 'extractions': [{'sentiment': 'POSITIVE', 'extraction': 'Appréciation générale', 'text': '1👍'}]}], 'topics_v2': []}\n",
      "Updating feedback columbuscafe_test/5b6e404652649c8ae22e with updates: {'extractions': [{'sentiment': 'POSITIVE', 'extraction': 'Appréciation générale', 'text': '2👍', 'elementary_subjects': ['Satisfaction générale : Volonté de revenir'], 'topics': []}], 'splitted_analysis_v2': [{'text': '2👍', 'extractions': [{'sentiment': 'POSITIVE', 'extraction': 'Appréciation générale', 'text': '2👍', 'elementary_subjects': ['Satisfaction générale : Volonté de revenir'], 'topics': []}]}], 'topics_v2': []}\n",
      "Updating feedback columbuscafe_test/ece98e66b43e4fbbdbb4 with updates: {'extractions': [{'sentiment': 'POSITIVE', 'extraction': 'Rapport qualité-prix avantageux', 'text': 'rapport qualité prix prix avantageux', 'elementary_subjects': ['Prix : Rapport qualité-prix'], 'topics': [{'topic': {'1': 'Prix', '2': 'Prix des produits'}, 'classification_scheme_id': ObjectId('66df25bf365a29ed53caf5a2'), 'classification_scheme_name': 'Test Classification Scheme'}]}], 'splitted_analysis_v2': [{'text': 'rapport qualité prix prix avantageux', 'extractions': [{'sentiment': 'POSITIVE', 'extraction': 'Rapport qualité-prix avantageux', 'text': 'rapport qualité prix prix avantageux', 'elementary_subjects': ['Prix : Rapport qualité-prix'], 'topics': [{'topic': {'1': 'Prix', '2': 'Prix des produits'}, 'classification_scheme_id': ObjectId('66df25bf365a29ed53caf5a2'), 'classification_scheme_name': 'Test Classification Scheme'}]}]}], 'topics_v2': [{'topic': {'1': 'Prix', '2': 'Prix des produits'}, 'classification_scheme_id': ObjectId('66df25bf365a29ed53caf5a2'), 'classification_scheme_name': 'Test Classification Scheme'}]}\n",
      "Updating feedback columbuscafe_test/e0e6365ca6e5f9be3d6b with updates: {'extractions': [{'sentiment': 'POSITIVE', 'extraction': 'Super accueil', 'text': 'Super accueil 😁', 'elementary_subjects': ['Service : Accueil chaleureux'], 'topics': [{'topic': {'1': 'Personnel', '2': 'Aimabilité du personnel'}, 'classification_scheme_id': ObjectId('66df25bf365a29ed53caf5a2'), 'classification_scheme_name': 'Test Classification Scheme'}]}], 'splitted_analysis_v2': [{'text': 'Super accueil 😁', 'extractions': [{'sentiment': 'POSITIVE', 'extraction': 'Super accueil', 'text': 'Super accueil 😁', 'elementary_subjects': ['Service : Accueil chaleureux'], 'topics': [{'topic': {'1': 'Personnel', '2': 'Aimabilité du personnel'}, 'classification_scheme_id': ObjectId('66df25bf365a29ed53caf5a2'), 'classification_scheme_name': 'Test Classification Scheme'}]}]}], 'topics_v2': [{'topic': {'1': 'Personnel', '2': 'Aimabilité du personnel'}, 'classification_scheme_id': ObjectId('66df25bf365a29ed53caf5a2'), 'classification_scheme_name': 'Test Classification Scheme'}]}\n",
      "Updating feedback columbuscafe_test/3637b6c505ac86f55a53 with updates: {'extractions': [{'sentiment': 'POSITIVE', 'extraction': 'Service très bon', 'text': 'Très bon,', 'elementary_subjects': [\"Service : Qualité de l'équipe\"], 'topics': []}, {'sentiment': 'POSITIVE', 'extraction': 'Service très bon', 'text': ' et très serviable de leur part,', 'elementary_subjects': [\"Service : Qualité de l'équipe\"], 'topics': []}, {'sentiment': 'POSITIVE', 'extraction': 'Nourriture proposée est bonne', 'text': ' la nourriture proposé est bonne', 'elementary_subjects': ['Produits : Qualité des produits : Qualité de la nourriture'], 'topics': [{'topic': {'1': 'Personnel', '2': 'Aimabilité du personnel'}, 'classification_scheme_id': ObjectId('66df25bf365a29ed53caf5a2'), 'classification_scheme_name': 'Test Classification Scheme'}]}], 'splitted_analysis_v2': [{'text': 'Très bon,', 'extractions': [{'sentiment': 'POSITIVE', 'extraction': 'Service très bon', 'text': ' et très serviable de leur part,', 'elementary_subjects': [\"Service : Qualité de l'équipe\"], 'topics': []}]}, {'text': ' et très serviable de leur part,', 'extractions': [{'sentiment': 'POSITIVE', 'extraction': 'Service très bon', 'text': ' et très serviable de leur part,', 'elementary_subjects': [\"Service : Qualité de l'équipe\"], 'topics': []}]}, {'text': ' la nourriture proposé est bonne', 'extractions': [{'sentiment': 'POSITIVE', 'extraction': 'Nourriture proposée est bonne', 'text': ' la nourriture proposé est bonne', 'elementary_subjects': ['Produits : Qualité des produits : Qualité de la nourriture'], 'topics': [{'topic': {'1': 'Personnel', '2': 'Aimabilité du personnel'}, 'classification_scheme_id': ObjectId('66df25bf365a29ed53caf5a2'), 'classification_scheme_name': 'Test Classification Scheme'}]}]}], 'topics_v2': [{'topic': {'1': 'Personnel', '2': 'Aimabilité du personnel'}, 'classification_scheme_id': ObjectId('66df25bf365a29ed53caf5a2'), 'classification_scheme_name': 'Test Classification Scheme'}]}\n",
      "Updating feedback columbuscafe_test/72f750f6fe9766ce0e77 with updates: {'extractions': [{'sentiment': 'NEGATIVE', 'extraction': 'Erreur dans la commande', 'text': 'Encore une fois une erreur dans la commande,', 'elementary_subjects': ['Service : Problème de traitement des commandes : Commande non traitée'], 'topics': []}, {'sentiment': 'NEGATIVE', 'extraction': 'Problèmes récurrents avec les commandes sur Deliveroo', 'text': ' comme à chaque commande réalisée sur Deliveroo.', 'elementary_subjects': ['Service : Problème de traitement des commandes : Problèmes avec les commandes sur Deliveroo'], 'topics': []}, {'sentiment': 'POSITIVE', 'extraction': 'Service généralement bon en boutique', 'text': ' Cliente de la boutique le service est toujours bien sauf quand on commande !', 'elementary_subjects': [\"Service : Qualité de l'équipe\"], 'topics': []}, {'sentiment': 'NEGATIVE', 'extraction': 'Prix élevé des petites boissons avec frais', 'text': ' Sauf que lorsqu’on paye une petite boisson 8€ avec les frais ça fait râler à force.', 'elementary_subjects': ['Prix : Tarifs élevés'], 'topics': [{'topic': {'1': 'Prix', '2': 'Prix des produits'}, 'classification_scheme_id': ObjectId('66df25bf365a29ed53caf5a2'), 'classification_scheme_name': 'Test Classification Scheme'}]}], 'splitted_analysis_v2': [{'text': 'Encore une fois une erreur dans la commande,', 'extractions': [{'sentiment': 'NEGATIVE', 'extraction': 'Erreur dans la commande', 'text': 'Encore une fois une erreur dans la commande,', 'elementary_subjects': ['Service : Problème de traitement des commandes : Commande non traitée'], 'topics': []}]}, {'text': ' comme à chaque commande réalisée sur Deliveroo.', 'extractions': [{'sentiment': 'NEGATIVE', 'extraction': 'Problèmes récurrents avec les commandes sur Deliveroo', 'text': ' comme à chaque commande réalisée sur Deliveroo.', 'elementary_subjects': ['Service : Problème de traitement des commandes : Problèmes avec les commandes sur Deliveroo'], 'topics': []}]}, {'text': ' Cliente de la boutique le service est toujours bien sauf quand on commande !', 'extractions': [{'sentiment': 'POSITIVE', 'extraction': 'Service généralement bon en boutique', 'text': ' Cliente de la boutique le service est toujours bien sauf quand on commande !', 'elementary_subjects': [\"Service : Qualité de l'équipe\"], 'topics': []}]}, {'text': ' Sauf que lorsqu’on paye une petite boisson 8€ avec les frais ça fait râler à force.', 'extractions': [{'sentiment': 'NEGATIVE', 'extraction': 'Prix élevé des petites boissons avec frais', 'text': ' Sauf que lorsqu’on paye une petite boisson 8€ avec les frais ça fait râler à force.', 'elementary_subjects': ['Prix : Tarifs élevés'], 'topics': [{'topic': {'1': 'Prix', '2': 'Prix des produits'}, 'classification_scheme_id': ObjectId('66df25bf365a29ed53caf5a2'), 'classification_scheme_name': 'Test Classification Scheme'}]}]}, {'text': ' '}], 'topics_v2': [{'topic': {'1': 'Prix', '2': 'Prix des produits'}, 'classification_scheme_id': ObjectId('66df25bf365a29ed53caf5a2'), 'classification_scheme_name': 'Test Classification Scheme'}]}\n",
      "Updating feedback columbuscafe_test/f9e272df0d4fd82a2c18 with updates: {'extractions': [{'sentiment': 'NEGATIVE', 'extraction': 'Mauvaise gestion des clients par les serveuses', 'text': \"Les serveuses s'occupent mal des clients .\", 'elementary_subjects': ['Service : Organisation du personnel : Désorganisation du personnel'], 'topics': []}, {'sentiment': 'NEGATIVE', 'extraction': 'Attente excessive pour le service', 'text': \"Le bipeur bip personnes s'occupent de toi au bout de 5 min j'ai pris mon plateau et parti.\", 'elementary_subjects': [\"Service : Temps d'attente : Longue attente\"], 'topics': [{'topic': {'1': 'Service', '2': 'Rapidité du service'}, 'classification_scheme_id': ObjectId('66df25bf365a29ed53caf5a2'), 'classification_scheme_name': 'Test Classification Scheme'}]}, {'sentiment': 'NEGATIVE', 'extraction': 'Chocolat et cappuccino de mauvaise qualité', 'text': 'Le chocolat et le capuccino infecte imbuvable..', 'elementary_subjects': ['Produits : Problème de qualité : Cappuccino de mauvaise qualité'], 'topics': [{'topic': {'1': 'Personnel', '2': 'Aimabilité du personnel'}, 'classification_scheme_id': ObjectId('66df25bf365a29ed53caf5a2'), 'classification_scheme_name': 'Test Classification Scheme'}]}, {'sentiment': 'NEGATIVE', 'extraction': 'Décision de ne plus retourner dans ce Columbus Café', 'text': 'un endroit plus jamais je retournerai et pourtant je vais souvent dans des columbus mais alors celui la plus jamais', 'elementary_subjects': [\"Service : Insatisfaction générale sur l'établissement\"], 'topics': []}], 'splitted_analysis_v2': [{'text': \"Les serveuses s'occupent mal des clients .\", 'extractions': [{'sentiment': 'NEGATIVE', 'extraction': 'Mauvaise gestion des clients par les serveuses', 'text': \"Les serveuses s'occupent mal des clients .\", 'elementary_subjects': ['Service : Organisation du personnel : Désorganisation du personnel'], 'topics': []}]}, {'text': \"Le bipeur bip personnes s'occupent de toi au bout de 5 min j'ai pris mon plateau et parti.\", 'extractions': [{'sentiment': 'NEGATIVE', 'extraction': 'Attente excessive pour le service', 'text': \"Le bipeur bip personnes s'occupent de toi au bout de 5 min j'ai pris mon plateau et parti.\", 'elementary_subjects': [\"Service : Temps d'attente : Longue attente\"], 'topics': [{'topic': {'1': 'Service', '2': 'Rapidité du service'}, 'classification_scheme_id': ObjectId('66df25bf365a29ed53caf5a2'), 'classification_scheme_name': 'Test Classification Scheme'}]}]}, {'text': 'Le chocolat et le capuccino infecte imbuvable..', 'extractions': [{'sentiment': 'NEGATIVE', 'extraction': 'Chocolat et cappuccino de mauvaise qualité', 'text': 'Le chocolat et le capuccino infecte imbuvable..', 'elementary_subjects': ['Produits : Problème de qualité : Cappuccino de mauvaise qualité'], 'topics': [{'topic': {'1': 'Personnel', '2': 'Aimabilité du personnel'}, 'classification_scheme_id': ObjectId('66df25bf365a29ed53caf5a2'), 'classification_scheme_name': 'Test Classification Scheme'}]}]}, {'text': 'un endroit plus jamais je retournerai et pourtant je vais souvent dans des columbus mais alors celui la plus jamais', 'extractions': [{'sentiment': 'NEGATIVE', 'extraction': 'Décision de ne plus retourner dans ce Columbus Café', 'text': 'un endroit plus jamais je retournerai et pourtant je vais souvent dans des columbus mais alors celui la plus jamais', 'elementary_subjects': [\"Service : Insatisfaction générale sur l'établissement\"], 'topics': []}]}], 'topics_v2': [{'topic': {'1': 'Service', '2': 'Rapidité du service'}, 'classification_scheme_id': ObjectId('66df25bf365a29ed53caf5a2'), 'classification_scheme_name': 'Test Classification Scheme'}, {'topic': {'1': 'Personnel', '2': 'Aimabilité du personnel'}, 'classification_scheme_id': ObjectId('66df25bf365a29ed53caf5a2'), 'classification_scheme_name': 'Test Classification Scheme'}]}\n",
      "Updating feedback columbuscafe_test/12e3c568ad741bf2ef96 with updates: {'extractions': [{'sentiment': 'NEGATIVE', 'extraction': 'Attente de 25 minutes pour un café', 'text': 'Attendu 25 mn pour un café ….', 'elementary_subjects': [\"Service : Temps d'attente : Longue attente\"], 'topics': [{'topic': {'1': 'Service', '2': 'Rapidité du service'}, 'classification_scheme_id': ObjectId('66df25bf365a29ed53caf5a2'), 'classification_scheme_name': 'Test Classification Scheme'}]}, {'sentiment': 'NEGATIVE', 'extraction': 'Service insuffisant avec une seule serveuse', 'text': ' 1 serveuse …..', 'elementary_subjects': ['Service : Organisation du personnel : Désorganisation du personnel'], 'topics': []}, {'sentiment': 'NEGATIVE', 'extraction': 'Café de mauvaise qualité', 'text': ' et en plus le café n’est pas bon …\\n', 'elementary_subjects': ['Produits : Problème de qualité : Café de mauvaise qualité'], 'topics': [{'topic': {'1': 'Personnel', '2': 'Aimabilité du personnel'}, 'classification_scheme_id': ObjectId('66df25bf365a29ed53caf5a2'), 'classification_scheme_name': 'Test Classification Scheme'}]}, {'sentiment': 'NEGATIVE', 'extraction': 'Déception générale', 'text': 'Vraiment très déçu,'}, {'sentiment': 'NEGATIVE', 'extraction': 'Décision de ne pas revenir', 'text': ' ne reviendrai plus !'}], 'splitted_analysis_v2': [{'text': 'Attendu 25 mn pour un café ….', 'extractions': [{'sentiment': 'NEGATIVE', 'extraction': 'Attente de 25 minutes pour un café', 'text': 'Attendu 25 mn pour un café ….', 'elementary_subjects': [\"Service : Temps d'attente : Longue attente\"], 'topics': [{'topic': {'1': 'Service', '2': 'Rapidité du service'}, 'classification_scheme_id': ObjectId('66df25bf365a29ed53caf5a2'), 'classification_scheme_name': 'Test Classification Scheme'}]}]}, {'text': ' 1 serveuse …..', 'extractions': [{'sentiment': 'NEGATIVE', 'extraction': 'Service insuffisant avec une seule serveuse', 'text': ' 1 serveuse …..', 'elementary_subjects': ['Service : Organisation du personnel : Désorganisation du personnel'], 'topics': []}]}, {'text': ' et en plus le café n’est pas bon …\\n', 'extractions': [{'sentiment': 'NEGATIVE', 'extraction': 'Café de mauvaise qualité', 'text': ' et en plus le café n’est pas bon …\\n', 'elementary_subjects': ['Produits : Problème de qualité : Café de mauvaise qualité'], 'topics': [{'topic': {'1': 'Personnel', '2': 'Aimabilité du personnel'}, 'classification_scheme_id': ObjectId('66df25bf365a29ed53caf5a2'), 'classification_scheme_name': 'Test Classification Scheme'}]}]}, {'text': 'Vraiment très déçu,', 'extractions': [{'sentiment': 'NEGATIVE', 'extraction': 'Déception générale', 'text': 'Vraiment très déçu,'}]}, {'text': ' ne reviendrai plus !', 'extractions': [{'sentiment': 'NEGATIVE', 'extraction': 'Décision de ne pas revenir', 'text': ' ne reviendrai plus !'}]}, {'text': ' …'}], 'topics_v2': [{'topic': {'1': 'Service', '2': 'Rapidité du service'}, 'classification_scheme_id': ObjectId('66df25bf365a29ed53caf5a2'), 'classification_scheme_name': 'Test Classification Scheme'}, {'topic': {'1': 'Personnel', '2': 'Aimabilité du personnel'}, 'classification_scheme_id': ObjectId('66df25bf365a29ed53caf5a2'), 'classification_scheme_name': 'Test Classification Scheme'}]}\n",
      "[check_duplicates()] invalid syntax (<string>, line 4)\n",
      "[check_duplicates()] invalid syntax (<string>, line 4)\n",
      "Updating feedback columbuscafe_test/43f07543c941a5d88922 with updates: {'extractions': [{'sentiment': 'POSITIVE', 'extraction': 'Service courtois', 'text': 'Service courtois.', 'elementary_subjects': [\"Service : Qualité de l'équipe\"], 'topics': []}, {'sentiment': 'NEGATIVE', 'extraction': 'Préparation des beignets exposée de manière peu agréable', 'text': ' Préparation des beignets par un employé exposé comme un poisson dans un aquarium.', 'elementary_subjects': ['Produits : Problème de présentation : Présentation des beignets peu agréable'], 'topics': []}, {'sentiment': 'NEGATIVE', 'extraction': 'Préparation des beignets exposée de manière peu agréable', 'text': \" je n'aimerais pas trop travaillé exposé comme ça.\", 'elementary_subjects': ['Produits : Problème de présentation : Présentation des beignets peu agréable'], 'topics': []}, {'sentiment': 'POSITIVE', 'extraction': 'Petit espace sympa pour manger sur place', 'text': ' Petit espace sympa pour manger sur place,', 'elementary_subjects': ['Ambiance : Ambiance agréable'], 'topics': []}, {'sentiment': 'POSITIVE', 'extraction': 'Bien situé', 'text': ' bien situé,', 'elementary_subjects': [\"Emplacement : Qualité de l'emplacement\"], 'topics': []}, {'sentiment': 'POSITIVE', 'extraction': 'Espace sous un puits de lumière', 'text': ' sous un puit de lumière.', 'elementary_subjects': [\"Ambiance : Qualité de l'espace : Espace sous un puits de lumière\"], 'topics': []}, {'sentiment': 'POSITIVE', 'extraction': \"Produits d'excellente qualité\", 'text': \" 😎 Produits  d'excellente qualité.\", 'elementary_subjects': ['Produits : Qualité des produits : Qualité générale des produits'], 'topics': [{'topic': {'1': 'Personnel', '2': 'Aimabilité du personnel'}, 'classification_scheme_id': ObjectId('66df25bf365a29ed53caf5a2'), 'classification_scheme_name': 'Test Classification Scheme'}]}, {'sentiment': 'POSITIVE', 'extraction': 'Bon rapport qualité-prix', 'text': ' 👍 En rapport avec 💵 dépensé.', 'elementary_subjects': ['Prix : Rapport qualité-prix'], 'topics': [{'topic': {'1': 'Prix', '2': 'Prix des produits'}, 'classification_scheme_id': ObjectId('66df25bf365a29ed53caf5a2'), 'classification_scheme_name': 'Test Classification Scheme'}]}, {'sentiment': 'POSITIVE', 'extraction': 'Bonne pause goûter pendant les courses', 'text': ' Ça fait une bonne pause goûter au cours des courses.', 'elementary_subjects': ['Produits : Satisfaction générale : Satisfaction lors de la pause goûter'], 'topics': []}], 'splitted_analysis_v2': [{'text': 'Service courtois.', 'extractions': [{'sentiment': 'POSITIVE', 'extraction': 'Service courtois', 'text': 'Service courtois.', 'elementary_subjects': [\"Service : Qualité de l'équipe\"], 'topics': []}]}, {'text': ' Préparation des beignets par un employé exposé comme un poisson dans un aquarium.', 'extractions': [{'sentiment': 'NEGATIVE', 'extraction': 'Préparation des beignets exposée de manière peu agréable', 'text': \" je n'aimerais pas trop travaillé exposé comme ça.\", 'elementary_subjects': ['Produits : Problème de présentation : Présentation des beignets peu agréable'], 'topics': []}]}, {'text': ' Perso,'}, {'text': \" je n'aimerais pas trop travaillé exposé comme ça.\", 'extractions': [{'sentiment': 'NEGATIVE', 'extraction': 'Préparation des beignets exposée de manière peu agréable', 'text': \" je n'aimerais pas trop travaillé exposé comme ça.\", 'elementary_subjects': ['Produits : Problème de présentation : Présentation des beignets peu agréable'], 'topics': []}]}, {'text': ' Enfin.'}, {'text': ' Bref.'}, {'text': ' Petit espace sympa pour manger sur place,', 'extractions': [{'sentiment': 'POSITIVE', 'extraction': 'Petit espace sympa pour manger sur place', 'text': ' Petit espace sympa pour manger sur place,', 'elementary_subjects': ['Ambiance : Ambiance agréable'], 'topics': []}]}, {'text': ' bien situé,', 'extractions': [{'sentiment': 'POSITIVE', 'extraction': 'Bien situé', 'text': ' bien situé,', 'elementary_subjects': [\"Emplacement : Qualité de l'emplacement\"], 'topics': []}]}, {'text': ' sous un puit de lumière.', 'extractions': [{'sentiment': 'POSITIVE', 'extraction': 'Espace sous un puits de lumière', 'text': ' sous un puit de lumière.', 'elementary_subjects': [\"Ambiance : Qualité de l'espace : Espace sous un puits de lumière\"], 'topics': []}]}, {'text': \" 😎 Produits  d'excellente qualité.\", 'extractions': [{'sentiment': 'POSITIVE', 'extraction': \"Produits d'excellente qualité\", 'text': \" 😎 Produits  d'excellente qualité.\", 'elementary_subjects': ['Produits : Qualité des produits : Qualité générale des produits'], 'topics': [{'topic': {'1': 'Personnel', '2': 'Aimabilité du personnel'}, 'classification_scheme_id': ObjectId('66df25bf365a29ed53caf5a2'), 'classification_scheme_name': 'Test Classification Scheme'}]}]}, {'text': ' 👍 En rapport avec 💵 dépensé.', 'extractions': [{'sentiment': 'POSITIVE', 'extraction': 'Bon rapport qualité-prix', 'text': ' 👍 En rapport avec 💵 dépensé.', 'elementary_subjects': ['Prix : Rapport qualité-prix'], 'topics': [{'topic': {'1': 'Prix', '2': 'Prix des produits'}, 'classification_scheme_id': ObjectId('66df25bf365a29ed53caf5a2'), 'classification_scheme_name': 'Test Classification Scheme'}]}]}, {'text': ' Ça fait une bonne pause goûter au cours des courses.', 'extractions': [{'sentiment': 'POSITIVE', 'extraction': 'Bonne pause goûter pendant les courses', 'text': ' Ça fait une bonne pause goûter au cours des courses.', 'elementary_subjects': ['Produits : Satisfaction générale : Satisfaction lors de la pause goûter'], 'topics': []}]}], 'topics_v2': [{'topic': {'1': 'Personnel', '2': 'Aimabilité du personnel'}, 'classification_scheme_id': ObjectId('66df25bf365a29ed53caf5a2'), 'classification_scheme_name': 'Test Classification Scheme'}, {'topic': {'1': 'Prix', '2': 'Prix des produits'}, 'classification_scheme_id': ObjectId('66df25bf365a29ed53caf5a2'), 'classification_scheme_name': 'Test Classification Scheme'}]}\n"
     ]
    },
    {
     "name": "stderr",
     "output_type": "stream",
     "text": [
      "Processing chunks: 100%|██████████| 1/1 [00:18<00:00, 18.97s/it]"
     ]
    },
    {
     "name": "stdout",
     "output_type": "stream",
     "text": [
      "[check_duplicates()] invalid syntax (<string>, line 4)\n"
     ]
    },
    {
     "name": "stderr",
     "output_type": "stream",
     "text": [
      "\n"
     ]
    },
    {
     "data": {
      "text/plain": [
       "[{'id': 'columbuscafe_test/5b6e404652649c8ae22e',\n",
       "  'extractions': [{'sentiment': 'POSITIVE',\n",
       "    'extraction': 'Appréciation générale',\n",
       "    'text': '2👍',\n",
       "    'elementary_subjects': ['Satisfaction générale : Volonté de revenir'],\n",
       "    'topics': []}]},\n",
       " {'id': 'columbuscafe_test/72f750f6fe9766ce0e77',\n",
       "  'extractions': [{'sentiment': 'NEGATIVE',\n",
       "    'extraction': 'Erreur dans la commande',\n",
       "    'text': 'Encore une fois une erreur dans la commande,',\n",
       "    'elementary_subjects': ['Service : Problème de traitement des commandes : Commande non traitée'],\n",
       "    'topics': []},\n",
       "   {'sentiment': 'NEGATIVE',\n",
       "    'extraction': 'Problèmes récurrents avec les commandes sur Deliveroo',\n",
       "    'text': ' comme à chaque commande réalisée sur Deliveroo.',\n",
       "    'elementary_subjects': ['Service : Problème de traitement des commandes : Problèmes avec les commandes sur Deliveroo'],\n",
       "    'topics': []},\n",
       "   {'sentiment': 'POSITIVE',\n",
       "    'extraction': 'Service généralement bon en boutique',\n",
       "    'text': ' Cliente de la boutique le service est toujours bien sauf quand on commande !',\n",
       "    'elementary_subjects': [\"Service : Qualité de l'équipe\"],\n",
       "    'topics': []},\n",
       "   {'sentiment': 'NEGATIVE',\n",
       "    'extraction': 'Prix élevé des petites boissons avec frais',\n",
       "    'text': ' Sauf que lorsqu’on paye une petite boisson 8€ avec les frais ça fait râler à force.',\n",
       "    'elementary_subjects': ['Prix : Tarifs élevés'],\n",
       "    'topics': [{'topic': {'1': 'Prix', '2': 'Prix des produits'},\n",
       "      'classification_scheme_id': ObjectId('66df25bf365a29ed53caf5a2'),\n",
       "      'classification_scheme_name': 'Test Classification Scheme'}]}]},\n",
       " {'id': 'columbuscafe_test/ece98e66b43e4fbbdbb4',\n",
       "  'extractions': [{'sentiment': 'POSITIVE',\n",
       "    'extraction': 'Rapport qualité-prix avantageux',\n",
       "    'text': 'rapport qualité prix prix avantageux',\n",
       "    'elementary_subjects': ['Prix : Rapport qualité-prix'],\n",
       "    'topics': [{'topic': {'1': 'Prix', '2': 'Prix des produits'},\n",
       "      'classification_scheme_id': ObjectId('66df25bf365a29ed53caf5a2'),\n",
       "      'classification_scheme_name': 'Test Classification Scheme'}]}]},\n",
       " {'id': 'columbuscafe_test/12e3c568ad741bf2ef96',\n",
       "  'extractions': [{'sentiment': 'NEGATIVE',\n",
       "    'extraction': 'Attente de 25 minutes pour un café',\n",
       "    'text': 'Attendu 25 mn pour un café ….',\n",
       "    'elementary_subjects': [\"Service : Temps d'attente : Longue attente\"],\n",
       "    'topics': [{'topic': {'1': 'Service', '2': 'Rapidité du service'},\n",
       "      'classification_scheme_id': ObjectId('66df25bf365a29ed53caf5a2'),\n",
       "      'classification_scheme_name': 'Test Classification Scheme'}]},\n",
       "   {'sentiment': 'NEGATIVE',\n",
       "    'extraction': 'Service insuffisant avec une seule serveuse',\n",
       "    'text': ' 1 serveuse …..',\n",
       "    'elementary_subjects': ['Service : Organisation du personnel : Désorganisation du personnel'],\n",
       "    'topics': []},\n",
       "   {'sentiment': 'NEGATIVE',\n",
       "    'extraction': 'Café de mauvaise qualité',\n",
       "    'text': ' et en plus le café n’est pas bon …\\n',\n",
       "    'elementary_subjects': ['Produits : Problème de qualité : Café de mauvaise qualité'],\n",
       "    'topics': [{'topic': {'1': 'Personnel', '2': 'Aimabilité du personnel'},\n",
       "      'classification_scheme_id': ObjectId('66df25bf365a29ed53caf5a2'),\n",
       "      'classification_scheme_name': 'Test Classification Scheme'}]},\n",
       "   {'sentiment': 'NEGATIVE',\n",
       "    'extraction': 'Déception générale',\n",
       "    'text': 'Vraiment très déçu,'},\n",
       "   {'sentiment': 'NEGATIVE',\n",
       "    'extraction': 'Décision de ne pas revenir',\n",
       "    'text': ' ne reviendrai plus !'}]},\n",
       " {'id': 'columbuscafe_test/e0e6365ca6e5f9be3d6b',\n",
       "  'extractions': [{'sentiment': 'POSITIVE',\n",
       "    'extraction': 'Super accueil',\n",
       "    'text': 'Super accueil 😁',\n",
       "    'elementary_subjects': ['Service : Accueil chaleureux'],\n",
       "    'topics': [{'topic': {'1': 'Personnel', '2': 'Aimabilité du personnel'},\n",
       "      'classification_scheme_id': ObjectId('66df25bf365a29ed53caf5a2'),\n",
       "      'classification_scheme_name': 'Test Classification Scheme'}]}]},\n",
       " {'id': 'columbuscafe_test/f9e272df0d4fd82a2c18',\n",
       "  'extractions': [{'sentiment': 'NEGATIVE',\n",
       "    'extraction': 'Mauvaise gestion des clients par les serveuses',\n",
       "    'text': \"Les serveuses s'occupent mal des clients .\",\n",
       "    'elementary_subjects': ['Service : Organisation du personnel : Désorganisation du personnel'],\n",
       "    'topics': []},\n",
       "   {'sentiment': 'NEGATIVE',\n",
       "    'extraction': 'Attente excessive pour le service',\n",
       "    'text': \"Le bipeur bip personnes s'occupent de toi au bout de 5 min j'ai pris mon plateau et parti.\",\n",
       "    'elementary_subjects': [\"Service : Temps d'attente : Longue attente\"],\n",
       "    'topics': [{'topic': {'1': 'Service', '2': 'Rapidité du service'},\n",
       "      'classification_scheme_id': ObjectId('66df25bf365a29ed53caf5a2'),\n",
       "      'classification_scheme_name': 'Test Classification Scheme'}]},\n",
       "   {'sentiment': 'NEGATIVE',\n",
       "    'extraction': 'Chocolat et cappuccino de mauvaise qualité',\n",
       "    'text': 'Le chocolat et le capuccino infecte imbuvable..',\n",
       "    'elementary_subjects': ['Produits : Problème de qualité : Cappuccino de mauvaise qualité'],\n",
       "    'topics': [{'topic': {'1': 'Personnel', '2': 'Aimabilité du personnel'},\n",
       "      'classification_scheme_id': ObjectId('66df25bf365a29ed53caf5a2'),\n",
       "      'classification_scheme_name': 'Test Classification Scheme'}]},\n",
       "   {'sentiment': 'NEGATIVE',\n",
       "    'extraction': 'Décision de ne plus retourner dans ce Columbus Café',\n",
       "    'text': 'un endroit plus jamais je retournerai et pourtant je vais souvent dans des columbus mais alors celui la plus jamais',\n",
       "    'elementary_subjects': [\"Service : Insatisfaction générale sur l'établissement\"],\n",
       "    'topics': []}]},\n",
       " {'id': 'columbuscafe_test/43f07543c941a5d88922',\n",
       "  'extractions': [{'sentiment': 'POSITIVE',\n",
       "    'extraction': 'Service courtois',\n",
       "    'text': 'Service courtois.',\n",
       "    'elementary_subjects': [\"Service : Qualité de l'équipe\"],\n",
       "    'topics': []},\n",
       "   {'sentiment': 'NEGATIVE',\n",
       "    'extraction': 'Préparation des beignets exposée de manière peu agréable',\n",
       "    'text': ' Préparation des beignets par un employé exposé comme un poisson dans un aquarium.',\n",
       "    'elementary_subjects': ['Produits : Problème de présentation : Présentation des beignets peu agréable'],\n",
       "    'topics': []},\n",
       "   {'sentiment': 'NEGATIVE',\n",
       "    'extraction': 'Préparation des beignets exposée de manière peu agréable',\n",
       "    'text': \" je n'aimerais pas trop travaillé exposé comme ça.\",\n",
       "    'elementary_subjects': ['Produits : Problème de présentation : Présentation des beignets peu agréable'],\n",
       "    'topics': []},\n",
       "   {'sentiment': 'POSITIVE',\n",
       "    'extraction': 'Petit espace sympa pour manger sur place',\n",
       "    'text': ' Petit espace sympa pour manger sur place,',\n",
       "    'elementary_subjects': ['Ambiance : Ambiance agréable'],\n",
       "    'topics': []},\n",
       "   {'sentiment': 'POSITIVE',\n",
       "    'extraction': 'Bien situé',\n",
       "    'text': ' bien situé,',\n",
       "    'elementary_subjects': [\"Emplacement : Qualité de l'emplacement\"],\n",
       "    'topics': []},\n",
       "   {'sentiment': 'POSITIVE',\n",
       "    'extraction': 'Espace sous un puits de lumière',\n",
       "    'text': ' sous un puit de lumière.',\n",
       "    'elementary_subjects': [\"Ambiance : Qualité de l'espace : Espace sous un puits de lumière\"],\n",
       "    'topics': []},\n",
       "   {'sentiment': 'POSITIVE',\n",
       "    'extraction': \"Produits d'excellente qualité\",\n",
       "    'text': \" 😎 Produits  d'excellente qualité.\",\n",
       "    'elementary_subjects': ['Produits : Qualité des produits : Qualité générale des produits'],\n",
       "    'topics': [{'topic': {'1': 'Personnel', '2': 'Aimabilité du personnel'},\n",
       "      'classification_scheme_id': ObjectId('66df25bf365a29ed53caf5a2'),\n",
       "      'classification_scheme_name': 'Test Classification Scheme'}]},\n",
       "   {'sentiment': 'POSITIVE',\n",
       "    'extraction': 'Bon rapport qualité-prix',\n",
       "    'text': ' 👍 En rapport avec 💵 dépensé.',\n",
       "    'elementary_subjects': ['Prix : Rapport qualité-prix'],\n",
       "    'topics': [{'topic': {'1': 'Prix', '2': 'Prix des produits'},\n",
       "      'classification_scheme_id': ObjectId('66df25bf365a29ed53caf5a2'),\n",
       "      'classification_scheme_name': 'Test Classification Scheme'}]},\n",
       "   {'sentiment': 'POSITIVE',\n",
       "    'extraction': 'Bonne pause goûter pendant les courses',\n",
       "    'text': ' Ça fait une bonne pause goûter au cours des courses.',\n",
       "    'elementary_subjects': ['Produits : Satisfaction générale : Satisfaction lors de la pause goûter'],\n",
       "    'topics': []}]},\n",
       " {'id': 'columbuscafe_test/5c9bb9d227a8028911e2',\n",
       "  'extractions': [{'sentiment': 'POSITIVE',\n",
       "    'extraction': 'Appréciation générale',\n",
       "    'text': '1👍'}]},\n",
       " {'id': 'columbuscafe_test/1976c554cdd362249798', 'extractions': []},\n",
       " {'id': 'columbuscafe_test/3637b6c505ac86f55a53',\n",
       "  'extractions': [{'sentiment': 'POSITIVE',\n",
       "    'extraction': 'Service très bon',\n",
       "    'text': 'Très bon,',\n",
       "    'elementary_subjects': [\"Service : Qualité de l'équipe\"],\n",
       "    'topics': []},\n",
       "   {'sentiment': 'POSITIVE',\n",
       "    'extraction': 'Service très bon',\n",
       "    'text': ' et très serviable de leur part,',\n",
       "    'elementary_subjects': [\"Service : Qualité de l'équipe\"],\n",
       "    'topics': []},\n",
       "   {'sentiment': 'POSITIVE',\n",
       "    'extraction': 'Nourriture proposée est bonne',\n",
       "    'text': ' la nourriture proposé est bonne',\n",
       "    'elementary_subjects': ['Produits : Qualité des produits : Qualité de la nourriture'],\n",
       "    'topics': [{'topic': {'1': 'Personnel', '2': 'Aimabilité du personnel'},\n",
       "      'classification_scheme_id': ObjectId('66df25bf365a29ed53caf5a2'),\n",
       "      'classification_scheme_name': 'Test Classification Scheme'}]}]}]"
      ]
     },
     "execution_count": 13,
     "metadata": {},
     "output_type": "execute_result"
    }
   ],
   "source": [
    "analysis = run_analysis_full_parallel(\n",
    "    extractions_with_ids,\n",
    "    BRAND,\n",
    "    brand_descr=BRAND_DESCR,\n",
    "    language='french',\n",
    "    model=\"gpt-4o-mini\",\n",
    "    save_to_mongo=True\n",
    ")\n",
    "\n",
    "analysis"
   ]
  },
  {
   "cell_type": "code",
   "execution_count": 14,
   "metadata": {},
   "outputs": [
    {
     "data": {
      "text/plain": [
       "[{'id': 'columbuscafe_test/5b6e404652649c8ae22e',\n",
       "  'extractions': [{'sentiment': 'POSITIVE',\n",
       "    'extraction': 'Appréciation générale',\n",
       "    'text': '2👍',\n",
       "    'elementary_subjects': ['Satisfaction générale : Volonté de revenir'],\n",
       "    'topics': []}]},\n",
       " {'id': 'columbuscafe_test/72f750f6fe9766ce0e77',\n",
       "  'extractions': [{'sentiment': 'NEGATIVE',\n",
       "    'extraction': 'Erreur dans la commande',\n",
       "    'text': 'Encore une fois une erreur dans la commande,',\n",
       "    'elementary_subjects': ['Service : Problème de traitement des commandes : Commande non traitée'],\n",
       "    'topics': []},\n",
       "   {'sentiment': 'NEGATIVE',\n",
       "    'extraction': 'Problèmes récurrents avec les commandes sur Deliveroo',\n",
       "    'text': ' comme à chaque commande réalisée sur Deliveroo.',\n",
       "    'elementary_subjects': ['Service : Problème de traitement des commandes : Problèmes avec les commandes sur Deliveroo'],\n",
       "    'topics': []},\n",
       "   {'sentiment': 'POSITIVE',\n",
       "    'extraction': 'Service généralement bon en boutique',\n",
       "    'text': ' Cliente de la boutique le service est toujours bien sauf quand on commande !',\n",
       "    'elementary_subjects': [\"Service : Qualité de l'équipe\"],\n",
       "    'topics': []},\n",
       "   {'sentiment': 'NEGATIVE',\n",
       "    'extraction': 'Prix élevé des petites boissons avec frais',\n",
       "    'text': ' Sauf que lorsqu’on paye une petite boisson 8€ avec les frais ça fait râler à force.',\n",
       "    'elementary_subjects': ['Prix : Tarifs élevés'],\n",
       "    'topics': [{'topic': {'1': 'Prix', '2': 'Prix des produits'},\n",
       "      'classification_scheme_id': ObjectId('66df25bf365a29ed53caf5a2'),\n",
       "      'classification_scheme_name': 'Test Classification Scheme'}]}]},\n",
       " {'id': 'columbuscafe_test/ece98e66b43e4fbbdbb4',\n",
       "  'extractions': [{'sentiment': 'POSITIVE',\n",
       "    'extraction': 'Rapport qualité-prix avantageux',\n",
       "    'text': 'rapport qualité prix prix avantageux',\n",
       "    'elementary_subjects': ['Prix : Rapport qualité-prix'],\n",
       "    'topics': [{'topic': {'1': 'Prix', '2': 'Prix des produits'},\n",
       "      'classification_scheme_id': ObjectId('66df25bf365a29ed53caf5a2'),\n",
       "      'classification_scheme_name': 'Test Classification Scheme'}]}]},\n",
       " {'id': 'columbuscafe_test/12e3c568ad741bf2ef96',\n",
       "  'extractions': [{'sentiment': 'NEGATIVE',\n",
       "    'extraction': 'Attente de 25 minutes pour un café',\n",
       "    'text': 'Attendu 25 mn pour un café ….',\n",
       "    'elementary_subjects': [\"Service : Temps d'attente : Longue attente\"],\n",
       "    'topics': [{'topic': {'1': 'Service', '2': 'Rapidité du service'},\n",
       "      'classification_scheme_id': ObjectId('66df25bf365a29ed53caf5a2'),\n",
       "      'classification_scheme_name': 'Test Classification Scheme'}]},\n",
       "   {'sentiment': 'NEGATIVE',\n",
       "    'extraction': 'Service insuffisant avec une seule serveuse',\n",
       "    'text': ' 1 serveuse …..',\n",
       "    'elementary_subjects': ['Service : Organisation du personnel : Désorganisation du personnel'],\n",
       "    'topics': []},\n",
       "   {'sentiment': 'NEGATIVE',\n",
       "    'extraction': 'Café de mauvaise qualité',\n",
       "    'text': ' et en plus le café n’est pas bon …\\n',\n",
       "    'elementary_subjects': ['Produits : Problème de qualité : Café de mauvaise qualité'],\n",
       "    'topics': [{'topic': {'1': 'Personnel', '2': 'Aimabilité du personnel'},\n",
       "      'classification_scheme_id': ObjectId('66df25bf365a29ed53caf5a2'),\n",
       "      'classification_scheme_name': 'Test Classification Scheme'}]},\n",
       "   {'sentiment': 'NEGATIVE',\n",
       "    'extraction': 'Déception générale',\n",
       "    'text': 'Vraiment très déçu,'},\n",
       "   {'sentiment': 'NEGATIVE',\n",
       "    'extraction': 'Décision de ne pas revenir',\n",
       "    'text': ' ne reviendrai plus !'}]},\n",
       " {'id': 'columbuscafe_test/e0e6365ca6e5f9be3d6b',\n",
       "  'extractions': [{'sentiment': 'POSITIVE',\n",
       "    'extraction': 'Super accueil',\n",
       "    'text': 'Super accueil 😁',\n",
       "    'elementary_subjects': ['Service : Accueil chaleureux'],\n",
       "    'topics': [{'topic': {'1': 'Personnel', '2': 'Aimabilité du personnel'},\n",
       "      'classification_scheme_id': ObjectId('66df25bf365a29ed53caf5a2'),\n",
       "      'classification_scheme_name': 'Test Classification Scheme'}]}]},\n",
       " {'id': 'columbuscafe_test/f9e272df0d4fd82a2c18',\n",
       "  'extractions': [{'sentiment': 'NEGATIVE',\n",
       "    'extraction': 'Mauvaise gestion des clients par les serveuses',\n",
       "    'text': \"Les serveuses s'occupent mal des clients .\",\n",
       "    'elementary_subjects': ['Service : Organisation du personnel : Désorganisation du personnel'],\n",
       "    'topics': []},\n",
       "   {'sentiment': 'NEGATIVE',\n",
       "    'extraction': 'Attente excessive pour le service',\n",
       "    'text': \"Le bipeur bip personnes s'occupent de toi au bout de 5 min j'ai pris mon plateau et parti.\",\n",
       "    'elementary_subjects': [\"Service : Temps d'attente : Longue attente\"],\n",
       "    'topics': [{'topic': {'1': 'Service', '2': 'Rapidité du service'},\n",
       "      'classification_scheme_id': ObjectId('66df25bf365a29ed53caf5a2'),\n",
       "      'classification_scheme_name': 'Test Classification Scheme'}]},\n",
       "   {'sentiment': 'NEGATIVE',\n",
       "    'extraction': 'Chocolat et cappuccino de mauvaise qualité',\n",
       "    'text': 'Le chocolat et le capuccino infecte imbuvable..',\n",
       "    'elementary_subjects': ['Produits : Problème de qualité : Cappuccino de mauvaise qualité'],\n",
       "    'topics': [{'topic': {'1': 'Personnel', '2': 'Aimabilité du personnel'},\n",
       "      'classification_scheme_id': ObjectId('66df25bf365a29ed53caf5a2'),\n",
       "      'classification_scheme_name': 'Test Classification Scheme'}]},\n",
       "   {'sentiment': 'NEGATIVE',\n",
       "    'extraction': 'Décision de ne plus retourner dans ce Columbus Café',\n",
       "    'text': 'un endroit plus jamais je retournerai et pourtant je vais souvent dans des columbus mais alors celui la plus jamais',\n",
       "    'elementary_subjects': [\"Service : Insatisfaction générale sur l'établissement\"],\n",
       "    'topics': []}]},\n",
       " {'id': 'columbuscafe_test/43f07543c941a5d88922',\n",
       "  'extractions': [{'sentiment': 'POSITIVE',\n",
       "    'extraction': 'Service courtois',\n",
       "    'text': 'Service courtois.',\n",
       "    'elementary_subjects': [\"Service : Qualité de l'équipe\"],\n",
       "    'topics': []},\n",
       "   {'sentiment': 'NEGATIVE',\n",
       "    'extraction': 'Préparation des beignets exposée de manière peu agréable',\n",
       "    'text': ' Préparation des beignets par un employé exposé comme un poisson dans un aquarium.',\n",
       "    'elementary_subjects': ['Produits : Problème de présentation : Présentation des beignets peu agréable'],\n",
       "    'topics': []},\n",
       "   {'sentiment': 'NEGATIVE',\n",
       "    'extraction': 'Préparation des beignets exposée de manière peu agréable',\n",
       "    'text': \" je n'aimerais pas trop travaillé exposé comme ça.\",\n",
       "    'elementary_subjects': ['Produits : Problème de présentation : Présentation des beignets peu agréable'],\n",
       "    'topics': []},\n",
       "   {'sentiment': 'POSITIVE',\n",
       "    'extraction': 'Petit espace sympa pour manger sur place',\n",
       "    'text': ' Petit espace sympa pour manger sur place,',\n",
       "    'elementary_subjects': ['Ambiance : Ambiance agréable'],\n",
       "    'topics': []},\n",
       "   {'sentiment': 'POSITIVE',\n",
       "    'extraction': 'Bien situé',\n",
       "    'text': ' bien situé,',\n",
       "    'elementary_subjects': [\"Emplacement : Qualité de l'emplacement\"],\n",
       "    'topics': []},\n",
       "   {'sentiment': 'POSITIVE',\n",
       "    'extraction': 'Espace sous un puits de lumière',\n",
       "    'text': ' sous un puit de lumière.',\n",
       "    'elementary_subjects': [\"Ambiance : Qualité de l'espace : Espace sous un puits de lumière\"],\n",
       "    'topics': []},\n",
       "   {'sentiment': 'POSITIVE',\n",
       "    'extraction': \"Produits d'excellente qualité\",\n",
       "    'text': \" 😎 Produits  d'excellente qualité.\",\n",
       "    'elementary_subjects': ['Produits : Qualité des produits : Qualité générale des produits'],\n",
       "    'topics': [{'topic': {'1': 'Personnel', '2': 'Aimabilité du personnel'},\n",
       "      'classification_scheme_id': ObjectId('66df25bf365a29ed53caf5a2'),\n",
       "      'classification_scheme_name': 'Test Classification Scheme'}]},\n",
       "   {'sentiment': 'POSITIVE',\n",
       "    'extraction': 'Bon rapport qualité-prix',\n",
       "    'text': ' 👍 En rapport avec 💵 dépensé.',\n",
       "    'elementary_subjects': ['Prix : Rapport qualité-prix'],\n",
       "    'topics': [{'topic': {'1': 'Prix', '2': 'Prix des produits'},\n",
       "      'classification_scheme_id': ObjectId('66df25bf365a29ed53caf5a2'),\n",
       "      'classification_scheme_name': 'Test Classification Scheme'}]},\n",
       "   {'sentiment': 'POSITIVE',\n",
       "    'extraction': 'Bonne pause goûter pendant les courses',\n",
       "    'text': ' Ça fait une bonne pause goûter au cours des courses.',\n",
       "    'elementary_subjects': ['Produits : Satisfaction générale : Satisfaction lors de la pause goûter'],\n",
       "    'topics': []}]},\n",
       " {'id': 'columbuscafe_test/5c9bb9d227a8028911e2',\n",
       "  'extractions': [{'sentiment': 'POSITIVE',\n",
       "    'extraction': 'Appréciation générale',\n",
       "    'text': '1👍'}]},\n",
       " {'id': 'columbuscafe_test/1976c554cdd362249798', 'extractions': []},\n",
       " {'id': 'columbuscafe_test/3637b6c505ac86f55a53',\n",
       "  'extractions': [{'sentiment': 'POSITIVE',\n",
       "    'extraction': 'Service très bon',\n",
       "    'text': 'Très bon,',\n",
       "    'elementary_subjects': [\"Service : Qualité de l'équipe\"],\n",
       "    'topics': []},\n",
       "   {'sentiment': 'POSITIVE',\n",
       "    'extraction': 'Service très bon',\n",
       "    'text': ' et très serviable de leur part,',\n",
       "    'elementary_subjects': [\"Service : Qualité de l'équipe\"],\n",
       "    'topics': []},\n",
       "   {'sentiment': 'POSITIVE',\n",
       "    'extraction': 'Nourriture proposée est bonne',\n",
       "    'text': ' la nourriture proposé est bonne',\n",
       "    'elementary_subjects': ['Produits : Qualité des produits : Qualité de la nourriture'],\n",
       "    'topics': [{'topic': {'1': 'Personnel', '2': 'Aimabilité du personnel'},\n",
       "      'classification_scheme_id': ObjectId('66df25bf365a29ed53caf5a2'),\n",
       "      'classification_scheme_name': 'Test Classification Scheme'}]}]}]"
      ]
     },
     "execution_count": 14,
     "metadata": {},
     "output_type": "execute_result"
    }
   ],
   "source": [
    "analysis"
   ]
  },
  {
   "attachments": {},
   "cell_type": "markdown",
   "metadata": {},
   "source": [
    "## Check elementary subjects that we generated"
   ]
  },
  {
   "cell_type": "code",
   "execution_count": 1,
   "metadata": {},
   "outputs": [],
   "source": [
    "from utils.database import get_elementary_subjects"
   ]
  },
  {
   "cell_type": "code",
   "execution_count": 16,
   "metadata": {},
   "outputs": [
    {
     "data": {
      "text/plain": [
       "21"
      ]
     },
     "execution_count": 16,
     "metadata": {},
     "output_type": "execute_result"
    }
   ],
   "source": [
    "positive_elementary_subjects = get_elementary_subjects(BRAND, 'positive')\n",
    "\n",
    "len(positive_elementary_subjects)"
   ]
  },
  {
   "cell_type": "code",
   "execution_count": 17,
   "metadata": {},
   "outputs": [
    {
     "data": {
      "text/plain": [
       "['Ambiance : Ambiance agréable',\n",
       " 'Service : Accueil chaleureux',\n",
       " 'Service : Problemlösung : Schnelle Problemlösung bei Fehlern',\n",
       " 'Produits : Qualité des produits : Qualité de la nourriture',\n",
       " 'Produits : Qualité des produits : Qualité du café']"
      ]
     },
     "execution_count": 17,
     "metadata": {},
     "output_type": "execute_result"
    }
   ],
   "source": [
    "[x['elementary_subject'] for x in positive_elementary_subjects[:5]]"
   ]
  },
  {
   "cell_type": "code",
   "execution_count": 18,
   "metadata": {},
   "outputs": [
    {
     "name": "stdout",
     "output_type": "stream",
     "text": [
      "15\n"
     ]
    },
    {
     "data": {
      "text/plain": [
       "['Service : Comportement du personnel : Serveur impoli ou nerveux',\n",
       " 'Magasin : Aménagement : Emplacement du mobilier inapproprié',\n",
       " \"Accessibilité : Difficulté d'accès pour les fauteuils roulants\",\n",
       " 'Produits : Problème de qualité : Chocolat non consommable',\n",
       " 'Prix : Tarifs élevés']"
      ]
     },
     "execution_count": 18,
     "metadata": {},
     "output_type": "execute_result"
    }
   ],
   "source": [
    "negative_elementary_subjects = get_elementary_subjects(BRAND, 'negative')\n",
    "\n",
    "print(len(negative_elementary_subjects))\n",
    "\n",
    "[x['elementary_subject'] for x in negative_elementary_subjects[:5]]"
   ]
  },
  {
   "cell_type": "code",
   "execution_count": null,
   "metadata": {},
   "outputs": [],
   "source": []
  }
 ],
 "metadata": {
  "kernelspec": {
   "display_name": ".venv",
   "language": "python",
   "name": "python3"
  },
  "language_info": {
   "codemirror_mode": {
    "name": "ipython",
    "version": 3
   },
   "file_extension": ".py",
   "mimetype": "text/x-python",
   "name": "python",
   "nbconvert_exporter": "python",
   "pygments_lexer": "ipython3",
   "version": "3.11.3"
  },
  "orig_nbformat": 4
 },
 "nbformat": 4,
 "nbformat_minor": 2
}
