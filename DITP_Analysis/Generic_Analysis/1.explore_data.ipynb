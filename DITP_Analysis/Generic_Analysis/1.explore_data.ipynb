{
 "cells": [
  {
   "cell_type": "code",
   "execution_count": 2,
   "metadata": {},
   "outputs": [],
   "source": [
    "import pandas as pd\n",
    "import json\n",
    "\n",
    "from tqdm import tqdm\n",
    "from typing import List, Dict\n",
    "from pymongo import MongoClient\n",
    "import boto3"
   ]
  },
  {
   "attachments": {},
   "cell_type": "markdown",
   "metadata": {},
   "source": [
    "# Data Structure Observation\n",
    "\n",
    "The primary objective of this notebook is to observe the structure of the data in the database.\n",
    "\n",
    "Let's retrieve some data to better understand their structure.\n",
    "\n",
    "- The data is stored in MongoDB\n",
    "- Each feedback is a \"document\" that can contain multiple fields/metadata\n",
    "- The mandatory metadata are:\n",
    "    * Timestamp\n",
    "    * A text field (often verbatim)\n",
    "    * An ID\n",
    "    * A brand (to filter our data based on the client)\n",
    "\n",
    "We will take the example of the brand: ColumbusCafe\n",
    "\n",
    "Dashboard link :  https://dashboard.allobrain.com/columbuscafe?filter_time_range=%5B1660521600000%2C1727733599999%5D&"
   ]
  },
  {
   "attachments": {},
   "cell_type": "markdown",
   "metadata": {},
   "source": [
    "Connect to the database"
   ]
  },
  {
   "cell_type": "code",
   "execution_count": 3,
   "metadata": {},
   "outputs": [],
   "source": [
    "_secrets_manager_client = boto3.client(\"secretsmanager\", region_name=\"eu-west-3\")\n",
    "\n",
    "_secrets = json.loads(\n",
    "    _secrets_manager_client.get_secret_value(\n",
    "        SecretId=f\"Prod/alloreview\"\n",
    "    )[\"SecretString\"]\n",
    ")\n",
    "MONGO_CONNECTION_STRING = (\n",
    "    \"mongodb+srv://alloreview:{}@feedbacksdev.cuwx1.mongodb.net\".format(\n",
    "        _secrets[\"mongodb\"][\"password\"]\n",
    "    )\n",
    ")\n",
    "mongo_client = MongoClient(MONGO_CONNECTION_STRING)\n",
    "\n",
    "collection = mongo_client['feedbacks_db']['feedbacks_Prod']"
   ]
  },
  {
   "attachments": {},
   "cell_type": "markdown",
   "metadata": {},
   "source": [
    "Brand:"
   ]
  },
  {
   "cell_type": "code",
   "execution_count": 31,
   "metadata": {},
   "outputs": [],
   "source": [
    "BRAND = 'columbuscafe_test'"
   ]
  },
  {
   "cell_type": "code",
   "execution_count": 32,
   "metadata": {},
   "outputs": [
    {
     "data": {
      "text/plain": [
       "(100, 21)"
      ]
     },
     "execution_count": 32,
     "metadata": {},
     "output_type": "execute_result"
    }
   ],
   "source": [
    "# getting 100 documents from picard brand\n",
    "\n",
    "from_mongo = pd.DataFrame(list(collection.aggregate([\n",
    "    {\n",
    "        '$match': {\n",
    "            'brand': BRAND,\n",
    "        },\n",
    "    },\n",
    "    { \"$sample\" : { \"size\": 100 } }\n",
    "])))\n",
    "\n",
    "from_mongo.shape"
   ]
  },
  {
   "cell_type": "code",
   "execution_count": 33,
   "metadata": {},
   "outputs": [
    {
     "data": {
      "text/html": [
       "<div>\n",
       "<style scoped>\n",
       "    .dataframe tbody tr th:only-of-type {\n",
       "        vertical-align: middle;\n",
       "    }\n",
       "\n",
       "    .dataframe tbody tr th {\n",
       "        vertical-align: top;\n",
       "    }\n",
       "\n",
       "    .dataframe thead th {\n",
       "        text-align: right;\n",
       "    }\n",
       "</style>\n",
       "<table border=\"1\" class=\"dataframe\">\n",
       "  <thead>\n",
       "    <tr style=\"text-align: right;\">\n",
       "      <th></th>\n",
       "      <th>_id</th>\n",
       "      <th>id</th>\n",
       "      <th>brand</th>\n",
       "      <th>timestamp</th>\n",
       "      <th>verbatim</th>\n",
       "      <th>extractions</th>\n",
       "      <th>splitted_analysis_v2</th>\n",
       "      <th>topics_v2</th>\n",
       "      <th>Note Satisfaction</th>\n",
       "      <th>origin</th>\n",
       "      <th>...</th>\n",
       "      <th>Canal</th>\n",
       "      <th>Country</th>\n",
       "      <th>Objectifs</th>\n",
       "      <th>Type de visiteurs</th>\n",
       "      <th>Web / App 2024</th>\n",
       "      <th>CES</th>\n",
       "      <th>Centre de contact</th>\n",
       "      <th>Etoile</th>\n",
       "      <th>NPS</th>\n",
       "      <th>rating</th>\n",
       "    </tr>\n",
       "  </thead>\n",
       "  <tbody>\n",
       "    <tr>\n",
       "      <th>0</th>\n",
       "      <td>sncf_connect_ao/aaae1add9addbfa0b0a7</td>\n",
       "      <td>aaae1add9addbfa0b0a7</td>\n",
       "      <td>sncf_connect_ao</td>\n",
       "      <td>1709247600000</td>\n",
       "      <td>{'text': 'Rapide et conviviale\n",
       "Pas facile pour...</td>\n",
       "      <td>[{'extraction': 'Rapidité', 'sentiment': 'POSI...</td>\n",
       "      <td>[{'text': 'Rapide et conviviale\n",
       "', 'extraction...</td>\n",
       "      <td>{}</td>\n",
       "      <td>9.0</td>\n",
       "      <td>Enquêtes de satisfaction : SAT 2024</td>\n",
       "      <td>...</td>\n",
       "      <td>Enquêtes de satisfaction &gt; SAT 2024</td>\n",
       "      <td>France</td>\n",
       "      <td>[Consulter l'info trafic ou les horaires]</td>\n",
       "      <td>Utilisateur</td>\n",
       "      <td>App</td>\n",
       "      <td>NaN</td>\n",
       "      <td>None</td>\n",
       "      <td>NaN</td>\n",
       "      <td>NaN</td>\n",
       "      <td>NaN</td>\n",
       "    </tr>\n",
       "    <tr>\n",
       "      <th>1</th>\n",
       "      <td>sncf_connect_ao/97978f3bc72a88dc936c</td>\n",
       "      <td>97978f3bc72a88dc936c</td>\n",
       "      <td>sncf_connect_ao</td>\n",
       "      <td>1709247600000</td>\n",
       "      <td>{'text': 'Satisfait de l'application'}</td>\n",
       "      <td>[{'extraction': 'Satisfaction avec l'applicati...</td>\n",
       "      <td>[{'text': 'Satisfait de l'application', 'extra...</td>\n",
       "      <td>{}</td>\n",
       "      <td>NaN</td>\n",
       "      <td>Mobile stores : SNCF Connect FR App store</td>\n",
       "      <td>...</td>\n",
       "      <td>Mobile stores &gt; SNCF Connect FR App store</td>\n",
       "      <td>None</td>\n",
       "      <td>None</td>\n",
       "      <td>None</td>\n",
       "      <td>None</td>\n",
       "      <td>NaN</td>\n",
       "      <td>None</td>\n",
       "      <td>5.0</td>\n",
       "      <td>NaN</td>\n",
       "      <td>5.0</td>\n",
       "    </tr>\n",
       "    <tr>\n",
       "      <th>2</th>\n",
       "      <td>sncf_connect_ao/59669af5cb411db2c1ef</td>\n",
       "      <td>59669af5cb411db2c1ef</td>\n",
       "      <td>sncf_connect_ao</td>\n",
       "      <td>1704063600000</td>\n",
       "      <td>{'text': 'J'ai apprécié la rapidité de la répo...</td>\n",
       "      <td>[{'extraction': 'Rapidité de la réponse', 'sen...</td>\n",
       "      <td>[{'text': 'J'ai apprécié la rapidité de la rép...</td>\n",
       "      <td>{}</td>\n",
       "      <td>10.0</td>\n",
       "      <td>Enquêtes de satisfaction : SAT offline (RC)</td>\n",
       "      <td>...</td>\n",
       "      <td>Enquêtes de satisfaction &gt; SAT offline (RC)</td>\n",
       "      <td>None</td>\n",
       "      <td>None</td>\n",
       "      <td>None</td>\n",
       "      <td>None</td>\n",
       "      <td>1.0</td>\n",
       "      <td>Comdata privé</td>\n",
       "      <td>NaN</td>\n",
       "      <td>10.0</td>\n",
       "      <td>NaN</td>\n",
       "    </tr>\n",
       "    <tr>\n",
       "      <th>3</th>\n",
       "      <td>sncf_connect_ao/f21dad7cd109b6905f48</td>\n",
       "      <td>f21dad7cd109b6905f48</td>\n",
       "      <td>sncf_connect_ao</td>\n",
       "      <td>1704063600000</td>\n",
       "      <td>{'text': 'Depuis la dernière mise à jour, obli...</td>\n",
       "      <td>[{'extraction': 'Obligation de saisir à nouvea...</td>\n",
       "      <td>[{'text': 'Depuis la dernière mise à jour,'}, ...</td>\n",
       "      <td>{'Parcours achat XSELL (pré-achat) &gt; Dématéria...</td>\n",
       "      <td>NaN</td>\n",
       "      <td>Mobile stores : SNCF Connect FR App store</td>\n",
       "      <td>...</td>\n",
       "      <td>Mobile stores &gt; SNCF Connect FR App store</td>\n",
       "      <td>None</td>\n",
       "      <td>None</td>\n",
       "      <td>None</td>\n",
       "      <td>None</td>\n",
       "      <td>NaN</td>\n",
       "      <td>None</td>\n",
       "      <td>2.0</td>\n",
       "      <td>NaN</td>\n",
       "      <td>2.0</td>\n",
       "    </tr>\n",
       "    <tr>\n",
       "      <th>4</th>\n",
       "      <td>sncf_connect_ao/818252c050da0b1503f1</td>\n",
       "      <td>818252c050da0b1503f1</td>\n",
       "      <td>sncf_connect_ao</td>\n",
       "      <td>1704063600000</td>\n",
       "      <td>{'text': ' Application très rapide et simple.'}</td>\n",
       "      <td>[{'extraction': 'Application très rapide et si...</td>\n",
       "      <td>[{'text': ' Application très rapide et simple....</td>\n",
       "      <td>{'Parcours achat TRAIN (pré-achat) &gt; Alerte pe...</td>\n",
       "      <td>NaN</td>\n",
       "      <td>Mobile stores : SNCF Connect FR Google Play</td>\n",
       "      <td>...</td>\n",
       "      <td>Mobile stores &gt; SNCF Connect FR Google Play</td>\n",
       "      <td>None</td>\n",
       "      <td>None</td>\n",
       "      <td>None</td>\n",
       "      <td>None</td>\n",
       "      <td>NaN</td>\n",
       "      <td>None</td>\n",
       "      <td>5.0</td>\n",
       "      <td>NaN</td>\n",
       "      <td>5.0</td>\n",
       "    </tr>\n",
       "  </tbody>\n",
       "</table>\n",
       "<p>5 rows × 21 columns</p>\n",
       "</div>"
      ],
      "text/plain": [
       "                                    _id                    id  \\\n",
       "0  sncf_connect_ao/aaae1add9addbfa0b0a7  aaae1add9addbfa0b0a7   \n",
       "1  sncf_connect_ao/97978f3bc72a88dc936c  97978f3bc72a88dc936c   \n",
       "2  sncf_connect_ao/59669af5cb411db2c1ef  59669af5cb411db2c1ef   \n",
       "3  sncf_connect_ao/f21dad7cd109b6905f48  f21dad7cd109b6905f48   \n",
       "4  sncf_connect_ao/818252c050da0b1503f1  818252c050da0b1503f1   \n",
       "\n",
       "             brand      timestamp  \\\n",
       "0  sncf_connect_ao  1709247600000   \n",
       "1  sncf_connect_ao  1709247600000   \n",
       "2  sncf_connect_ao  1704063600000   \n",
       "3  sncf_connect_ao  1704063600000   \n",
       "4  sncf_connect_ao  1704063600000   \n",
       "\n",
       "                                            verbatim  \\\n",
       "0  {'text': 'Rapide et conviviale\n",
       "Pas facile pour...   \n",
       "1             {'text': 'Satisfait de l'application'}   \n",
       "2  {'text': 'J'ai apprécié la rapidité de la répo...   \n",
       "3  {'text': 'Depuis la dernière mise à jour, obli...   \n",
       "4    {'text': ' Application très rapide et simple.'}   \n",
       "\n",
       "                                         extractions  \\\n",
       "0  [{'extraction': 'Rapidité', 'sentiment': 'POSI...   \n",
       "1  [{'extraction': 'Satisfaction avec l'applicati...   \n",
       "2  [{'extraction': 'Rapidité de la réponse', 'sen...   \n",
       "3  [{'extraction': 'Obligation de saisir à nouvea...   \n",
       "4  [{'extraction': 'Application très rapide et si...   \n",
       "\n",
       "                                splitted_analysis_v2  \\\n",
       "0  [{'text': 'Rapide et conviviale\n",
       "', 'extraction...   \n",
       "1  [{'text': 'Satisfait de l'application', 'extra...   \n",
       "2  [{'text': 'J'ai apprécié la rapidité de la rép...   \n",
       "3  [{'text': 'Depuis la dernière mise à jour,'}, ...   \n",
       "4  [{'text': ' Application très rapide et simple....   \n",
       "\n",
       "                                           topics_v2  Note Satisfaction  \\\n",
       "0                                                 {}                9.0   \n",
       "1                                                 {}                NaN   \n",
       "2                                                 {}               10.0   \n",
       "3  {'Parcours achat XSELL (pré-achat) > Dématéria...                NaN   \n",
       "4  {'Parcours achat TRAIN (pré-achat) > Alerte pe...                NaN   \n",
       "\n",
       "                                        origin  ...  \\\n",
       "0          Enquêtes de satisfaction : SAT 2024  ...   \n",
       "1    Mobile stores : SNCF Connect FR App store  ...   \n",
       "2  Enquêtes de satisfaction : SAT offline (RC)  ...   \n",
       "3    Mobile stores : SNCF Connect FR App store  ...   \n",
       "4  Mobile stores : SNCF Connect FR Google Play  ...   \n",
       "\n",
       "                                         Canal Country  \\\n",
       "0          Enquêtes de satisfaction > SAT 2024  France   \n",
       "1    Mobile stores > SNCF Connect FR App store    None   \n",
       "2  Enquêtes de satisfaction > SAT offline (RC)    None   \n",
       "3    Mobile stores > SNCF Connect FR App store    None   \n",
       "4  Mobile stores > SNCF Connect FR Google Play    None   \n",
       "\n",
       "                                   Objectifs Type de visiteurs Web / App 2024  \\\n",
       "0  [Consulter l'info trafic ou les horaires]       Utilisateur            App   \n",
       "1                                       None              None           None   \n",
       "2                                       None              None           None   \n",
       "3                                       None              None           None   \n",
       "4                                       None              None           None   \n",
       "\n",
       "   CES  Centre de contact Etoile   NPS  rating  \n",
       "0  NaN               None    NaN   NaN     NaN  \n",
       "1  NaN               None    5.0   NaN     5.0  \n",
       "2  1.0      Comdata privé    NaN  10.0     NaN  \n",
       "3  NaN               None    2.0   NaN     2.0  \n",
       "4  NaN               None    5.0   NaN     5.0  \n",
       "\n",
       "[5 rows x 21 columns]"
      ]
     },
     "execution_count": 33,
     "metadata": {},
     "output_type": "execute_result"
    }
   ],
   "source": [
    "from_mongo.head()"
   ]
  },
  {
   "cell_type": "code",
   "execution_count": 34,
   "metadata": {},
   "outputs": [
    {
     "name": "stdout",
     "output_type": "stream",
     "text": [
      "{'text': \"Application assez intuitive\\nEn voulant prendre un billet je me suis aperçu que ma date de naissance a été modifiée au 16/11/2023. Date qui correspond à l'achat de la carte remi liberté. J'ai pas pu réserver car les réductions ne s'appliquaient pas. Pour modifier ma date de naissance il a fallu aller sur itou... bref le changement n'a pas été fait de suite. Internet c'est bien mais rien ne vaut le contact humain. Ce matin je suis allée à la gare de dreux pour effectuer ce changement le plus rapidement possible. Un grand merci à Frank qui a pu résoudre ce souci de date\\n\"}\n"
     ]
    }
   ],
   "source": [
    "sample_document = from_mongo.sample().iloc[0]\n",
    "\n",
    "# the text of the client feedback\n",
    "print(sample_document.verbatim)"
   ]
  },
  {
   "attachments": {},
   "cell_type": "markdown",
   "metadata": {},
   "source": [
    "### Exploring the different fields of the document\n"
   ]
  },
  {
   "cell_type": "code",
   "execution_count": 35,
   "metadata": {},
   "outputs": [
    {
     "name": "stdout",
     "output_type": "stream",
     "text": [
      "Timestamp: 1706742000000\n",
      "Text field: {'text': \"Application assez intuitive\\nEn voulant prendre un billet je me suis aperçu que ma date de naissance a été modifiée au 16/11/2023. Date qui correspond à l'achat de la carte remi liberté. J'ai pas pu réserver car les réductions ne s'appliquaient pas. Pour modifier ma date de naissance il a fallu aller sur itou... bref le changement n'a pas été fait de suite. Internet c'est bien mais rien ne vaut le contact humain. Ce matin je suis allée à la gare de dreux pour effectuer ce changement le plus rapidement possible. Un grand merci à Frank qui a pu résoudre ce souci de date\\n\"}\n",
      "ID: sncf_connect_ao/7e7b522ae43ef309cec5\n",
      "Brand: sncf_connect_ao\n"
     ]
    }
   ],
   "source": [
    "print(\"Timestamp:\", sample_document.timestamp)\n",
    "print(\"Text field:\", sample_document.verbatim)\n",
    "print(\"ID:\", sample_document._id)\n",
    "print(\"Brand:\", sample_document.brand)"
   ]
  },
  {
   "attachments": {},
   "cell_type": "markdown",
   "metadata": {},
   "source": [
    "### Checking for additional fields\n",
    "\n",
    "Each brand has its own metadata !"
   ]
  },
  {
   "cell_type": "code",
   "execution_count": null,
   "metadata": {},
   "outputs": [],
   "source": [
    "print(sample_document.rating_out_of_5)\n",
    "print(sample_document.establishment)\n",
    "print(sample_document.author)"
   ]
  },
  {
   "attachments": {},
   "cell_type": "markdown",
   "metadata": {},
   "source": [
    "## Analysis fields\n",
    "\n",
    "### 1. Topic Extraction\n",
    "\n",
    "Firstly, we will extract the topics that emerge from a review. The goal is to transform a long text containing several mixed topics into a list of distinct and reformulated topics.\n",
    "\n",
    "Each extracted topic can have a positive, negative, or neutral sentiment associated with it. The sentiment of each topic is indicated in the \"sentiment\" field."
   ]
  },
  {
   "cell_type": "code",
   "execution_count": 37,
   "metadata": {},
   "outputs": [
    {
     "name": "stdout",
     "output_type": "stream",
     "text": [
      "Application assez intuitive\n",
      "En voulant prendre un billet je me suis aperçu que ma date de naissance a été modifiée au 16/11/2023. Date qui correspond à l'achat de la carte remi liberté. J'ai pas pu réserver car les réductions ne s'appliquaient pas. Pour modifier ma date de naissance il a fallu aller sur itou... bref le changement n'a pas été fait de suite. Internet c'est bien mais rien ne vaut le contact humain. Ce matin je suis allée à la gare de dreux pour effectuer ce changement le plus rapidement possible. Un grand merci à Frank qui a pu résoudre ce souci de date\n",
      "\n"
     ]
    },
    {
     "data": {
      "text/plain": [
       "[{'extraction': 'Application assez intuitive',\n",
       "  'sentiment': 'POSITIVE',\n",
       "  'elementary_subjects': [\"Interface intuitive et conviviale de l'application\"],\n",
       "  'topics': []},\n",
       " {'extraction': 'Modification de la date de naissance non immédiate',\n",
       "  'sentiment': 'NEGATIVE',\n",
       "  'elementary_subjects': ['Problèmes de synchronisation et de mise à jour des données'],\n",
       "  'topics': [{'topic_lvl1': 'Parcours achat XSELL (pré-achat)',\n",
       "    'topic_lvl2': 'Dématérialisation'}]},\n",
       " {'extraction': \"Impossibilité d'appliquer les réductions suite à la modification de la date de naissance\",\n",
       "  'sentiment': 'NEGATIVE',\n",
       "  'elementary_subjects': [\"Incompatibilité des réductions sur l'application\"],\n",
       "  'topics': [{'topic_lvl1': 'Parcours achat TRAIN (pré-achat)',\n",
       "    'topic_lvl2': 'Politique tarifaire'}]},\n",
       " {'extraction': \"Préférence pour le contact humain plutôt que l'application\",\n",
       "  'sentiment': 'NEUTRAL',\n",
       "  'suggestions_subjects': ['Amélioration de la communication humaine du service client']}]"
      ]
     },
     "execution_count": 37,
     "metadata": {},
     "output_type": "execute_result"
    }
   ],
   "source": [
    "print(sample_document.verbatim['text'])\n",
    "\n",
    "sample_document.extractions"
   ]
  },
  {
   "cell_type": "code",
   "execution_count": 28,
   "metadata": {},
   "outputs": [
    {
     "name": "stdout",
     "output_type": "stream",
     "text": [
      "Extraction: Service de mauvaise qualité\n",
      "Sentiment: NEGATIVE\n",
      "--------------------------------------------------\n",
      "Extraction: Incompétence de la personne à la caisse\n",
      "Sentiment: NEGATIVE\n",
      "--------------------------------------------------\n",
      "Extraction: Erreurs dans les commandes\n",
      "Sentiment: NEGATIVE\n",
      "--------------------------------------------------\n",
      "Extraction: Manque de communication sur les choix de lait\n",
      "Sentiment: NEGATIVE\n",
      "--------------------------------------------------\n",
      "Extraction: Service très long\n",
      "Sentiment: NEGATIVE\n",
      "--------------------------------------------------\n",
      "Extraction: Problèmes avec la remise des aliments après paiement\n",
      "Sentiment: NEGATIVE\n",
      "--------------------------------------------------\n"
     ]
    }
   ],
   "source": [
    "for extr in sample_document.extractions:\n",
    "    print('Extraction:', extr['extraction'])\n",
    "    print('Sentiment:', extr['sentiment'])\n",
    "    print('-' * 50)"
   ]
  },
  {
   "attachments": {},
   "cell_type": "markdown",
   "metadata": {},
   "source": [
    "**Detailed Structure of Extractions**\n",
    "\n",
    "Upon closer examination, each object within the \"splitted_analysis_v2\" field contains the following information:\n",
    "\n",
    "- Extraction: The extracted topic or subject.\n",
    "- Sentiment: The sentiment associated with the extraction (positive, negative, or suggestion).\n",
    "- Elementary Subjects: Generated subjects that allow us to classify the extractions.\n",
    "- Topics (optional): More general and business-oriented subjects.\n",
    "\n",
    "#### Elementary Subjects\n",
    "\n",
    "Elementary subjects are generated subjects that help us classify the extractions. They are designed to highlight the most frequent subjects expressed by customers. These elementary subjects are displayed in the \"Top Subjects\" graph on the dashboard.\n",
    "\n",
    "The purpose of elementary subjects is to provide a structured and organized way to categorize the extracted topics. By identifying common themes and grouping similar extractions together, we can gain insights into the most prevalent issues or opinions expressed by customers.\n",
    "\n",
    "#### Topics\n",
    "\n",
    "Topics, on the other hand, are more general and business-oriented subjects. They are less numerous compared to elementary subjects and provide a higher-level categorization.\n",
    "\n",
    "Topics are intended to capture broader themes or categories that are relevant to the business or domain. They allow for a more strategic view of the feedback and can help identify overarching areas of concern or satisfaction."
   ]
  },
  {
   "cell_type": "code",
   "execution_count": 27,
   "metadata": {},
   "outputs": [
    {
     "name": "stdout",
     "output_type": "stream",
     "text": [
      "Extraction: Service de mauvaise qualité\n",
      "Elementary subjects: ['Mauvaise qualité du service']\n",
      "Topics: []\n",
      "--------------------------------------------------\n",
      "Extraction: Incompétence de la personne à la caisse\n",
      "Elementary subjects: ['Incompétence ou manque de motivation du personnel']\n",
      "Topics: [{'topic_lvl1': 'Le personnel', 'topic_lvl2': 'Amabilité du personnel'}]\n",
      "--------------------------------------------------\n",
      "Extraction: Erreurs dans les commandes\n",
      "Elementary subjects: ['Erreurs fréquentes dans les commandes']\n",
      "Topics: [{'topic_lvl1': 'Le personnel', 'topic_lvl2': 'Rapidité du service'}]\n",
      "--------------------------------------------------\n",
      "Extraction: Manque de communication sur les choix de lait\n",
      "Elementary subjects: ['Manque d information sur les allergies et choix de produits']\n",
      "Topics: []\n",
      "--------------------------------------------------\n",
      "Extraction: Service très long\n",
      "Elementary subjects: ['Attente prolongée pour passer commande']\n",
      "Topics: [{'topic_lvl1': 'Le personnel', 'topic_lvl2': 'Rapidité du service'}]\n",
      "--------------------------------------------------\n",
      "Extraction: Problèmes avec la remise des aliments après paiement\n",
      "Elementary subjects: ['Problèmes au moment de la remise de la commande']\n",
      "Topics: []\n",
      "--------------------------------------------------\n"
     ]
    }
   ],
   "source": [
    "for extr in sample_document.extractions:\n",
    "    print('Extraction:', extr['extraction'])\n",
    "    print('Elementary subjects:', extr['elementary_subjects'])\n",
    "    print('Topics:', extr['topics'])\n",
    "    print('-' * 50)"
   ]
  },
  {
   "attachments": {},
   "cell_type": "markdown",
   "metadata": {},
   "source": [
    "### 2. Linking Extractions to Feedback\n",
    "\n",
    "Each extracted topic is linked to the corresponding part of the feedback in the \"splitted_analysis_v2\" field. This field allows us to highlight the topics in the \"Details\" graph on the dashboard.\n",
    "\n",
    "The \"splitted_analysis_v2\" field contains information that maps the extracted topics to their respective positions within the original feedback text. This mapping enables us to visually highlight the relevant parts of the feedback when displaying the extracted topics on the dashboard."
   ]
  },
  {
   "cell_type": "code",
   "execution_count": 23,
   "metadata": {},
   "outputs": [
    {
     "data": {
      "text/plain": [
       "[{'text': 'Le service laisse largement à désirer.',\n",
       "  'extraction': 'Service de mauvaise qualité',\n",
       "  'sentiment': 'NEGATIVE',\n",
       "  'topics': []},\n",
       " {'text': \" La personne a la caisse n'est pas du tout compétente.\",\n",
       "  'extraction': 'Incompétence de la personne à la caisse',\n",
       "  'sentiment': 'NEGATIVE',\n",
       "  'topics': ['Le personnel > Amabilité du personnel']},\n",
       " {'text': ' Nous avons du redonner nos boisson trois fois pour enfin être servie.'},\n",
       " {'text': \" J'ai demander un frappé et l'on ne m'a même pas demander le type de lait que je voulais.\",\n",
       "  'extraction': 'Manque de communication sur les choix de lait',\n",
       "  'sentiment': 'NEGATIVE',\n",
       "  'topics': []},\n",
       " {'text': ' Je ne digèrent pas le lait de vache.'},\n",
       " {'text': \" J'ai donc dû demander moi même à une des serveuses après avoir entendue des clients en parler à une table.\\n\"},\n",
       " {'text': 'Le services à été vraiment très long.',\n",
       "  'extraction': 'Service très long, Erreurs dans les commandes',\n",
       "  'sentiment': 'NEGATIVE',\n",
       "  'topics': ['Le personnel > Rapidité du service',\n",
       "   'Le personnel > Rapidité du service']},\n",
       " {'text': \" L'alimentaire était poser à côté de la caisse sans que personne ne nous les donne même après avoir payer.\",\n",
       "  'extraction': 'Problèmes avec la remise des aliments après paiement',\n",
       "  'sentiment': 'NEGATIVE',\n",
       "  'topics': []},\n",
       " {'text': ' Encore une fois nous avons dû demander à plusieurs reprise pour avoir ce que nous avions payer.'}]"
      ]
     },
     "execution_count": 23,
     "metadata": {},
     "output_type": "execute_result"
    }
   ],
   "source": [
    "sample_document.splitted_analysis_v2"
   ]
  }
 ],
 "metadata": {
  "kernelspec": {
   "display_name": "Python 3",
   "language": "python",
   "name": "python3"
  },
  "language_info": {
   "codemirror_mode": {
    "name": "ipython",
    "version": 3
   },
   "file_extension": ".py",
   "mimetype": "text/x-python",
   "name": "python",
   "nbconvert_exporter": "python",
   "pygments_lexer": "ipython3",
   "version": "3.9.20"
  },
  "orig_nbformat": 4
 },
 "nbformat": 4,
 "nbformat_minor": 2
}
