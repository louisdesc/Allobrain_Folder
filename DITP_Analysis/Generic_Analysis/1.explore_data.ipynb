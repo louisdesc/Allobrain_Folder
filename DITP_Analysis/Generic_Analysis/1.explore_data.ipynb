{
 "cells": [
  {
   "cell_type": "code",
   "execution_count": 13,
   "metadata": {},
   "outputs": [],
   "source": [
    "import pandas as pd\n",
    "import json\n",
    "\n",
    "from tqdm import tqdm\n",
    "from typing import List, Dict\n",
    "from pymongo import MongoClient\n",
    "import boto3\n",
    "import certifi"
   ]
  },
  {
   "attachments": {},
   "cell_type": "markdown",
   "metadata": {},
   "source": [
    "# Data Structure Observation\n",
    "\n",
    "The primary objective of this notebook is to observe the structure of the data in the database.\n",
    "\n",
    "Let's retrieve some data to better understand their structure.\n",
    "\n",
    "- The data is stored in MongoDB\n",
    "- Each feedback is a \"document\" that can contain multiple fields/metadata\n",
    "- The mandatory metadata are:\n",
    "    * Timestamp\n",
    "    * A text field (often verbatim)\n",
    "    * An ID\n",
    "    * A brand (to filter our data based on the client)\n",
    "\n",
    "We will take the example of the brand: ColumbusCafe\n",
    "\n",
    "Dashboard link :  https://dashboard.allobrain.com/columbuscafe?filter_time_range=%5B1660521600000%2C1727733599999%5D&"
   ]
  },
  {
   "attachments": {},
   "cell_type": "markdown",
   "metadata": {},
   "source": [
    "Connect to the database"
   ]
  },
  {
   "cell_type": "code",
   "execution_count": 14,
   "metadata": {},
   "outputs": [],
   "source": [
    "_secrets_manager_client = boto3.client(\"secretsmanager\", region_name=\"eu-west-3\")\n",
    "\n",
    "\n",
    "\n",
    "_secrets = json.loads(\n",
    "    _secrets_manager_client.get_secret_value(\n",
    "        SecretId=f\"Prod/alloreview\"\n",
    "    )[\"SecretString\"]\n",
    ")\n",
    "# MONGO_CONNECTION_STRING = (\n",
    "#     \"mongodb+srv://alloreview:{}@feedbacksdev.cuwx1.mongodb.net\".format(\n",
    "#         _secrets[\"mongodb\"][\"password\"]\n",
    "#     )\n",
    "# )\n",
    "# mongo_client = MongoClient(MONGO_CONNECTION_STRING,tlsCAFile=certifi.where())\n",
    "\n",
    "# collection = mongo_client['feedbacks_db']['feedbacks_Prod']\n"
   ]
  },
  {
   "attachments": {},
   "cell_type": "markdown",
   "metadata": {},
   "source": [
    "Brand:"
   ]
  },
  {
   "cell_type": "code",
   "execution_count": 15,
   "metadata": {},
   "outputs": [],
   "source": [
    "BRAND = 'columbuscafe_test'"
   ]
  },
  {
   "cell_type": "code",
   "execution_count": 59,
   "metadata": {},
   "outputs": [
    {
     "data": {
      "text/plain": [
       "(100, 16)"
      ]
     },
     "execution_count": 59,
     "metadata": {},
     "output_type": "execute_result"
    }
   ],
   "source": [
    "# getting 100 documents from picard brand\n",
    "\n",
    "from_mongo = pd.DataFrame(list(collection.aggregate([\n",
    "    {\n",
    "        '$match': {\n",
    "            'brand': BRAND,\n",
    "        },\n",
    "    },\n",
    "    { \"$sample\" : { \"size\": 100 } }\n",
    "])))\n",
    "\n",
    "from_mongo.shape"
   ]
  },
  {
   "cell_type": "code",
   "execution_count": 60,
   "metadata": {},
   "outputs": [
    {
     "data": {
      "text/html": [
       "<div>\n",
       "<style scoped>\n",
       "    .dataframe tbody tr th:only-of-type {\n",
       "        vertical-align: middle;\n",
       "    }\n",
       "\n",
       "    .dataframe tbody tr th {\n",
       "        vertical-align: top;\n",
       "    }\n",
       "\n",
       "    .dataframe thead th {\n",
       "        text-align: right;\n",
       "    }\n",
       "</style>\n",
       "<table border=\"1\" class=\"dataframe\">\n",
       "  <thead>\n",
       "    <tr style=\"text-align: right;\">\n",
       "      <th></th>\n",
       "      <th>_id</th>\n",
       "      <th>id</th>\n",
       "      <th>brand</th>\n",
       "      <th>timestamp</th>\n",
       "      <th>verbatim</th>\n",
       "      <th>establishment</th>\n",
       "      <th>review_site</th>\n",
       "      <th>author</th>\n",
       "      <th>rating_out_of_5</th>\n",
       "      <th>language</th>\n",
       "      <th>review_title</th>\n",
       "      <th>extractions</th>\n",
       "      <th>splitted_analysis_v2</th>\n",
       "      <th>topics_v2</th>\n",
       "      <th>splitted_analysis</th>\n",
       "      <th>topics</th>\n",
       "    </tr>\n",
       "  </thead>\n",
       "  <tbody>\n",
       "    <tr>\n",
       "      <th>0</th>\n",
       "      <td>columbuscafe_test/2c0206086f3771dee60d</td>\n",
       "      <td>2c0206086f3771dee60d</td>\n",
       "      <td>columbuscafe_test</td>\n",
       "      <td>1.685491e+12</td>\n",
       "      <td>{}</td>\n",
       "      <td>Boulogne-sur-Mer</td>\n",
       "      <td>Google</td>\n",
       "      <td>Myriam Zeghdoudi</td>\n",
       "      <td>5.0</td>\n",
       "      <td>fr</td>\n",
       "      <td>NaN</td>\n",
       "      <td>NaN</td>\n",
       "      <td>NaN</td>\n",
       "      <td>NaN</td>\n",
       "      <td>NaN</td>\n",
       "      <td>NaN</td>\n",
       "    </tr>\n",
       "    <tr>\n",
       "      <th>1</th>\n",
       "      <td>columbuscafe_test/984e66d8fd06d2829343</td>\n",
       "      <td>984e66d8fd06d2829343</td>\n",
       "      <td>columbuscafe_test</td>\n",
       "      <td>1.682986e+12</td>\n",
       "      <td>{'text': 'Services trop long et les cafés sont...</td>\n",
       "      <td>Caen Rives de l’Orne</td>\n",
       "      <td>Google</td>\n",
       "      <td>oce gp</td>\n",
       "      <td>3.0</td>\n",
       "      <td>fr</td>\n",
       "      <td>NaN</td>\n",
       "      <td>NaN</td>\n",
       "      <td>NaN</td>\n",
       "      <td>NaN</td>\n",
       "      <td>NaN</td>\n",
       "      <td>NaN</td>\n",
       "    </tr>\n",
       "    <tr>\n",
       "      <th>2</th>\n",
       "      <td>columbuscafe_test/b11d9049001593e8ed03</td>\n",
       "      <td>b11d9049001593e8ed03</td>\n",
       "      <td>columbuscafe_test</td>\n",
       "      <td>1.695254e+12</td>\n",
       "      <td>{'text': '3👍'}</td>\n",
       "      <td>Ajaccio</td>\n",
       "      <td>Uber Eats</td>\n",
       "      <td>Angélique B</td>\n",
       "      <td>5.0</td>\n",
       "      <td>fr</td>\n",
       "      <td>21-09-2023 - 20.7EUR</td>\n",
       "      <td>NaN</td>\n",
       "      <td>NaN</td>\n",
       "      <td>NaN</td>\n",
       "      <td>NaN</td>\n",
       "      <td>NaN</td>\n",
       "    </tr>\n",
       "    <tr>\n",
       "      <th>3</th>\n",
       "      <td>columbuscafe_test/c6587c0bc333ed5e4336</td>\n",
       "      <td>c6587c0bc333ed5e4336</td>\n",
       "      <td>columbuscafe_test</td>\n",
       "      <td>1.697155e+12</td>\n",
       "      <td>{'text': 'Service de qualité et très bons prod...</td>\n",
       "      <td>Grenoble Alsace Lorraine</td>\n",
       "      <td>Google</td>\n",
       "      <td>Camille Viguet-carrin</td>\n",
       "      <td>5.0</td>\n",
       "      <td>fr</td>\n",
       "      <td>NaN</td>\n",
       "      <td>NaN</td>\n",
       "      <td>NaN</td>\n",
       "      <td>NaN</td>\n",
       "      <td>NaN</td>\n",
       "      <td>NaN</td>\n",
       "    </tr>\n",
       "    <tr>\n",
       "      <th>4</th>\n",
       "      <td>columbuscafe_test/2a75e9fa52fa6a2267b3</td>\n",
       "      <td>2a75e9fa52fa6a2267b3</td>\n",
       "      <td>columbuscafe_test</td>\n",
       "      <td>1.690070e+12</td>\n",
       "      <td>{'text': 'Accueil chaleureux, nourriture de bo...</td>\n",
       "      <td>Aubergenville Marques Avenue</td>\n",
       "      <td>Google</td>\n",
       "      <td>Zehra Aktas</td>\n",
       "      <td>5.0</td>\n",
       "      <td>fr</td>\n",
       "      <td>NaN</td>\n",
       "      <td>NaN</td>\n",
       "      <td>NaN</td>\n",
       "      <td>NaN</td>\n",
       "      <td>NaN</td>\n",
       "      <td>NaN</td>\n",
       "    </tr>\n",
       "  </tbody>\n",
       "</table>\n",
       "</div>"
      ],
      "text/plain": [
       "                                      _id                    id   \n",
       "0  columbuscafe_test/2c0206086f3771dee60d  2c0206086f3771dee60d  \\\n",
       "1  columbuscafe_test/984e66d8fd06d2829343  984e66d8fd06d2829343   \n",
       "2  columbuscafe_test/b11d9049001593e8ed03  b11d9049001593e8ed03   \n",
       "3  columbuscafe_test/c6587c0bc333ed5e4336  c6587c0bc333ed5e4336   \n",
       "4  columbuscafe_test/2a75e9fa52fa6a2267b3  2a75e9fa52fa6a2267b3   \n",
       "\n",
       "               brand     timestamp   \n",
       "0  columbuscafe_test  1.685491e+12  \\\n",
       "1  columbuscafe_test  1.682986e+12   \n",
       "2  columbuscafe_test  1.695254e+12   \n",
       "3  columbuscafe_test  1.697155e+12   \n",
       "4  columbuscafe_test  1.690070e+12   \n",
       "\n",
       "                                            verbatim   \n",
       "0                                                 {}  \\\n",
       "1  {'text': 'Services trop long et les cafés sont...   \n",
       "2                                     {'text': '3👍'}   \n",
       "3  {'text': 'Service de qualité et très bons prod...   \n",
       "4  {'text': 'Accueil chaleureux, nourriture de bo...   \n",
       "\n",
       "                  establishment review_site                 author   \n",
       "0              Boulogne-sur-Mer      Google       Myriam Zeghdoudi  \\\n",
       "1          Caen Rives de l’Orne      Google                 oce gp   \n",
       "2                       Ajaccio   Uber Eats            Angélique B   \n",
       "3      Grenoble Alsace Lorraine      Google  Camille Viguet-carrin   \n",
       "4  Aubergenville Marques Avenue      Google            Zehra Aktas   \n",
       "\n",
       "   rating_out_of_5 language          review_title extractions   \n",
       "0              5.0       fr                   NaN         NaN  \\\n",
       "1              3.0       fr                   NaN         NaN   \n",
       "2              5.0       fr  21-09-2023 - 20.7EUR         NaN   \n",
       "3              5.0       fr                   NaN         NaN   \n",
       "4              5.0       fr                   NaN         NaN   \n",
       "\n",
       "  splitted_analysis_v2 topics_v2 splitted_analysis topics  \n",
       "0                  NaN       NaN               NaN    NaN  \n",
       "1                  NaN       NaN               NaN    NaN  \n",
       "2                  NaN       NaN               NaN    NaN  \n",
       "3                  NaN       NaN               NaN    NaN  \n",
       "4                  NaN       NaN               NaN    NaN  "
      ]
     },
     "execution_count": 60,
     "metadata": {},
     "output_type": "execute_result"
    }
   ],
   "source": [
    "from_mongo.head()"
   ]
  },
  {
   "cell_type": "code",
   "execution_count": 53,
   "metadata": {},
   "outputs": [
    {
     "name": "stdout",
     "output_type": "stream",
     "text": [
      "{'text': '3👍'}\n"
     ]
    }
   ],
   "source": [
    "sample_document = from_mongo.iloc[0]\n",
    "\n",
    "# the text of the client feedback\n",
    "print(sample_document.verbatim)"
   ]
  },
  {
   "attachments": {},
   "cell_type": "markdown",
   "metadata": {},
   "source": [
    "### Exploring the different fields of the document\n"
   ]
  },
  {
   "cell_type": "code",
   "execution_count": 54,
   "metadata": {},
   "outputs": [
    {
     "name": "stdout",
     "output_type": "stream",
     "text": [
      "Timestamp: 1690329600000.0\n",
      "Text field: {'text': '3👍'}\n",
      "ID: columbuscafe_test/88fb857fd1ce0901758d\n",
      "Brand: columbuscafe_test\n"
     ]
    }
   ],
   "source": [
    "print(\"Timestamp:\", sample_document.timestamp)\n",
    "print(\"Text field:\", sample_document.verbatim)\n",
    "print(\"ID:\", sample_document._id)\n",
    "print(\"Brand:\", sample_document.brand)"
   ]
  },
  {
   "attachments": {},
   "cell_type": "markdown",
   "metadata": {},
   "source": [
    "### Checking for additional fields\n",
    "\n",
    "Each brand has its own metadata !"
   ]
  },
  {
   "cell_type": "code",
   "execution_count": 55,
   "metadata": {},
   "outputs": [
    {
     "name": "stdout",
     "output_type": "stream",
     "text": [
      "5.0\n",
      "Marseille La Valentine 2\n",
      "Laetitia R\n"
     ]
    }
   ],
   "source": [
    "print(sample_document.rating_out_of_5)\n",
    "print(sample_document.establishment)\n",
    "print(sample_document.author)"
   ]
  },
  {
   "attachments": {},
   "cell_type": "markdown",
   "metadata": {},
   "source": [
    "## Analysis fields\n",
    "\n",
    "### 1. Topic Extraction\n",
    "\n",
    "Firstly, we will extract the topics that emerge from a review. The goal is to transform a long text containing several mixed topics into a list of distinct and reformulated topics.\n",
    "\n",
    "Each extracted topic can have a positive, negative, or neutral sentiment associated with it. The sentiment of each topic is indicated in the \"sentiment\" field."
   ]
  },
  {
   "cell_type": "code",
   "execution_count": 56,
   "metadata": {},
   "outputs": [
    {
     "name": "stdout",
     "output_type": "stream",
     "text": [
      "3👍\n"
     ]
    },
    {
     "data": {
      "text/plain": [
       "nan"
      ]
     },
     "execution_count": 56,
     "metadata": {},
     "output_type": "execute_result"
    }
   ],
   "source": [
    "print(sample_document.verbatim['text'])\n",
    "\n",
    "sample_document.extractions"
   ]
  },
  {
   "cell_type": "code",
   "execution_count": 47,
   "metadata": {},
   "outputs": [
    {
     "data": {
      "text/plain": [
       "_id                                columbuscafe_test/a0b9134143921a9809f6\n",
       "id                                                   a0b9134143921a9809f6\n",
       "brand                                                   columbuscafe_test\n",
       "timestamp                                                 1696291200000.0\n",
       "verbatim                {'text': 'Samantha et Yves rose sont charmante...\n",
       "establishment                                Bourges Saintes Thorette A71\n",
       "review_site                                                        Google\n",
       "author                                                         Chris Prat\n",
       "rating_out_of_5                                                       5.0\n",
       "language                                                               fr\n",
       "review_title                                                          NaN\n",
       "extractions             [{'sentiment': 'POSITIVE', 'extraction': 'Sama...\n",
       "splitted_analysis       [{'text': 'Samantha et Yves rose sont charmant...\n",
       "topics                                                                NaN\n",
       "splitted_analysis_v2                                                  NaN\n",
       "Name: 37, dtype: object"
      ]
     },
     "execution_count": 47,
     "metadata": {},
     "output_type": "execute_result"
    }
   ],
   "source": [
    "sample_document"
   ]
  },
  {
   "cell_type": "code",
   "execution_count": 48,
   "metadata": {},
   "outputs": [
    {
     "name": "stdout",
     "output_type": "stream",
     "text": [
      "Extraction: Samantha et Yves sont charmantes\n",
      "Sentiment: POSITIVE\n",
      "--------------------------------------------------\n",
      "Extraction: Professionnalisme\n",
      "Sentiment: POSITIVE\n",
      "--------------------------------------------------\n"
     ]
    }
   ],
   "source": [
    "for extr in sample_document.extractions:\n",
    "    print('Extraction:', extr['extraction'])\n",
    "    print('Sentiment:', extr['sentiment'])\n",
    "    print('-' * 50)"
   ]
  },
  {
   "attachments": {},
   "cell_type": "markdown",
   "metadata": {},
   "source": [
    "**Detailed Structure of Extractions**\n",
    "\n",
    "Upon closer examination, each object within the \"splitted_analysis_v2\" field contains the following information:\n",
    "\n",
    "- Extraction: The extracted topic or subject.\n",
    "- Sentiment: The sentiment associated with the extraction (positive, negative, or suggestion).\n",
    "- Elementary Subjects: Generated subjects that allow us to classify the extractions.\n",
    "- Topics (optional): More general and business-oriented subjects.\n",
    "\n",
    "#### Elementary Subjects\n",
    "\n",
    "Elementary subjects are generated subjects that help us classify the extractions. They are designed to highlight the most frequent subjects expressed by customers. These elementary subjects are displayed in the \"Top Subjects\" graph on the dashboard.\n",
    "\n",
    "The purpose of elementary subjects is to provide a structured and organized way to categorize the extracted topics. By identifying common themes and grouping similar extractions together, we can gain insights into the most prevalent issues or opinions expressed by customers.\n",
    "\n",
    "#### Topics\n",
    "\n",
    "Topics, on the other hand, are more general and business-oriented subjects. They are less numerous compared to elementary subjects and provide a higher-level categorization.\n",
    "\n",
    "Topics are intended to capture broader themes or categories that are relevant to the business or domain. They allow for a more strategic view of the feedback and can help identify overarching areas of concern or satisfaction."
   ]
  },
  {
   "cell_type": "code",
   "execution_count": 49,
   "metadata": {},
   "outputs": [
    {
     "name": "stdout",
     "output_type": "stream",
     "text": [
      "Extraction: Samantha et Yves sont charmantes\n"
     ]
    },
    {
     "ename": "KeyError",
     "evalue": "'elementary_subjects'",
     "output_type": "error",
     "traceback": [
      "\u001b[0;31m---------------------------------------------------------------------------\u001b[0m",
      "\u001b[0;31mKeyError\u001b[0m                                  Traceback (most recent call last)",
      "Cell \u001b[0;32mIn[49], line 3\u001b[0m\n\u001b[1;32m      1\u001b[0m \u001b[38;5;28;01mfor\u001b[39;00m extr \u001b[38;5;129;01min\u001b[39;00m sample_document\u001b[38;5;241m.\u001b[39mextractions:\n\u001b[1;32m      2\u001b[0m     \u001b[38;5;28mprint\u001b[39m(\u001b[38;5;124m'\u001b[39m\u001b[38;5;124mExtraction:\u001b[39m\u001b[38;5;124m'\u001b[39m, extr[\u001b[38;5;124m'\u001b[39m\u001b[38;5;124mextraction\u001b[39m\u001b[38;5;124m'\u001b[39m])\n\u001b[0;32m----> 3\u001b[0m     \u001b[38;5;28mprint\u001b[39m(\u001b[38;5;124m'\u001b[39m\u001b[38;5;124mElementary subjects:\u001b[39m\u001b[38;5;124m'\u001b[39m, \u001b[43mextr\u001b[49m\u001b[43m[\u001b[49m\u001b[38;5;124;43m'\u001b[39;49m\u001b[38;5;124;43melementary_subjects\u001b[39;49m\u001b[38;5;124;43m'\u001b[39;49m\u001b[43m]\u001b[49m)\n\u001b[1;32m      4\u001b[0m     \u001b[38;5;28mprint\u001b[39m(\u001b[38;5;124m'\u001b[39m\u001b[38;5;124mTopics:\u001b[39m\u001b[38;5;124m'\u001b[39m, extr[\u001b[38;5;124m'\u001b[39m\u001b[38;5;124mtopics\u001b[39m\u001b[38;5;124m'\u001b[39m])\n\u001b[1;32m      5\u001b[0m     \u001b[38;5;28mprint\u001b[39m(\u001b[38;5;124m'\u001b[39m\u001b[38;5;124m-\u001b[39m\u001b[38;5;124m'\u001b[39m \u001b[38;5;241m*\u001b[39m \u001b[38;5;241m50\u001b[39m)\n",
      "\u001b[0;31mKeyError\u001b[0m: 'elementary_subjects'"
     ]
    }
   ],
   "source": [
    "for extr in sample_document.extractions:\n",
    "    print('Extraction:', extr['extraction'])\n",
    "    print('Elementary subjects:', extr['elementary_subjects'])\n",
    "    print('Topics:', extr['topics'])\n",
    "    print('-' * 50)"
   ]
  },
  {
   "attachments": {},
   "cell_type": "markdown",
   "metadata": {},
   "source": [
    "### 2. Linking Extractions to Feedback\n",
    "\n",
    "Each extracted topic is linked to the corresponding part of the feedback in the \"splitted_analysis_v2\" field. This field allows us to highlight the topics in the \"Details\" graph on the dashboard.\n",
    "\n",
    "The \"splitted_analysis_v2\" field contains information that maps the extracted topics to their respective positions within the original feedback text. This mapping enables us to visually highlight the relevant parts of the feedback when displaying the extracted topics on the dashboard."
   ]
  },
  {
   "cell_type": "code",
   "execution_count": 23,
   "metadata": {},
   "outputs": [
    {
     "data": {
      "text/plain": [
       "[{'text': 'Le service laisse largement à désirer.',\n",
       "  'extraction': 'Service de mauvaise qualité',\n",
       "  'sentiment': 'NEGATIVE',\n",
       "  'topics': []},\n",
       " {'text': \" La personne a la caisse n'est pas du tout compétente.\",\n",
       "  'extraction': 'Incompétence de la personne à la caisse',\n",
       "  'sentiment': 'NEGATIVE',\n",
       "  'topics': ['Le personnel > Amabilité du personnel']},\n",
       " {'text': ' Nous avons du redonner nos boisson trois fois pour enfin être servie.'},\n",
       " {'text': \" J'ai demander un frappé et l'on ne m'a même pas demander le type de lait que je voulais.\",\n",
       "  'extraction': 'Manque de communication sur les choix de lait',\n",
       "  'sentiment': 'NEGATIVE',\n",
       "  'topics': []},\n",
       " {'text': ' Je ne digèrent pas le lait de vache.'},\n",
       " {'text': \" J'ai donc dû demander moi même à une des serveuses après avoir entendue des clients en parler à une table.\\n\"},\n",
       " {'text': 'Le services à été vraiment très long.',\n",
       "  'extraction': 'Service très long, Erreurs dans les commandes',\n",
       "  'sentiment': 'NEGATIVE',\n",
       "  'topics': ['Le personnel > Rapidité du service',\n",
       "   'Le personnel > Rapidité du service']},\n",
       " {'text': \" L'alimentaire était poser à côté de la caisse sans que personne ne nous les donne même après avoir payer.\",\n",
       "  'extraction': 'Problèmes avec la remise des aliments après paiement',\n",
       "  'sentiment': 'NEGATIVE',\n",
       "  'topics': []},\n",
       " {'text': ' Encore une fois nous avons dû demander à plusieurs reprise pour avoir ce que nous avions payer.'}]"
      ]
     },
     "execution_count": 23,
     "metadata": {},
     "output_type": "execute_result"
    }
   ],
   "source": [
    "sample_document.splitted_analysis_v2"
   ]
  }
 ],
 "metadata": {
  "kernelspec": {
   "display_name": "Python 3",
   "language": "python",
   "name": "python3"
  },
  "language_info": {
   "codemirror_mode": {
    "name": "ipython",
    "version": 3
   },
   "file_extension": ".py",
   "mimetype": "text/x-python",
   "name": "python",
   "nbconvert_exporter": "python",
   "pygments_lexer": "ipython3",
   "version": "3.11.3"
  },
  "orig_nbformat": 4
 },
 "nbformat": 4,
 "nbformat_minor": 2
}
