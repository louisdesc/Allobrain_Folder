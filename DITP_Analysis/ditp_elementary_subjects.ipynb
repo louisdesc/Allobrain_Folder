{
 "cells": [
  {
   "cell_type": "code",
   "execution_count": 11,
   "metadata": {},
   "outputs": [],
   "source": [
    "import json\n",
    "import boto3\n",
    "import pandas as pd\n",
    "import ast\n",
    "\n",
    "from utils.analysis_utils import classify_feedback_extractions\n",
    "from utils.database import get_field_value\n",
    "from pymongo import MongoClient\n",
    "import certifi\n",
    "import importlib"
   ]
  },
  {
   "cell_type": "code",
   "execution_count": 12,
   "metadata": {},
   "outputs": [],
   "source": [
    "# TODO: Remove\n",
    "\n",
    "import importlib\n",
    "import utils.analysis_utils\n",
    "import utils.database\n",
    "\n",
    "# Reload the modules\n",
    "importlib.reload(utils.analysis_utils)\n",
    "importlib.reload(utils.database)\n",
    "\n",
    "# Now you can import your functions\n",
    "from utils.analysis_utils import classify_feedback_extractions\n",
    "from utils.database import get_field_value\n"
   ]
  },
  {
   "cell_type": "code",
   "execution_count": 13,
   "metadata": {},
   "outputs": [],
   "source": [
    "_secrets_manager_client = boto3.client(\"secretsmanager\", region_name=\"eu-west-3\")\n",
    "\n",
    "_secrets = json.loads(\n",
    "    _secrets_manager_client.get_secret_value(\n",
    "        SecretId=f\"Prod/alloreview\"\n",
    "    )[\"SecretString\"]\n",
    ")\n",
    "MONGO_CONNECTION_STRING = (\n",
    "    \"mongodb+srv://alloreview:{}@feedbacksdev.cuwx1.mongodb.net\".format(\n",
    "        _secrets[\"mongodb\"][\"password\"]\n",
    "    )\n",
    ")\n",
    "mongo_client = MongoClient(MONGO_CONNECTION_STRING,tlsCAFile=certifi.where())\n",
    "\n",
    "collection = mongo_client['feedbacks_db']['feedbacks_Prod']"
   ]
  },
  {
   "cell_type": "markdown",
   "metadata": {},
   "source": [
    "# Generating Elementary Subjects\n",
    "\n",
    "After creating all the extractions, our objective is to generate elementary subjects.\n",
    "\n",
    "We use the following method:\n",
    "\n",
    "1. For each extraction, we attempt to classify it among the existing elementary subjects.\n",
    "2. If no subject matches, we generate a new one.\n",
    "3. As we progress, we also verify that we are not generating duplicates.\n",
    "\n",
    "## Process\n",
    "\n",
    "We classify and generate our elementary subjects progressively:\n",
    "\n",
    "1. Classify each extraction\n",
    "2. Generate new subjects as needed\n",
    "3. Check for duplicates\n",
    "\n",
    "By the end of this process, after classifying everything, we will have generated all our subjects.\n",
    "\n",
    "## Database Storage\n",
    "\n",
    "The elementary subjects are pushed into the `elementary_subjects_dev` database."
   ]
  },
  {
   "cell_type": "code",
   "execution_count": 20,
   "metadata": {},
   "outputs": [],
   "source": [
    "BRAND = 'ditp_analysis'\n",
    "\n",
    "BRAND_DESCR = '''\n",
    "Feedbacks are from French public services.\n",
    "'''"
   ]
  },
  {
   "cell_type": "code",
   "execution_count": 5,
   "metadata": {},
   "outputs": [
    {
     "ename": "KeyboardInterrupt",
     "evalue": "",
     "output_type": "error",
     "traceback": [
      "\u001b[0;31m---------------------------------------------------------------------------\u001b[0m",
      "\u001b[0;31mKeyboardInterrupt\u001b[0m                         Traceback (most recent call last)",
      "Cell \u001b[0;32mIn[5], line 3\u001b[0m\n\u001b[1;32m      1\u001b[0m \u001b[38;5;66;03m# getting feedbacks from mongo\u001b[39;00m\n\u001b[0;32m----> 3\u001b[0m from_mongo \u001b[38;5;241m=\u001b[39m pd\u001b[38;5;241m.\u001b[39mDataFrame(\u001b[38;5;28;43mlist\u001b[39;49m\u001b[43m(\u001b[49m\u001b[43mcollection\u001b[49m\u001b[38;5;241;43m.\u001b[39;49m\u001b[43maggregate\u001b[49m\u001b[43m(\u001b[49m\u001b[43m[\u001b[49m\n\u001b[1;32m      4\u001b[0m \u001b[43m    \u001b[49m\u001b[43m{\u001b[49m\n\u001b[1;32m      5\u001b[0m \u001b[43m        \u001b[49m\u001b[38;5;124;43m'\u001b[39;49m\u001b[38;5;124;43m$match\u001b[39;49m\u001b[38;5;124;43m'\u001b[39;49m\u001b[43m:\u001b[49m\u001b[43m \u001b[49m\u001b[43m{\u001b[49m\n\u001b[1;32m      6\u001b[0m \u001b[43m            \u001b[49m\u001b[38;5;124;43m'\u001b[39;49m\u001b[38;5;124;43mbrand\u001b[39;49m\u001b[38;5;124;43m'\u001b[39;49m\u001b[43m:\u001b[49m\u001b[43m \u001b[49m\u001b[43mBRAND\u001b[49m\u001b[43m,\u001b[49m\n\u001b[1;32m      7\u001b[0m \u001b[43m        \u001b[49m\u001b[43m}\u001b[49m\u001b[43m,\u001b[49m\n\u001b[1;32m      8\u001b[0m \u001b[43m    \u001b[49m\u001b[43m}\u001b[49m\u001b[43m,\u001b[49m\n\u001b[1;32m      9\u001b[0m \u001b[43m]\u001b[49m\u001b[43m)\u001b[49m\u001b[43m)\u001b[49m)\n\u001b[1;32m     11\u001b[0m from_mongo\u001b[38;5;241m.\u001b[39mshape\n",
      "File \u001b[0;32m/Library/Frameworks/Python.framework/Versions/3.11/lib/python3.11/site-packages/pymongo/synchronous/command_cursor.py:340\u001b[0m, in \u001b[0;36mCommandCursor.__next__\u001b[0;34m(self)\u001b[0m\n\u001b[1;32m    339\u001b[0m \u001b[38;5;28;01mdef\u001b[39;00m \u001b[38;5;21m__next__\u001b[39m(\u001b[38;5;28mself\u001b[39m) \u001b[38;5;241m-\u001b[39m\u001b[38;5;241m>\u001b[39m _DocumentType:\n\u001b[0;32m--> 340\u001b[0m     \u001b[38;5;28;01mreturn\u001b[39;00m \u001b[38;5;28;43mself\u001b[39;49m\u001b[38;5;241;43m.\u001b[39;49m\u001b[43mnext\u001b[49m\u001b[43m(\u001b[49m\u001b[43m)\u001b[49m\n",
      "File \u001b[0;32m/Library/Frameworks/Python.framework/Versions/3.11/lib/python3.11/site-packages/pymongo/synchronous/command_cursor.py:333\u001b[0m, in \u001b[0;36mCommandCursor.next\u001b[0;34m(self)\u001b[0m\n\u001b[1;32m    331\u001b[0m \u001b[38;5;66;03m# Block until a document is returnable.\u001b[39;00m\n\u001b[1;32m    332\u001b[0m \u001b[38;5;28;01mwhile\u001b[39;00m \u001b[38;5;28mself\u001b[39m\u001b[38;5;241m.\u001b[39malive:\n\u001b[0;32m--> 333\u001b[0m     doc \u001b[38;5;241m=\u001b[39m \u001b[38;5;28;43mself\u001b[39;49m\u001b[38;5;241;43m.\u001b[39;49m\u001b[43m_try_next\u001b[49m\u001b[43m(\u001b[49m\u001b[38;5;28;43;01mTrue\u001b[39;49;00m\u001b[43m)\u001b[49m\n\u001b[1;32m    334\u001b[0m     \u001b[38;5;28;01mif\u001b[39;00m doc \u001b[38;5;129;01mis\u001b[39;00m \u001b[38;5;129;01mnot\u001b[39;00m \u001b[38;5;28;01mNone\u001b[39;00m:\n\u001b[1;32m    335\u001b[0m         \u001b[38;5;28;01mreturn\u001b[39;00m doc\n",
      "File \u001b[0;32m/Library/Frameworks/Python.framework/Versions/3.11/lib/python3.11/site-packages/pymongo/synchronous/command_cursor.py:345\u001b[0m, in \u001b[0;36mCommandCursor._try_next\u001b[0;34m(self, get_more_allowed)\u001b[0m\n\u001b[1;32m    343\u001b[0m \u001b[38;5;250m\u001b[39m\u001b[38;5;124;03m\"\"\"Advance the cursor blocking for at most one getMore command.\"\"\"\u001b[39;00m\n\u001b[1;32m    344\u001b[0m \u001b[38;5;28;01mif\u001b[39;00m \u001b[38;5;129;01mnot\u001b[39;00m \u001b[38;5;28mlen\u001b[39m(\u001b[38;5;28mself\u001b[39m\u001b[38;5;241m.\u001b[39m_data) \u001b[38;5;129;01mand\u001b[39;00m \u001b[38;5;129;01mnot\u001b[39;00m \u001b[38;5;28mself\u001b[39m\u001b[38;5;241m.\u001b[39m_killed \u001b[38;5;129;01mand\u001b[39;00m get_more_allowed:\n\u001b[0;32m--> 345\u001b[0m     \u001b[38;5;28;43mself\u001b[39;49m\u001b[38;5;241;43m.\u001b[39;49m\u001b[43m_refresh\u001b[49m\u001b[43m(\u001b[49m\u001b[43m)\u001b[49m\n\u001b[1;32m    346\u001b[0m \u001b[38;5;28;01mif\u001b[39;00m \u001b[38;5;28mlen\u001b[39m(\u001b[38;5;28mself\u001b[39m\u001b[38;5;241m.\u001b[39m_data):\n\u001b[1;32m    347\u001b[0m     \u001b[38;5;28;01mreturn\u001b[39;00m \u001b[38;5;28mself\u001b[39m\u001b[38;5;241m.\u001b[39m_data\u001b[38;5;241m.\u001b[39mpopleft()\n",
      "File \u001b[0;32m/Library/Frameworks/Python.framework/Versions/3.11/lib/python3.11/site-packages/pymongo/synchronous/command_cursor.py:305\u001b[0m, in \u001b[0;36mCommandCursor._refresh\u001b[0;34m(self)\u001b[0m\n\u001b[1;32m    303\u001b[0m     dbname, collname \u001b[38;5;241m=\u001b[39m \u001b[38;5;28mself\u001b[39m\u001b[38;5;241m.\u001b[39m_ns\u001b[38;5;241m.\u001b[39msplit(\u001b[38;5;124m\"\u001b[39m\u001b[38;5;124m.\u001b[39m\u001b[38;5;124m\"\u001b[39m, \u001b[38;5;241m1\u001b[39m)\n\u001b[1;32m    304\u001b[0m     read_pref \u001b[38;5;241m=\u001b[39m \u001b[38;5;28mself\u001b[39m\u001b[38;5;241m.\u001b[39m_collection\u001b[38;5;241m.\u001b[39m_read_preference_for(\u001b[38;5;28mself\u001b[39m\u001b[38;5;241m.\u001b[39msession)\n\u001b[0;32m--> 305\u001b[0m     \u001b[38;5;28;43mself\u001b[39;49m\u001b[38;5;241;43m.\u001b[39;49m\u001b[43m_send_message\u001b[49m\u001b[43m(\u001b[49m\n\u001b[1;32m    306\u001b[0m \u001b[43m        \u001b[49m\u001b[38;5;28;43mself\u001b[39;49m\u001b[38;5;241;43m.\u001b[39;49m\u001b[43m_getmore_class\u001b[49m\u001b[43m(\u001b[49m\n\u001b[1;32m    307\u001b[0m \u001b[43m            \u001b[49m\u001b[43mdbname\u001b[49m\u001b[43m,\u001b[49m\n\u001b[1;32m    308\u001b[0m \u001b[43m            \u001b[49m\u001b[43mcollname\u001b[49m\u001b[43m,\u001b[49m\n\u001b[1;32m    309\u001b[0m \u001b[43m            \u001b[49m\u001b[38;5;28;43mself\u001b[39;49m\u001b[38;5;241;43m.\u001b[39;49m\u001b[43m_batch_size\u001b[49m\u001b[43m,\u001b[49m\n\u001b[1;32m    310\u001b[0m \u001b[43m            \u001b[49m\u001b[38;5;28;43mself\u001b[39;49m\u001b[38;5;241;43m.\u001b[39;49m\u001b[43m_id\u001b[49m\u001b[43m,\u001b[49m\n\u001b[1;32m    311\u001b[0m \u001b[43m            \u001b[49m\u001b[38;5;28;43mself\u001b[39;49m\u001b[38;5;241;43m.\u001b[39;49m\u001b[43m_collection\u001b[49m\u001b[38;5;241;43m.\u001b[39;49m\u001b[43mcodec_options\u001b[49m\u001b[43m,\u001b[49m\n\u001b[1;32m    312\u001b[0m \u001b[43m            \u001b[49m\u001b[43mread_pref\u001b[49m\u001b[43m,\u001b[49m\n\u001b[1;32m    313\u001b[0m \u001b[43m            \u001b[49m\u001b[38;5;28;43mself\u001b[39;49m\u001b[38;5;241;43m.\u001b[39;49m\u001b[43m_session\u001b[49m\u001b[43m,\u001b[49m\n\u001b[1;32m    314\u001b[0m \u001b[43m            \u001b[49m\u001b[38;5;28;43mself\u001b[39;49m\u001b[38;5;241;43m.\u001b[39;49m\u001b[43m_collection\u001b[49m\u001b[38;5;241;43m.\u001b[39;49m\u001b[43mdatabase\u001b[49m\u001b[38;5;241;43m.\u001b[39;49m\u001b[43mclient\u001b[49m\u001b[43m,\u001b[49m\n\u001b[1;32m    315\u001b[0m \u001b[43m            \u001b[49m\u001b[38;5;28;43mself\u001b[39;49m\u001b[38;5;241;43m.\u001b[39;49m\u001b[43m_max_await_time_ms\u001b[49m\u001b[43m,\u001b[49m\n\u001b[1;32m    316\u001b[0m \u001b[43m            \u001b[49m\u001b[38;5;28;43mself\u001b[39;49m\u001b[38;5;241;43m.\u001b[39;49m\u001b[43m_sock_mgr\u001b[49m\u001b[43m,\u001b[49m\n\u001b[1;32m    317\u001b[0m \u001b[43m            \u001b[49m\u001b[38;5;28;43;01mFalse\u001b[39;49;00m\u001b[43m,\u001b[49m\n\u001b[1;32m    318\u001b[0m \u001b[43m            \u001b[49m\u001b[38;5;28;43mself\u001b[39;49m\u001b[38;5;241;43m.\u001b[39;49m\u001b[43m_comment\u001b[49m\u001b[43m,\u001b[49m\n\u001b[1;32m    319\u001b[0m \u001b[43m        \u001b[49m\u001b[43m)\u001b[49m\n\u001b[1;32m    320\u001b[0m \u001b[43m    \u001b[49m\u001b[43m)\u001b[49m\n\u001b[1;32m    321\u001b[0m \u001b[38;5;28;01melse\u001b[39;00m:  \u001b[38;5;66;03m# Cursor id is zero nothing else to return\u001b[39;00m\n\u001b[1;32m    322\u001b[0m     \u001b[38;5;28mself\u001b[39m\u001b[38;5;241m.\u001b[39m_die_lock()\n",
      "File \u001b[0;32m/Library/Frameworks/Python.framework/Versions/3.11/lib/python3.11/site-packages/pymongo/synchronous/command_cursor.py:252\u001b[0m, in \u001b[0;36mCommandCursor._send_message\u001b[0;34m(self, operation)\u001b[0m\n\u001b[1;32m    250\u001b[0m client \u001b[38;5;241m=\u001b[39m \u001b[38;5;28mself\u001b[39m\u001b[38;5;241m.\u001b[39m_collection\u001b[38;5;241m.\u001b[39mdatabase\u001b[38;5;241m.\u001b[39mclient\n\u001b[1;32m    251\u001b[0m \u001b[38;5;28;01mtry\u001b[39;00m:\n\u001b[0;32m--> 252\u001b[0m     response \u001b[38;5;241m=\u001b[39m \u001b[43mclient\u001b[49m\u001b[38;5;241;43m.\u001b[39;49m\u001b[43m_run_operation\u001b[49m\u001b[43m(\u001b[49m\n\u001b[1;32m    253\u001b[0m \u001b[43m        \u001b[49m\u001b[43moperation\u001b[49m\u001b[43m,\u001b[49m\u001b[43m \u001b[49m\u001b[38;5;28;43mself\u001b[39;49m\u001b[38;5;241;43m.\u001b[39;49m\u001b[43m_unpack_response\u001b[49m\u001b[43m,\u001b[49m\u001b[43m \u001b[49m\u001b[43maddress\u001b[49m\u001b[38;5;241;43m=\u001b[39;49m\u001b[38;5;28;43mself\u001b[39;49m\u001b[38;5;241;43m.\u001b[39;49m\u001b[43m_address\u001b[49m\n\u001b[1;32m    254\u001b[0m \u001b[43m    \u001b[49m\u001b[43m)\u001b[49m\n\u001b[1;32m    255\u001b[0m \u001b[38;5;28;01mexcept\u001b[39;00m OperationFailure \u001b[38;5;28;01mas\u001b[39;00m exc:\n\u001b[1;32m    256\u001b[0m     \u001b[38;5;28;01mif\u001b[39;00m exc\u001b[38;5;241m.\u001b[39mcode \u001b[38;5;129;01min\u001b[39;00m _CURSOR_CLOSED_ERRORS:\n\u001b[1;32m    257\u001b[0m         \u001b[38;5;66;03m# Don't send killCursors because the cursor is already closed.\u001b[39;00m\n",
      "File \u001b[0;32m/Library/Frameworks/Python.framework/Versions/3.11/lib/python3.11/site-packages/pymongo/_csot.py:120\u001b[0m, in \u001b[0;36mapply.<locals>.csot_wrapper\u001b[0;34m(self, *args, **kwargs)\u001b[0m\n\u001b[1;32m    118\u001b[0m         \u001b[38;5;28;01mwith\u001b[39;00m _TimeoutContext(timeout):\n\u001b[1;32m    119\u001b[0m             \u001b[38;5;28;01mreturn\u001b[39;00m func(\u001b[38;5;28mself\u001b[39m, \u001b[38;5;241m*\u001b[39margs, \u001b[38;5;241m*\u001b[39m\u001b[38;5;241m*\u001b[39mkwargs)\n\u001b[0;32m--> 120\u001b[0m \u001b[38;5;28;01mreturn\u001b[39;00m \u001b[43mfunc\u001b[49m\u001b[43m(\u001b[49m\u001b[38;5;28;43mself\u001b[39;49m\u001b[43m,\u001b[49m\u001b[43m \u001b[49m\u001b[38;5;241;43m*\u001b[39;49m\u001b[43margs\u001b[49m\u001b[43m,\u001b[49m\u001b[43m \u001b[49m\u001b[38;5;241;43m*\u001b[39;49m\u001b[38;5;241;43m*\u001b[39;49m\u001b[43mkwargs\u001b[49m\u001b[43m)\u001b[49m\n",
      "File \u001b[0;32m/Library/Frameworks/Python.framework/Versions/3.11/lib/python3.11/site-packages/pymongo/synchronous/mongo_client.py:1754\u001b[0m, in \u001b[0;36mMongoClient._run_operation\u001b[0;34m(self, operation, unpack_res, address)\u001b[0m\n\u001b[1;32m   1744\u001b[0m     operation\u001b[38;5;241m.\u001b[39mreset()  \u001b[38;5;66;03m# Reset op in case of retry.\u001b[39;00m\n\u001b[1;32m   1745\u001b[0m     \u001b[38;5;28;01mreturn\u001b[39;00m server\u001b[38;5;241m.\u001b[39mrun_operation(\n\u001b[1;32m   1746\u001b[0m         conn,\n\u001b[1;32m   1747\u001b[0m         operation,\n\u001b[0;32m   (...)\u001b[0m\n\u001b[1;32m   1751\u001b[0m         \u001b[38;5;28mself\u001b[39m,\n\u001b[1;32m   1752\u001b[0m     )\n\u001b[0;32m-> 1754\u001b[0m \u001b[38;5;28;01mreturn\u001b[39;00m \u001b[38;5;28;43mself\u001b[39;49m\u001b[38;5;241;43m.\u001b[39;49m\u001b[43m_retryable_read\u001b[49m\u001b[43m(\u001b[49m\n\u001b[1;32m   1755\u001b[0m \u001b[43m    \u001b[49m\u001b[43m_cmd\u001b[49m\u001b[43m,\u001b[49m\n\u001b[1;32m   1756\u001b[0m \u001b[43m    \u001b[49m\u001b[43moperation\u001b[49m\u001b[38;5;241;43m.\u001b[39;49m\u001b[43mread_preference\u001b[49m\u001b[43m,\u001b[49m\n\u001b[1;32m   1757\u001b[0m \u001b[43m    \u001b[49m\u001b[43moperation\u001b[49m\u001b[38;5;241;43m.\u001b[39;49m\u001b[43msession\u001b[49m\u001b[43m,\u001b[49m\u001b[43m  \u001b[49m\u001b[38;5;66;43;03m# type: ignore[arg-type]\u001b[39;49;00m\n\u001b[1;32m   1758\u001b[0m \u001b[43m    \u001b[49m\u001b[43maddress\u001b[49m\u001b[38;5;241;43m=\u001b[39;49m\u001b[43maddress\u001b[49m\u001b[43m,\u001b[49m\n\u001b[1;32m   1759\u001b[0m \u001b[43m    \u001b[49m\u001b[43mretryable\u001b[49m\u001b[38;5;241;43m=\u001b[39;49m\u001b[38;5;28;43misinstance\u001b[39;49m\u001b[43m(\u001b[49m\u001b[43moperation\u001b[49m\u001b[43m,\u001b[49m\u001b[43m \u001b[49m\u001b[43m_Query\u001b[49m\u001b[43m)\u001b[49m\u001b[43m,\u001b[49m\n\u001b[1;32m   1760\u001b[0m \u001b[43m    \u001b[49m\u001b[43moperation\u001b[49m\u001b[38;5;241;43m=\u001b[39;49m\u001b[43moperation\u001b[49m\u001b[38;5;241;43m.\u001b[39;49m\u001b[43mname\u001b[49m\u001b[43m,\u001b[49m\n\u001b[1;32m   1761\u001b[0m \u001b[43m\u001b[49m\u001b[43m)\u001b[49m\n",
      "File \u001b[0;32m/Library/Frameworks/Python.framework/Versions/3.11/lib/python3.11/site-packages/pymongo/synchronous/mongo_client.py:1863\u001b[0m, in \u001b[0;36mMongoClient._retryable_read\u001b[0;34m(self, func, read_pref, session, operation, address, retryable, operation_id)\u001b[0m\n\u001b[1;32m   1858\u001b[0m \u001b[38;5;66;03m# Ensure that the client supports retrying on reads and there is no session in\u001b[39;00m\n\u001b[1;32m   1859\u001b[0m \u001b[38;5;66;03m# transaction, otherwise, we will not support retry behavior for this call.\u001b[39;00m\n\u001b[1;32m   1860\u001b[0m retryable \u001b[38;5;241m=\u001b[39m \u001b[38;5;28mbool\u001b[39m(\n\u001b[1;32m   1861\u001b[0m     retryable \u001b[38;5;129;01mand\u001b[39;00m \u001b[38;5;28mself\u001b[39m\u001b[38;5;241m.\u001b[39moptions\u001b[38;5;241m.\u001b[39mretry_reads \u001b[38;5;129;01mand\u001b[39;00m \u001b[38;5;129;01mnot\u001b[39;00m (session \u001b[38;5;129;01mand\u001b[39;00m session\u001b[38;5;241m.\u001b[39min_transaction)\n\u001b[1;32m   1862\u001b[0m )\n\u001b[0;32m-> 1863\u001b[0m \u001b[38;5;28;01mreturn\u001b[39;00m \u001b[38;5;28;43mself\u001b[39;49m\u001b[38;5;241;43m.\u001b[39;49m\u001b[43m_retry_internal\u001b[49m\u001b[43m(\u001b[49m\n\u001b[1;32m   1864\u001b[0m \u001b[43m    \u001b[49m\u001b[43mfunc\u001b[49m\u001b[43m,\u001b[49m\n\u001b[1;32m   1865\u001b[0m \u001b[43m    \u001b[49m\u001b[43msession\u001b[49m\u001b[43m,\u001b[49m\n\u001b[1;32m   1866\u001b[0m \u001b[43m    \u001b[49m\u001b[38;5;28;43;01mNone\u001b[39;49;00m\u001b[43m,\u001b[49m\n\u001b[1;32m   1867\u001b[0m \u001b[43m    \u001b[49m\u001b[43moperation\u001b[49m\u001b[43m,\u001b[49m\n\u001b[1;32m   1868\u001b[0m \u001b[43m    \u001b[49m\u001b[43mis_read\u001b[49m\u001b[38;5;241;43m=\u001b[39;49m\u001b[38;5;28;43;01mTrue\u001b[39;49;00m\u001b[43m,\u001b[49m\n\u001b[1;32m   1869\u001b[0m \u001b[43m    \u001b[49m\u001b[43maddress\u001b[49m\u001b[38;5;241;43m=\u001b[39;49m\u001b[43maddress\u001b[49m\u001b[43m,\u001b[49m\n\u001b[1;32m   1870\u001b[0m \u001b[43m    \u001b[49m\u001b[43mread_pref\u001b[49m\u001b[38;5;241;43m=\u001b[39;49m\u001b[43mread_pref\u001b[49m\u001b[43m,\u001b[49m\n\u001b[1;32m   1871\u001b[0m \u001b[43m    \u001b[49m\u001b[43mretryable\u001b[49m\u001b[38;5;241;43m=\u001b[39;49m\u001b[43mretryable\u001b[49m\u001b[43m,\u001b[49m\n\u001b[1;32m   1872\u001b[0m \u001b[43m    \u001b[49m\u001b[43moperation_id\u001b[49m\u001b[38;5;241;43m=\u001b[39;49m\u001b[43moperation_id\u001b[49m\u001b[43m,\u001b[49m\n\u001b[1;32m   1873\u001b[0m \u001b[43m\u001b[49m\u001b[43m)\u001b[49m\n",
      "File \u001b[0;32m/Library/Frameworks/Python.framework/Versions/3.11/lib/python3.11/site-packages/pymongo/_csot.py:120\u001b[0m, in \u001b[0;36mapply.<locals>.csot_wrapper\u001b[0;34m(self, *args, **kwargs)\u001b[0m\n\u001b[1;32m    118\u001b[0m         \u001b[38;5;28;01mwith\u001b[39;00m _TimeoutContext(timeout):\n\u001b[1;32m    119\u001b[0m             \u001b[38;5;28;01mreturn\u001b[39;00m func(\u001b[38;5;28mself\u001b[39m, \u001b[38;5;241m*\u001b[39margs, \u001b[38;5;241m*\u001b[39m\u001b[38;5;241m*\u001b[39mkwargs)\n\u001b[0;32m--> 120\u001b[0m \u001b[38;5;28;01mreturn\u001b[39;00m \u001b[43mfunc\u001b[49m\u001b[43m(\u001b[49m\u001b[38;5;28;43mself\u001b[39;49m\u001b[43m,\u001b[49m\u001b[43m \u001b[49m\u001b[38;5;241;43m*\u001b[39;49m\u001b[43margs\u001b[49m\u001b[43m,\u001b[49m\u001b[43m \u001b[49m\u001b[38;5;241;43m*\u001b[39;49m\u001b[38;5;241;43m*\u001b[39;49m\u001b[43mkwargs\u001b[49m\u001b[43m)\u001b[49m\n",
      "File \u001b[0;32m/Library/Frameworks/Python.framework/Versions/3.11/lib/python3.11/site-packages/pymongo/synchronous/mongo_client.py:1830\u001b[0m, in \u001b[0;36mMongoClient._retry_internal\u001b[0;34m(self, func, session, bulk, operation, is_read, address, read_pref, retryable, operation_id)\u001b[0m\n\u001b[1;32m   1793\u001b[0m \u001b[38;5;129m@_csot\u001b[39m\u001b[38;5;241m.\u001b[39mapply\n\u001b[1;32m   1794\u001b[0m \u001b[38;5;28;01mdef\u001b[39;00m \u001b[38;5;21m_retry_internal\u001b[39m(\n\u001b[1;32m   1795\u001b[0m     \u001b[38;5;28mself\u001b[39m,\n\u001b[0;32m   (...)\u001b[0m\n\u001b[1;32m   1804\u001b[0m     operation_id: Optional[\u001b[38;5;28mint\u001b[39m] \u001b[38;5;241m=\u001b[39m \u001b[38;5;28;01mNone\u001b[39;00m,\n\u001b[1;32m   1805\u001b[0m ) \u001b[38;5;241m-\u001b[39m\u001b[38;5;241m>\u001b[39m T:\n\u001b[1;32m   1806\u001b[0m \u001b[38;5;250m    \u001b[39m\u001b[38;5;124;03m\"\"\"Internal retryable helper for all client transactions.\u001b[39;00m\n\u001b[1;32m   1807\u001b[0m \n\u001b[1;32m   1808\u001b[0m \u001b[38;5;124;03m    :param func: Callback function we want to retry\u001b[39;00m\n\u001b[0;32m   (...)\u001b[0m\n\u001b[1;32m   1817\u001b[0m \u001b[38;5;124;03m    :return: Output of the calling func()\u001b[39;00m\n\u001b[1;32m   1818\u001b[0m \u001b[38;5;124;03m    \"\"\"\u001b[39;00m\n\u001b[1;32m   1819\u001b[0m     \u001b[38;5;28;01mreturn\u001b[39;00m \u001b[43m_ClientConnectionRetryable\u001b[49m\u001b[43m(\u001b[49m\n\u001b[1;32m   1820\u001b[0m \u001b[43m        \u001b[49m\u001b[43mmongo_client\u001b[49m\u001b[38;5;241;43m=\u001b[39;49m\u001b[38;5;28;43mself\u001b[39;49m\u001b[43m,\u001b[49m\n\u001b[1;32m   1821\u001b[0m \u001b[43m        \u001b[49m\u001b[43mfunc\u001b[49m\u001b[38;5;241;43m=\u001b[39;49m\u001b[43mfunc\u001b[49m\u001b[43m,\u001b[49m\n\u001b[1;32m   1822\u001b[0m \u001b[43m        \u001b[49m\u001b[43mbulk\u001b[49m\u001b[38;5;241;43m=\u001b[39;49m\u001b[43mbulk\u001b[49m\u001b[43m,\u001b[49m\n\u001b[1;32m   1823\u001b[0m \u001b[43m        \u001b[49m\u001b[43moperation\u001b[49m\u001b[38;5;241;43m=\u001b[39;49m\u001b[43moperation\u001b[49m\u001b[43m,\u001b[49m\n\u001b[1;32m   1824\u001b[0m \u001b[43m        \u001b[49m\u001b[43mis_read\u001b[49m\u001b[38;5;241;43m=\u001b[39;49m\u001b[43mis_read\u001b[49m\u001b[43m,\u001b[49m\n\u001b[1;32m   1825\u001b[0m \u001b[43m        \u001b[49m\u001b[43msession\u001b[49m\u001b[38;5;241;43m=\u001b[39;49m\u001b[43msession\u001b[49m\u001b[43m,\u001b[49m\n\u001b[1;32m   1826\u001b[0m \u001b[43m        \u001b[49m\u001b[43mread_pref\u001b[49m\u001b[38;5;241;43m=\u001b[39;49m\u001b[43mread_pref\u001b[49m\u001b[43m,\u001b[49m\n\u001b[1;32m   1827\u001b[0m \u001b[43m        \u001b[49m\u001b[43maddress\u001b[49m\u001b[38;5;241;43m=\u001b[39;49m\u001b[43maddress\u001b[49m\u001b[43m,\u001b[49m\n\u001b[1;32m   1828\u001b[0m \u001b[43m        \u001b[49m\u001b[43mretryable\u001b[49m\u001b[38;5;241;43m=\u001b[39;49m\u001b[43mretryable\u001b[49m\u001b[43m,\u001b[49m\n\u001b[1;32m   1829\u001b[0m \u001b[43m        \u001b[49m\u001b[43moperation_id\u001b[49m\u001b[38;5;241;43m=\u001b[39;49m\u001b[43moperation_id\u001b[49m\u001b[43m,\u001b[49m\n\u001b[0;32m-> 1830\u001b[0m \u001b[43m    \u001b[49m\u001b[43m)\u001b[49m\u001b[38;5;241;43m.\u001b[39;49m\u001b[43mrun\u001b[49m\u001b[43m(\u001b[49m\u001b[43m)\u001b[49m\n",
      "File \u001b[0;32m/Library/Frameworks/Python.framework/Versions/3.11/lib/python3.11/site-packages/pymongo/synchronous/mongo_client.py:2554\u001b[0m, in \u001b[0;36m_ClientConnectionRetryable.run\u001b[0;34m(self)\u001b[0m\n\u001b[1;32m   2552\u001b[0m \u001b[38;5;28mself\u001b[39m\u001b[38;5;241m.\u001b[39m_check_last_error(check_csot\u001b[38;5;241m=\u001b[39m\u001b[38;5;28;01mTrue\u001b[39;00m)\n\u001b[1;32m   2553\u001b[0m \u001b[38;5;28;01mtry\u001b[39;00m:\n\u001b[0;32m-> 2554\u001b[0m     \u001b[38;5;28;01mreturn\u001b[39;00m \u001b[38;5;28;43mself\u001b[39;49m\u001b[38;5;241;43m.\u001b[39;49m\u001b[43m_read\u001b[49m\u001b[43m(\u001b[49m\u001b[43m)\u001b[49m \u001b[38;5;28;01mif\u001b[39;00m \u001b[38;5;28mself\u001b[39m\u001b[38;5;241m.\u001b[39m_is_read \u001b[38;5;28;01melse\u001b[39;00m \u001b[38;5;28mself\u001b[39m\u001b[38;5;241m.\u001b[39m_write()\n\u001b[1;32m   2555\u001b[0m \u001b[38;5;28;01mexcept\u001b[39;00m ServerSelectionTimeoutError:\n\u001b[1;32m   2556\u001b[0m     \u001b[38;5;66;03m# The application may think the write was never attempted\u001b[39;00m\n\u001b[1;32m   2557\u001b[0m     \u001b[38;5;66;03m# if we raise ServerSelectionTimeoutError on the retry\u001b[39;00m\n\u001b[1;32m   2558\u001b[0m     \u001b[38;5;66;03m# attempt. Raise the original exception instead.\u001b[39;00m\n\u001b[1;32m   2559\u001b[0m     \u001b[38;5;28mself\u001b[39m\u001b[38;5;241m.\u001b[39m_check_last_error()\n",
      "File \u001b[0;32m/Library/Frameworks/Python.framework/Versions/3.11/lib/python3.11/site-packages/pymongo/synchronous/mongo_client.py:2697\u001b[0m, in \u001b[0;36m_ClientConnectionRetryable._read\u001b[0;34m(self)\u001b[0m\n\u001b[1;32m   2695\u001b[0m \u001b[38;5;28;01mif\u001b[39;00m \u001b[38;5;28mself\u001b[39m\u001b[38;5;241m.\u001b[39m_retrying \u001b[38;5;129;01mand\u001b[39;00m \u001b[38;5;129;01mnot\u001b[39;00m \u001b[38;5;28mself\u001b[39m\u001b[38;5;241m.\u001b[39m_retryable:\n\u001b[1;32m   2696\u001b[0m     \u001b[38;5;28mself\u001b[39m\u001b[38;5;241m.\u001b[39m_check_last_error()\n\u001b[0;32m-> 2697\u001b[0m \u001b[38;5;28;01mreturn\u001b[39;00m \u001b[38;5;28;43mself\u001b[39;49m\u001b[38;5;241;43m.\u001b[39;49m\u001b[43m_func\u001b[49m\u001b[43m(\u001b[49m\u001b[38;5;28;43mself\u001b[39;49m\u001b[38;5;241;43m.\u001b[39;49m\u001b[43m_session\u001b[49m\u001b[43m,\u001b[49m\u001b[43m \u001b[49m\u001b[38;5;28;43mself\u001b[39;49m\u001b[38;5;241;43m.\u001b[39;49m\u001b[43m_server\u001b[49m\u001b[43m,\u001b[49m\u001b[43m \u001b[49m\u001b[43mconn\u001b[49m\u001b[43m,\u001b[49m\u001b[43m \u001b[49m\u001b[43mread_pref\u001b[49m\u001b[43m)\u001b[49m\n",
      "File \u001b[0;32m/Library/Frameworks/Python.framework/Versions/3.11/lib/python3.11/site-packages/pymongo/synchronous/mongo_client.py:1745\u001b[0m, in \u001b[0;36mMongoClient._run_operation.<locals>._cmd\u001b[0;34m(_session, server, conn, read_preference)\u001b[0m\n\u001b[1;32m   1738\u001b[0m \u001b[38;5;28;01mdef\u001b[39;00m \u001b[38;5;21m_cmd\u001b[39m(\n\u001b[1;32m   1739\u001b[0m     _session: Optional[ClientSession],\n\u001b[1;32m   1740\u001b[0m     server: Server,\n\u001b[1;32m   1741\u001b[0m     conn: Connection,\n\u001b[1;32m   1742\u001b[0m     read_preference: _ServerMode,\n\u001b[1;32m   1743\u001b[0m ) \u001b[38;5;241m-\u001b[39m\u001b[38;5;241m>\u001b[39m Response:\n\u001b[1;32m   1744\u001b[0m     operation\u001b[38;5;241m.\u001b[39mreset()  \u001b[38;5;66;03m# Reset op in case of retry.\u001b[39;00m\n\u001b[0;32m-> 1745\u001b[0m     \u001b[38;5;28;01mreturn\u001b[39;00m \u001b[43mserver\u001b[49m\u001b[38;5;241;43m.\u001b[39;49m\u001b[43mrun_operation\u001b[49m\u001b[43m(\u001b[49m\n\u001b[1;32m   1746\u001b[0m \u001b[43m        \u001b[49m\u001b[43mconn\u001b[49m\u001b[43m,\u001b[49m\n\u001b[1;32m   1747\u001b[0m \u001b[43m        \u001b[49m\u001b[43moperation\u001b[49m\u001b[43m,\u001b[49m\n\u001b[1;32m   1748\u001b[0m \u001b[43m        \u001b[49m\u001b[43mread_preference\u001b[49m\u001b[43m,\u001b[49m\n\u001b[1;32m   1749\u001b[0m \u001b[43m        \u001b[49m\u001b[38;5;28;43mself\u001b[39;49m\u001b[38;5;241;43m.\u001b[39;49m\u001b[43m_event_listeners\u001b[49m\u001b[43m,\u001b[49m\n\u001b[1;32m   1750\u001b[0m \u001b[43m        \u001b[49m\u001b[43munpack_res\u001b[49m\u001b[43m,\u001b[49m\n\u001b[1;32m   1751\u001b[0m \u001b[43m        \u001b[49m\u001b[38;5;28;43mself\u001b[39;49m\u001b[43m,\u001b[49m\n\u001b[1;32m   1752\u001b[0m \u001b[43m    \u001b[49m\u001b[43m)\u001b[49m\n",
      "File \u001b[0;32m/Library/Frameworks/Python.framework/Versions/3.11/lib/python3.11/site-packages/pymongo/synchronous/helpers.py:45\u001b[0m, in \u001b[0;36m_handle_reauth.<locals>.inner\u001b[0;34m(*args, **kwargs)\u001b[0m\n\u001b[1;32m     42\u001b[0m \u001b[38;5;28;01mfrom\u001b[39;00m \u001b[38;5;21;01mpymongo\u001b[39;00m\u001b[38;5;21;01m.\u001b[39;00m\u001b[38;5;21;01msynchronous\u001b[39;00m\u001b[38;5;21;01m.\u001b[39;00m\u001b[38;5;21;01mpool\u001b[39;00m \u001b[38;5;28;01mimport\u001b[39;00m Connection\n\u001b[1;32m     44\u001b[0m \u001b[38;5;28;01mtry\u001b[39;00m:\n\u001b[0;32m---> 45\u001b[0m     \u001b[38;5;28;01mreturn\u001b[39;00m \u001b[43mfunc\u001b[49m\u001b[43m(\u001b[49m\u001b[38;5;241;43m*\u001b[39;49m\u001b[43margs\u001b[49m\u001b[43m,\u001b[49m\u001b[43m \u001b[49m\u001b[38;5;241;43m*\u001b[39;49m\u001b[38;5;241;43m*\u001b[39;49m\u001b[43mkwargs\u001b[49m\u001b[43m)\u001b[49m\n\u001b[1;32m     46\u001b[0m \u001b[38;5;28;01mexcept\u001b[39;00m OperationFailure \u001b[38;5;28;01mas\u001b[39;00m exc:\n\u001b[1;32m     47\u001b[0m     \u001b[38;5;28;01mif\u001b[39;00m no_reauth:\n",
      "File \u001b[0;32m/Library/Frameworks/Python.framework/Versions/3.11/lib/python3.11/site-packages/pymongo/synchronous/server.py:208\u001b[0m, in \u001b[0;36mServer.run_operation\u001b[0;34m(self, conn, operation, read_preference, listeners, unpack_res, client)\u001b[0m\n\u001b[1;32m    206\u001b[0m \u001b[38;5;28;01melse\u001b[39;00m:\n\u001b[1;32m    207\u001b[0m     conn\u001b[38;5;241m.\u001b[39msend_message(data, max_doc_size)\n\u001b[0;32m--> 208\u001b[0m     reply \u001b[38;5;241m=\u001b[39m \u001b[43mconn\u001b[49m\u001b[38;5;241;43m.\u001b[39;49m\u001b[43mreceive_message\u001b[49m\u001b[43m(\u001b[49m\u001b[43mrequest_id\u001b[49m\u001b[43m)\u001b[49m\n\u001b[1;32m    210\u001b[0m \u001b[38;5;66;03m# Unpack and check for command errors.\u001b[39;00m\n\u001b[1;32m    211\u001b[0m \u001b[38;5;28;01mif\u001b[39;00m use_cmd:\n",
      "File \u001b[0;32m/Library/Frameworks/Python.framework/Versions/3.11/lib/python3.11/site-packages/pymongo/synchronous/pool.py:592\u001b[0m, in \u001b[0;36mConnection.receive_message\u001b[0;34m(self, request_id)\u001b[0m\n\u001b[1;32m    590\u001b[0m     \u001b[38;5;28;01mreturn\u001b[39;00m receive_message(\u001b[38;5;28mself\u001b[39m, request_id, \u001b[38;5;28mself\u001b[39m\u001b[38;5;241m.\u001b[39mmax_message_size)\n\u001b[1;32m    591\u001b[0m \u001b[38;5;28;01mexcept\u001b[39;00m \u001b[38;5;167;01mBaseException\u001b[39;00m \u001b[38;5;28;01mas\u001b[39;00m error:\n\u001b[0;32m--> 592\u001b[0m     \u001b[38;5;28;43mself\u001b[39;49m\u001b[38;5;241;43m.\u001b[39;49m\u001b[43m_raise_connection_failure\u001b[49m\u001b[43m(\u001b[49m\u001b[43merror\u001b[49m\u001b[43m)\u001b[49m\n",
      "File \u001b[0;32m/Library/Frameworks/Python.framework/Versions/3.11/lib/python3.11/site-packages/pymongo/synchronous/pool.py:590\u001b[0m, in \u001b[0;36mConnection.receive_message\u001b[0;34m(self, request_id)\u001b[0m\n\u001b[1;32m    585\u001b[0m \u001b[38;5;250m\u001b[39m\u001b[38;5;124;03m\"\"\"Receive a raw BSON message or raise ConnectionFailure.\u001b[39;00m\n\u001b[1;32m    586\u001b[0m \n\u001b[1;32m    587\u001b[0m \u001b[38;5;124;03mIf any exception is raised, the socket is closed.\u001b[39;00m\n\u001b[1;32m    588\u001b[0m \u001b[38;5;124;03m\"\"\"\u001b[39;00m\n\u001b[1;32m    589\u001b[0m \u001b[38;5;28;01mtry\u001b[39;00m:\n\u001b[0;32m--> 590\u001b[0m     \u001b[38;5;28;01mreturn\u001b[39;00m \u001b[43mreceive_message\u001b[49m\u001b[43m(\u001b[49m\u001b[38;5;28;43mself\u001b[39;49m\u001b[43m,\u001b[49m\u001b[43m \u001b[49m\u001b[43mrequest_id\u001b[49m\u001b[43m,\u001b[49m\u001b[43m \u001b[49m\u001b[38;5;28;43mself\u001b[39;49m\u001b[38;5;241;43m.\u001b[39;49m\u001b[43mmax_message_size\u001b[49m\u001b[43m)\u001b[49m\n\u001b[1;32m    591\u001b[0m \u001b[38;5;28;01mexcept\u001b[39;00m \u001b[38;5;167;01mBaseException\u001b[39;00m \u001b[38;5;28;01mas\u001b[39;00m error:\n\u001b[1;32m    592\u001b[0m     \u001b[38;5;28mself\u001b[39m\u001b[38;5;241m.\u001b[39m_raise_connection_failure(error)\n",
      "File \u001b[0;32m/Library/Frameworks/Python.framework/Versions/3.11/lib/python3.11/site-packages/pymongo/synchronous/network.py:340\u001b[0m, in \u001b[0;36mreceive_message\u001b[0;34m(conn, request_id, max_message_size)\u001b[0m\n\u001b[1;32m    338\u001b[0m     data \u001b[38;5;241m=\u001b[39m decompress(_receive_data_on_socket(conn, length \u001b[38;5;241m-\u001b[39m \u001b[38;5;241m25\u001b[39m, deadline), compressor_id)\n\u001b[1;32m    339\u001b[0m \u001b[38;5;28;01melse\u001b[39;00m:\n\u001b[0;32m--> 340\u001b[0m     data \u001b[38;5;241m=\u001b[39m \u001b[43m_receive_data_on_socket\u001b[49m\u001b[43m(\u001b[49m\u001b[43mconn\u001b[49m\u001b[43m,\u001b[49m\u001b[43m \u001b[49m\u001b[43mlength\u001b[49m\u001b[43m \u001b[49m\u001b[38;5;241;43m-\u001b[39;49m\u001b[43m \u001b[49m\u001b[38;5;241;43m16\u001b[39;49m\u001b[43m,\u001b[49m\u001b[43m \u001b[49m\u001b[43mdeadline\u001b[49m\u001b[43m)\u001b[49m\n\u001b[1;32m    342\u001b[0m \u001b[38;5;28;01mtry\u001b[39;00m:\n\u001b[1;32m    343\u001b[0m     unpack_reply \u001b[38;5;241m=\u001b[39m _UNPACK_REPLY[op_code]\n",
      "File \u001b[0;32m/Library/Frameworks/Python.framework/Versions/3.11/lib/python3.11/site-packages/pymongo/synchronous/network.py:396\u001b[0m, in \u001b[0;36m_receive_data_on_socket\u001b[0;34m(conn, length, deadline)\u001b[0m\n\u001b[1;32m    394\u001b[0m     \u001b[38;5;28;01mif\u001b[39;00m _csot\u001b[38;5;241m.\u001b[39mget_timeout() \u001b[38;5;129;01mand\u001b[39;00m deadline \u001b[38;5;129;01mis\u001b[39;00m \u001b[38;5;129;01mnot\u001b[39;00m \u001b[38;5;28;01mNone\u001b[39;00m:\n\u001b[1;32m    395\u001b[0m         conn\u001b[38;5;241m.\u001b[39mset_conn_timeout(\u001b[38;5;28mmax\u001b[39m(deadline \u001b[38;5;241m-\u001b[39m time\u001b[38;5;241m.\u001b[39mmonotonic(), \u001b[38;5;241m0\u001b[39m))\n\u001b[0;32m--> 396\u001b[0m     chunk_length \u001b[38;5;241m=\u001b[39m \u001b[43mconn\u001b[49m\u001b[38;5;241;43m.\u001b[39;49m\u001b[43mconn\u001b[49m\u001b[38;5;241;43m.\u001b[39;49m\u001b[43mrecv_into\u001b[49m\u001b[43m(\u001b[49m\u001b[43mmv\u001b[49m\u001b[43m[\u001b[49m\u001b[43mbytes_read\u001b[49m\u001b[43m:\u001b[49m\u001b[43m]\u001b[49m\u001b[43m)\u001b[49m\n\u001b[1;32m    397\u001b[0m \u001b[38;5;28;01mexcept\u001b[39;00m BLOCKING_IO_ERRORS:\n\u001b[1;32m    398\u001b[0m     \u001b[38;5;28;01mraise\u001b[39;00m socket\u001b[38;5;241m.\u001b[39mtimeout(\u001b[38;5;124m\"\u001b[39m\u001b[38;5;124mtimed out\u001b[39m\u001b[38;5;124m\"\u001b[39m) \u001b[38;5;28;01mfrom\u001b[39;00m \u001b[38;5;28;01mNone\u001b[39;00m\n",
      "File \u001b[0;32m/Library/Frameworks/Python.framework/Versions/3.11/lib/python3.11/ssl.py:1278\u001b[0m, in \u001b[0;36mSSLSocket.recv_into\u001b[0;34m(self, buffer, nbytes, flags)\u001b[0m\n\u001b[1;32m   1274\u001b[0m     \u001b[38;5;28;01mif\u001b[39;00m flags \u001b[38;5;241m!=\u001b[39m \u001b[38;5;241m0\u001b[39m:\n\u001b[1;32m   1275\u001b[0m         \u001b[38;5;28;01mraise\u001b[39;00m \u001b[38;5;167;01mValueError\u001b[39;00m(\n\u001b[1;32m   1276\u001b[0m           \u001b[38;5;124m\"\u001b[39m\u001b[38;5;124mnon-zero flags not allowed in calls to recv_into() on \u001b[39m\u001b[38;5;132;01m%s\u001b[39;00m\u001b[38;5;124m\"\u001b[39m \u001b[38;5;241m%\u001b[39m\n\u001b[1;32m   1277\u001b[0m           \u001b[38;5;28mself\u001b[39m\u001b[38;5;241m.\u001b[39m\u001b[38;5;18m__class__\u001b[39m)\n\u001b[0;32m-> 1278\u001b[0m     \u001b[38;5;28;01mreturn\u001b[39;00m \u001b[38;5;28;43mself\u001b[39;49m\u001b[38;5;241;43m.\u001b[39;49m\u001b[43mread\u001b[49m\u001b[43m(\u001b[49m\u001b[43mnbytes\u001b[49m\u001b[43m,\u001b[49m\u001b[43m \u001b[49m\u001b[43mbuffer\u001b[49m\u001b[43m)\u001b[49m\n\u001b[1;32m   1279\u001b[0m \u001b[38;5;28;01melse\u001b[39;00m:\n\u001b[1;32m   1280\u001b[0m     \u001b[38;5;28;01mreturn\u001b[39;00m \u001b[38;5;28msuper\u001b[39m()\u001b[38;5;241m.\u001b[39mrecv_into(buffer, nbytes, flags)\n",
      "File \u001b[0;32m/Library/Frameworks/Python.framework/Versions/3.11/lib/python3.11/ssl.py:1134\u001b[0m, in \u001b[0;36mSSLSocket.read\u001b[0;34m(self, len, buffer)\u001b[0m\n\u001b[1;32m   1132\u001b[0m \u001b[38;5;28;01mtry\u001b[39;00m:\n\u001b[1;32m   1133\u001b[0m     \u001b[38;5;28;01mif\u001b[39;00m buffer \u001b[38;5;129;01mis\u001b[39;00m \u001b[38;5;129;01mnot\u001b[39;00m \u001b[38;5;28;01mNone\u001b[39;00m:\n\u001b[0;32m-> 1134\u001b[0m         \u001b[38;5;28;01mreturn\u001b[39;00m \u001b[38;5;28;43mself\u001b[39;49m\u001b[38;5;241;43m.\u001b[39;49m\u001b[43m_sslobj\u001b[49m\u001b[38;5;241;43m.\u001b[39;49m\u001b[43mread\u001b[49m\u001b[43m(\u001b[49m\u001b[38;5;28;43mlen\u001b[39;49m\u001b[43m,\u001b[49m\u001b[43m \u001b[49m\u001b[43mbuffer\u001b[49m\u001b[43m)\u001b[49m\n\u001b[1;32m   1135\u001b[0m     \u001b[38;5;28;01melse\u001b[39;00m:\n\u001b[1;32m   1136\u001b[0m         \u001b[38;5;28;01mreturn\u001b[39;00m \u001b[38;5;28mself\u001b[39m\u001b[38;5;241m.\u001b[39m_sslobj\u001b[38;5;241m.\u001b[39mread(\u001b[38;5;28mlen\u001b[39m)\n",
      "\u001b[0;31mKeyboardInterrupt\u001b[0m: "
     ]
    }
   ],
   "source": [
    "# getting feedbacks from mongo\n",
    "\n",
    "from_mongo = pd.DataFrame(list(collection.aggregate([\n",
    "    {\n",
    "        '$match': {\n",
    "            'brand': BRAND,\n",
    "        },\n",
    "    },\n",
    "])))\n",
    "\n",
    "from_mongo.shape"
   ]
  },
  {
   "cell_type": "code",
   "execution_count": 14,
   "metadata": {},
   "outputs": [],
   "source": [
    "def format_ligne(ligne):\n",
    "    # Fonction interne pour gérer les valeurs manquantes\n",
    "    def extraire_champ(champ, allow_empty=False):\n",
    "        return champ if pd.notnull(champ) and (allow_empty or champ != 'N/A') else None\n",
    "\n",
    "    # Champs obligatoires et facultatifs\n",
    "    champs = [\n",
    "        (\"Intitulé Structure 1\", ligne.get(\"intitule_structure_1\"), False),\n",
    "        (\"Intitulé Structure 2\", ligne.get(\"intitule_structure_2\"), True),\n",
    "        (\"Tags Métiers\", ligne.get(\"tags_metiers\"), True),\n",
    "        (\"Pays de la demande\", ligne.get(\"pays\"), False)\n",
    "    ]\n",
    "    \n",
    "    # Initialisation des lignes avec une phrase fixe\n",
    "    lignes = [\"Feedbacks are from French public services.\"]\n",
    "    \n",
    "    # Génération des lignes dynamiques si les champs sont présents\n",
    "    for label, champ, allow_empty in champs:\n",
    "        valeur = extraire_champ(champ, allow_empty)\n",
    "        if valeur:\n",
    "            lignes.append(f\"{label}: {valeur}\")\n",
    "    \n",
    "    # Retour du résultat formaté\n",
    "    return \"\\n\".join(lignes)"
   ]
  },
  {
   "cell_type": "code",
   "execution_count": 32,
   "metadata": {},
   "outputs": [
    {
     "name": "stdout",
     "output_type": "stream",
     "text": [
      "(43, 85)\n",
      "Example of row: Passeport et social\n",
      "Passeport délai pour rendez vous avec erreur de communications du consulat.\n",
      "Dossier pour la CFE envoyé le 15 Septembre, toujours pas de réponse de réception ou corrections, seulement des e-mails automatique \"ne répondez pas a cet e-mail\"\n",
      "PLUS de visas pour la famille du Français(e) directement au consulat, très coûteux et long en passant par une agence privée.\n",
      "Consulats de pire en pire et de moins en moins de services, une honte française. Bonne journee si vraiment vous nous lisez....\n"
     ]
    }
   ],
   "source": [
    "# Keeping only feedbacks with extractions and splitted_analysis_v2\n",
    "\n",
    "# subdf = from_mongo[from_mongo['extractions'].notna()]\n",
    "# subdf = subdf[subdf['splitted_analysis_v2'].notna()]\n",
    "df = pd.read_csv('ditp_test_2.csv')\n",
    "subdf = df\n",
    "subdf['brand_context'] = subdf.apply(format_ligne, axis=1)\n",
    "print(subdf.shape)\n",
    "\n",
    "row = subdf.sample().iloc[0]\n",
    "\n",
    "print(\"Example of row:\", row.verbatims)\n"
   ]
  },
  {
   "cell_type": "markdown",
   "metadata": {},
   "source": [
    "The function `classify_feedback_extractions` is used to classify each extraction."
   ]
  },
  {
   "cell_type": "code",
   "execution_count": 33,
   "metadata": {},
   "outputs": [
    {
     "name": "stdout",
     "output_type": "stream",
     "text": [
      "ditp_analysis/385794\n",
      "[{'sentiment': 'NEGATIVE', 'extraction': 'Délai pour rendez-vous avec erreur de communication du consulat', 'text': 'Passeport délai pour rendez vous avec erreur de communications du consulat.'}, {'sentiment': 'NEGATIVE', 'extraction': 'Pas de réponse de réception ou corrections pour le dossier CFE', 'text': 'Dossier pour la CFE envoyé le 15 Septembre,'}, {'sentiment': 'NEGATIVE', 'extraction': 'Pas de réponse de réception ou corrections pour le dossier CFE', 'text': ' toujours pas de réponse de réception ou corrections,'}, {'sentiment': 'NEGATIVE', 'extraction': 'E-mails automatiques sans réponse', 'text': ' seulement des e-mails automatique \"ne répondez pas a cet e-mail\"\\r\\n'}, {'sentiment': 'NEGATIVE', 'extraction': 'Coût et durée élevés pour obtenir des visas via une agence privée', 'text': 'PLUS de visas pour la famille du Français(e) directement au consulat,'}, {'sentiment': 'NEGATIVE', 'extraction': 'Coût et durée élevés pour obtenir des visas via une agence privée', 'text': ' très coûteux et long en passant par une agence privée.'}, {'sentiment': 'NEGATIVE', 'extraction': 'Qualité des consulats en déclin et services réduits', 'text': 'Consulats de pire en pire et de moins en moins de services,'}, {'sentiment': 'NEGATIVE', 'extraction': 'Situation honteuse pour les services français', 'text': ' une honte française.'}]\n",
      "Feedbacks are from French public services.\n",
      "Intitulé Structure 1: Ambassade de France aux Philippines\n",
      "Pays de la demande: Philippines\n",
      "<class 'str'>\n",
      "<class 'str'>\n",
      "<class 'str'>\n"
     ]
    }
   ],
   "source": [
    "print(row[\"_id\"])\n",
    "print(row[\"extractions\"])\n",
    "print(row[\"brand_context\"])\n",
    "\n",
    "print(type(row[\"_id\"]))\n",
    "print(type(row[\"extractions\"]))\n",
    "print(type(row[\"brand_context\"]))"
   ]
  },
  {
   "cell_type": "code",
   "execution_count": 34,
   "metadata": {},
   "outputs": [
    {
     "data": {
      "text/plain": [
       "{'id': 'ditp_analysis/385794',\n",
       " 'extractions': [{'sentiment': 'NEGATIVE',\n",
       "   'extraction': 'Délai pour rendez-vous avec erreur de communication du consulat',\n",
       "   'text': 'Passeport délai pour rendez vous avec erreur de communications du consulat.',\n",
       "   'elementary_subjects': ['Service : Délai de Rendez-vous : Erreur de Communication'],\n",
       "   'topics': {}},\n",
       "  {'sentiment': 'NEGATIVE',\n",
       "   'extraction': 'Pas de réponse de réception ou corrections pour le dossier CFE',\n",
       "   'text': 'Dossier pour la CFE envoyé le 15 Septembre,',\n",
       "   'elementary_subjects': ['Service : Communication : Absence de Réponse sur Dossier CFE'],\n",
       "   'topics': {}},\n",
       "  {'sentiment': 'NEGATIVE',\n",
       "   'extraction': 'Pas de réponse de réception ou corrections pour le dossier CFE',\n",
       "   'text': ' toujours pas de réponse de réception ou corrections,',\n",
       "   'elementary_subjects': ['Service : Communication : Absence de Réponse sur Dossier CFE'],\n",
       "   'topics': {}},\n",
       "  {'sentiment': 'NEGATIVE',\n",
       "   'extraction': 'E-mails automatiques sans réponse',\n",
       "   'text': ' seulement des e-mails automatique \"ne répondez pas a cet e-mail\"\\r\\n',\n",
       "   'elementary_subjects': ['Service : Communication : E-mails Automatiques Sans Réponse'],\n",
       "   'topics': {}},\n",
       "  {'sentiment': 'NEGATIVE',\n",
       "   'extraction': 'Coût et durée élevés pour obtenir des visas via une agence privée',\n",
       "   'text': 'PLUS de visas pour la famille du Français(e) directement au consulat,',\n",
       "   'elementary_subjects': ['Services : Coût et Durée : Obtention de Visas via Agence Privée'],\n",
       "   'topics': {}},\n",
       "  {'sentiment': 'NEGATIVE',\n",
       "   'extraction': 'Coût et durée élevés pour obtenir des visas via une agence privée',\n",
       "   'text': ' très coûteux et long en passant par une agence privée.',\n",
       "   'elementary_subjects': ['Services : Coût et Durée des Visas : Agences Privées'],\n",
       "   'topics': {}},\n",
       "  {'sentiment': 'NEGATIVE',\n",
       "   'extraction': 'Qualité des consulats en déclin et services réduits',\n",
       "   'text': 'Consulats de pire en pire et de moins en moins de services,',\n",
       "   'elementary_subjects': ['Services : Qualité des Consulats : Déclin des Services'],\n",
       "   'topics': {}},\n",
       "  {'sentiment': 'NEGATIVE',\n",
       "   'extraction': 'Situation honteuse pour les services français',\n",
       "   'text': ' une honte française.'}]}"
      ]
     },
     "execution_count": 34,
     "metadata": {},
     "output_type": "execute_result"
    }
   ],
   "source": [
    "res = classify_feedback_extractions(\n",
    "    feedback_id=row['_id'],\n",
    "    extractions=ast.literal_eval(row[\"extractions\"]),\n",
    "    model=\"gpt-4o-mini\",\n",
    "    brand_name=BRAND,\n",
    "    brand_context=row[\"brand_context\"],\n",
    "    language=\"french\",\n",
    "    extractions_column=\"extractions\",\n",
    "    should_update_mongo=False\n",
    ")\n",
    "\n",
    "res"
   ]
  },
  {
   "cell_type": "code",
   "execution_count": 8,
   "metadata": {},
   "outputs": [],
   "source": [
    "# this function allows to parallelize the analysis process and to save the results on the mongo database\n",
    "from utils.analysis_utils import run_analysis_full_parallel"
   ]
  },
  {
   "cell_type": "code",
   "execution_count": 11,
   "metadata": {},
   "outputs": [],
   "source": [
    "\n",
    "importlib.reload(utils.analysis_utils)\n",
    "\n",
    "# Now you can import your functions\n",
    "from utils.analysis_utils import run_analysis_full_parallel"
   ]
  },
  {
   "cell_type": "code",
   "execution_count": 9,
   "metadata": {},
   "outputs": [
    {
     "name": "stdout",
     "output_type": "stream",
     "text": [
      "To extract: 10\n"
     ]
    }
   ],
   "source": [
    "to_analyse = subdf.sample(10) # test on a subset\n",
    "print('To extract:', to_analyse.shape[0])\n",
    "\n",
    "extractions_with_ids = to_analyse[['extractions', '_id']].to_dict(orient='records')"
   ]
  },
  {
   "cell_type": "code",
   "execution_count": 12,
   "metadata": {},
   "outputs": [
    {
     "name": "stdout",
     "output_type": "stream",
     "text": [
      "t\n"
     ]
    },
    {
     "name": "stderr",
     "output_type": "stream",
     "text": [
      "Processing chunks: 100%|██████████| 1/1 [00:00<00:00, 10305.42it/s]\n"
     ]
    },
    {
     "data": {
      "text/plain": [
       "[[], [], [], [], [], [], [], [], [], []]"
      ]
     },
     "execution_count": 12,
     "metadata": {},
     "output_type": "execute_result"
    }
   ],
   "source": [
    "analysis = run_analysis_full_parallel(\n",
    "    extractions_with_ids,\n",
    "    BRAND,\n",
    "    brand_descr=BRAND_DESCR,\n",
    "    language='french',\n",
    "    model=\"gpt-4o-mini\",\n",
    "    save_to_mongo=False\n",
    ")\n",
    "\n",
    "analysis"
   ]
  },
  {
   "cell_type": "code",
   "execution_count": null,
   "metadata": {},
   "outputs": [
    {
     "data": {
      "text/plain": [
       "[{'id': 'columbuscafe_test/5b6e404652649c8ae22e',\n",
       "  'extractions': [{'sentiment': 'POSITIVE',\n",
       "    'extraction': 'Appréciation générale',\n",
       "    'text': '2👍',\n",
       "    'elementary_subjects': ['Satisfaction générale : Volonté de revenir'],\n",
       "    'topics': []}]},\n",
       " {'id': 'columbuscafe_test/72f750f6fe9766ce0e77',\n",
       "  'extractions': [{'sentiment': 'NEGATIVE',\n",
       "    'extraction': 'Erreur dans la commande',\n",
       "    'text': 'Encore une fois une erreur dans la commande,',\n",
       "    'elementary_subjects': ['Service : Problème de traitement des commandes : Commande non traitée'],\n",
       "    'topics': []},\n",
       "   {'sentiment': 'NEGATIVE',\n",
       "    'extraction': 'Problèmes récurrents avec les commandes sur Deliveroo',\n",
       "    'text': ' comme à chaque commande réalisée sur Deliveroo.',\n",
       "    'elementary_subjects': ['Service : Problème de traitement des commandes : Problèmes avec les commandes sur Deliveroo'],\n",
       "    'topics': []},\n",
       "   {'sentiment': 'POSITIVE',\n",
       "    'extraction': 'Service généralement bon en boutique',\n",
       "    'text': ' Cliente de la boutique le service est toujours bien sauf quand on commande !',\n",
       "    'elementary_subjects': [\"Service : Qualité de l'équipe\"],\n",
       "    'topics': []},\n",
       "   {'sentiment': 'NEGATIVE',\n",
       "    'extraction': 'Prix élevé des petites boissons avec frais',\n",
       "    'text': ' Sauf que lorsqu’on paye une petite boisson 8€ avec les frais ça fait râler à force.',\n",
       "    'elementary_subjects': ['Prix : Tarifs élevés'],\n",
       "    'topics': [{'topic': {'1': 'Prix', '2': 'Prix des produits'},\n",
       "      'classification_scheme_id': ObjectId('66df25bf365a29ed53caf5a2'),\n",
       "      'classification_scheme_name': 'Test Classification Scheme'}]}]},\n",
       " {'id': 'columbuscafe_test/ece98e66b43e4fbbdbb4',\n",
       "  'extractions': [{'sentiment': 'POSITIVE',\n",
       "    'extraction': 'Rapport qualité-prix avantageux',\n",
       "    'text': 'rapport qualité prix prix avantageux',\n",
       "    'elementary_subjects': ['Prix : Rapport qualité-prix'],\n",
       "    'topics': [{'topic': {'1': 'Prix', '2': 'Prix des produits'},\n",
       "      'classification_scheme_id': ObjectId('66df25bf365a29ed53caf5a2'),\n",
       "      'classification_scheme_name': 'Test Classification Scheme'}]}]},\n",
       " {'id': 'columbuscafe_test/12e3c568ad741bf2ef96',\n",
       "  'extractions': [{'sentiment': 'NEGATIVE',\n",
       "    'extraction': 'Attente de 25 minutes pour un café',\n",
       "    'text': 'Attendu 25 mn pour un café ….',\n",
       "    'elementary_subjects': [\"Service : Temps d'attente : Longue attente\"],\n",
       "    'topics': [{'topic': {'1': 'Service', '2': 'Rapidité du service'},\n",
       "      'classification_scheme_id': ObjectId('66df25bf365a29ed53caf5a2'),\n",
       "      'classification_scheme_name': 'Test Classification Scheme'}]},\n",
       "   {'sentiment': 'NEGATIVE',\n",
       "    'extraction': 'Service insuffisant avec une seule serveuse',\n",
       "    'text': ' 1 serveuse …..',\n",
       "    'elementary_subjects': ['Service : Organisation du personnel : Désorganisation du personnel'],\n",
       "    'topics': []},\n",
       "   {'sentiment': 'NEGATIVE',\n",
       "    'extraction': 'Café de mauvaise qualité',\n",
       "    'text': ' et en plus le café n’est pas bon …\\n',\n",
       "    'elementary_subjects': ['Produits : Problème de qualité : Café de mauvaise qualité'],\n",
       "    'topics': [{'topic': {'1': 'Personnel', '2': 'Aimabilité du personnel'},\n",
       "      'classification_scheme_id': ObjectId('66df25bf365a29ed53caf5a2'),\n",
       "      'classification_scheme_name': 'Test Classification Scheme'}]},\n",
       "   {'sentiment': 'NEGATIVE',\n",
       "    'extraction': 'Déception générale',\n",
       "    'text': 'Vraiment très déçu,'},\n",
       "   {'sentiment': 'NEGATIVE',\n",
       "    'extraction': 'Décision de ne pas revenir',\n",
       "    'text': ' ne reviendrai plus !'}]},\n",
       " {'id': 'columbuscafe_test/e0e6365ca6e5f9be3d6b',\n",
       "  'extractions': [{'sentiment': 'POSITIVE',\n",
       "    'extraction': 'Super accueil',\n",
       "    'text': 'Super accueil 😁',\n",
       "    'elementary_subjects': ['Service : Accueil chaleureux'],\n",
       "    'topics': [{'topic': {'1': 'Personnel', '2': 'Aimabilité du personnel'},\n",
       "      'classification_scheme_id': ObjectId('66df25bf365a29ed53caf5a2'),\n",
       "      'classification_scheme_name': 'Test Classification Scheme'}]}]},\n",
       " {'id': 'columbuscafe_test/f9e272df0d4fd82a2c18',\n",
       "  'extractions': [{'sentiment': 'NEGATIVE',\n",
       "    'extraction': 'Mauvaise gestion des clients par les serveuses',\n",
       "    'text': \"Les serveuses s'occupent mal des clients .\",\n",
       "    'elementary_subjects': ['Service : Organisation du personnel : Désorganisation du personnel'],\n",
       "    'topics': []},\n",
       "   {'sentiment': 'NEGATIVE',\n",
       "    'extraction': 'Attente excessive pour le service',\n",
       "    'text': \"Le bipeur bip personnes s'occupent de toi au bout de 5 min j'ai pris mon plateau et parti.\",\n",
       "    'elementary_subjects': [\"Service : Temps d'attente : Longue attente\"],\n",
       "    'topics': [{'topic': {'1': 'Service', '2': 'Rapidité du service'},\n",
       "      'classification_scheme_id': ObjectId('66df25bf365a29ed53caf5a2'),\n",
       "      'classification_scheme_name': 'Test Classification Scheme'}]},\n",
       "   {'sentiment': 'NEGATIVE',\n",
       "    'extraction': 'Chocolat et cappuccino de mauvaise qualité',\n",
       "    'text': 'Le chocolat et le capuccino infecte imbuvable..',\n",
       "    'elementary_subjects': ['Produits : Problème de qualité : Cappuccino de mauvaise qualité'],\n",
       "    'topics': [{'topic': {'1': 'Personnel', '2': 'Aimabilité du personnel'},\n",
       "      'classification_scheme_id': ObjectId('66df25bf365a29ed53caf5a2'),\n",
       "      'classification_scheme_name': 'Test Classification Scheme'}]},\n",
       "   {'sentiment': 'NEGATIVE',\n",
       "    'extraction': 'Décision de ne plus retourner dans ce Columbus Café',\n",
       "    'text': 'un endroit plus jamais je retournerai et pourtant je vais souvent dans des columbus mais alors celui la plus jamais',\n",
       "    'elementary_subjects': [\"Service : Insatisfaction générale sur l'établissement\"],\n",
       "    'topics': []}]},\n",
       " {'id': 'columbuscafe_test/43f07543c941a5d88922',\n",
       "  'extractions': [{'sentiment': 'POSITIVE',\n",
       "    'extraction': 'Service courtois',\n",
       "    'text': 'Service courtois.',\n",
       "    'elementary_subjects': [\"Service : Qualité de l'équipe\"],\n",
       "    'topics': []},\n",
       "   {'sentiment': 'NEGATIVE',\n",
       "    'extraction': 'Préparation des beignets exposée de manière peu agréable',\n",
       "    'text': ' Préparation des beignets par un employé exposé comme un poisson dans un aquarium.',\n",
       "    'elementary_subjects': ['Produits : Problème de présentation : Présentation des beignets peu agréable'],\n",
       "    'topics': []},\n",
       "   {'sentiment': 'NEGATIVE',\n",
       "    'extraction': 'Préparation des beignets exposée de manière peu agréable',\n",
       "    'text': \" je n'aimerais pas trop travaillé exposé comme ça.\",\n",
       "    'elementary_subjects': ['Produits : Problème de présentation : Présentation des beignets peu agréable'],\n",
       "    'topics': []},\n",
       "   {'sentiment': 'POSITIVE',\n",
       "    'extraction': 'Petit espace sympa pour manger sur place',\n",
       "    'text': ' Petit espace sympa pour manger sur place,',\n",
       "    'elementary_subjects': ['Ambiance : Ambiance agréable'],\n",
       "    'topics': []},\n",
       "   {'sentiment': 'POSITIVE',\n",
       "    'extraction': 'Bien situé',\n",
       "    'text': ' bien situé,',\n",
       "    'elementary_subjects': [\"Emplacement : Qualité de l'emplacement\"],\n",
       "    'topics': []},\n",
       "   {'sentiment': 'POSITIVE',\n",
       "    'extraction': 'Espace sous un puits de lumière',\n",
       "    'text': ' sous un puit de lumière.',\n",
       "    'elementary_subjects': [\"Ambiance : Qualité de l'espace : Espace sous un puits de lumière\"],\n",
       "    'topics': []},\n",
       "   {'sentiment': 'POSITIVE',\n",
       "    'extraction': \"Produits d'excellente qualité\",\n",
       "    'text': \" 😎 Produits  d'excellente qualité.\",\n",
       "    'elementary_subjects': ['Produits : Qualité des produits : Qualité générale des produits'],\n",
       "    'topics': [{'topic': {'1': 'Personnel', '2': 'Aimabilité du personnel'},\n",
       "      'classification_scheme_id': ObjectId('66df25bf365a29ed53caf5a2'),\n",
       "      'classification_scheme_name': 'Test Classification Scheme'}]},\n",
       "   {'sentiment': 'POSITIVE',\n",
       "    'extraction': 'Bon rapport qualité-prix',\n",
       "    'text': ' 👍 En rapport avec 💵 dépensé.',\n",
       "    'elementary_subjects': ['Prix : Rapport qualité-prix'],\n",
       "    'topics': [{'topic': {'1': 'Prix', '2': 'Prix des produits'},\n",
       "      'classification_scheme_id': ObjectId('66df25bf365a29ed53caf5a2'),\n",
       "      'classification_scheme_name': 'Test Classification Scheme'}]},\n",
       "   {'sentiment': 'POSITIVE',\n",
       "    'extraction': 'Bonne pause goûter pendant les courses',\n",
       "    'text': ' Ça fait une bonne pause goûter au cours des courses.',\n",
       "    'elementary_subjects': ['Produits : Satisfaction générale : Satisfaction lors de la pause goûter'],\n",
       "    'topics': []}]},\n",
       " {'id': 'columbuscafe_test/5c9bb9d227a8028911e2',\n",
       "  'extractions': [{'sentiment': 'POSITIVE',\n",
       "    'extraction': 'Appréciation générale',\n",
       "    'text': '1👍'}]},\n",
       " {'id': 'columbuscafe_test/1976c554cdd362249798', 'extractions': []},\n",
       " {'id': 'columbuscafe_test/3637b6c505ac86f55a53',\n",
       "  'extractions': [{'sentiment': 'POSITIVE',\n",
       "    'extraction': 'Service très bon',\n",
       "    'text': 'Très bon,',\n",
       "    'elementary_subjects': [\"Service : Qualité de l'équipe\"],\n",
       "    'topics': []},\n",
       "   {'sentiment': 'POSITIVE',\n",
       "    'extraction': 'Service très bon',\n",
       "    'text': ' et très serviable de leur part,',\n",
       "    'elementary_subjects': [\"Service : Qualité de l'équipe\"],\n",
       "    'topics': []},\n",
       "   {'sentiment': 'POSITIVE',\n",
       "    'extraction': 'Nourriture proposée est bonne',\n",
       "    'text': ' la nourriture proposé est bonne',\n",
       "    'elementary_subjects': ['Produits : Qualité des produits : Qualité de la nourriture'],\n",
       "    'topics': [{'topic': {'1': 'Personnel', '2': 'Aimabilité du personnel'},\n",
       "      'classification_scheme_id': ObjectId('66df25bf365a29ed53caf5a2'),\n",
       "      'classification_scheme_name': 'Test Classification Scheme'}]}]}]"
      ]
     },
     "metadata": {},
     "output_type": "display_data"
    }
   ],
   "source": [
    "analysis"
   ]
  },
  {
   "cell_type": "markdown",
   "metadata": {},
   "source": [
    "## Check elementary subjects that we generated"
   ]
  },
  {
   "cell_type": "code",
   "execution_count": null,
   "metadata": {},
   "outputs": [],
   "source": [
    "from utils.database import get_elementary_subjects"
   ]
  },
  {
   "cell_type": "code",
   "execution_count": null,
   "metadata": {},
   "outputs": [
    {
     "data": {
      "text/plain": [
       "21"
      ]
     },
     "metadata": {},
     "output_type": "display_data"
    }
   ],
   "source": [
    "positive_elementary_subjects = get_elementary_subjects(BRAND, 'positive')\n",
    "\n",
    "len(positive_elementary_subjects)"
   ]
  },
  {
   "cell_type": "code",
   "execution_count": null,
   "metadata": {},
   "outputs": [
    {
     "data": {
      "text/plain": [
       "['Ambiance : Ambiance agréable',\n",
       " 'Service : Accueil chaleureux',\n",
       " 'Service : Problemlösung : Schnelle Problemlösung bei Fehlern',\n",
       " 'Produits : Qualité des produits : Qualité de la nourriture',\n",
       " 'Produits : Qualité des produits : Qualité du café']"
      ]
     },
     "metadata": {},
     "output_type": "display_data"
    }
   ],
   "source": [
    "[x['elementary_subject'] for x in positive_elementary_subjects[:5]]"
   ]
  },
  {
   "cell_type": "code",
   "execution_count": null,
   "metadata": {},
   "outputs": [
    {
     "name": "stdout",
     "output_type": "stream",
     "text": [
      "15\n"
     ]
    },
    {
     "data": {
      "text/plain": [
       "['Service : Comportement du personnel : Serveur impoli ou nerveux',\n",
       " 'Magasin : Aménagement : Emplacement du mobilier inapproprié',\n",
       " \"Accessibilité : Difficulté d'accès pour les fauteuils roulants\",\n",
       " 'Produits : Problème de qualité : Chocolat non consommable',\n",
       " 'Prix : Tarifs élevés']"
      ]
     },
     "metadata": {},
     "output_type": "display_data"
    }
   ],
   "source": [
    "negative_elementary_subjects = get_elementary_subjects(BRAND, 'negative')\n",
    "\n",
    "print(len(negative_elementary_subjects))\n",
    "\n",
    "[x['elementary_subject'] for x in negative_elementary_subjects[:5]]"
   ]
  },
  {
   "cell_type": "code",
   "execution_count": null,
   "metadata": {},
   "outputs": [],
   "source": []
  },
  {
   "cell_type": "code",
   "execution_count": 13,
   "metadata": {},
   "outputs": [
    {
     "name": "stdout",
     "output_type": "stream",
     "text": [
      "========================\n",
      "========================\n",
      "Sentence : J’ai fait ma demande d’Aspa en juillet 2021.\n",
      "Extraction : Demande d'Aspa en attente depuis juillet 2021\n",
      "Elementary Subjects : [\"Service : Délais d'attente pour les demandes : Demande d'Aspa en attente\"]\n",
      "===========\n",
      "Sentence : Mon dossier est complet et il est toujours en attente depuis !\n",
      "Extraction : Demande d'Aspa en attente depuis juillet 2021\n",
      "Elementary Subjects : [\"Service : Délais de traitement des demandes : Demande d'Aspa en attente\"]\n",
      "===========\n",
      "Sentence : je suis passée par la CARSAT DE L’ORNE ou j’ai trouvé une super écoute !\n",
      "Extraction : Bonne écoute de la CARSAT DE L’ORNE\n",
      "Elementary Subjects : [\"Service : Qualité de l'écoute des agents\"]\n",
      "===========\n",
      "Sentence : J’ai reçu un mail sur mon espace client me disant que mon dossier serait traité sous 7 jours ouvrés,\n",
      "Extraction : Dossier non traité dans les délais annoncés\n",
      "Elementary Subjects : ['Service : Délai de traitement : Dossier non traité dans les délais annoncés']\n",
      "===========\n",
      "Sentence : et bien non !\n",
      "Extraction : Dossier non traité dans les délais annoncés\n",
      "Elementary Subjects : ['Service : Délais de traitement : Dossier non traité dans les délais annoncés']\n",
      "===========\n",
      "Sentence : on se moque de nous,\n",
      "Extraction : Absence de suivi et de communication\n",
      "Elementary Subjects : ['Service : Manque de suivi et de communication']\n",
      "===========\n",
      "Sentence : on nous balade.\n",
      "Extraction : Absence de suivi et de communication\n",
      "Elementary Subjects : ['Service : Manque de suivi et de communication']\n",
      "===========\n",
      "Sentence : On me fixe un rendez vous téléphonique,\n",
      "Extraction : Absence de suivi et de communication\n",
      "Elementary Subjects : ['Service : Manque de suivi et de communication']\n",
      "===========\n",
      "Sentence : et on ne m’appelle pas.\n",
      "Extraction : Absence de suivi et de communication\n",
      "Elementary Subjects : ['Service : Manque de suivi et de communication']\n",
      "===========\n",
      "Sentence : On envoie des mails à mon gestionnaire,\n",
      "Extraction : Absence de suivi et de communication\n",
      "Elementary Subjects : ['Service : Manque de suivi et de communication']\n",
      "===========\n",
      "Sentence : pour signaler l’urgence aucune réponse !\n",
      "Extraction : Absence de suivi et de communication\n",
      "Elementary Subjects : ['Service : Manque de suivi et de communication']\n",
      "===========\n",
      "Sentence : Je devrai vivre tranquille avec ma petite retraite et la aide de l’ASPA ,\n",
      "Extraction : Difficultés financières à cause de la situation\n",
      "===========\n",
      "Sentence : je galère pour régler mes factures et mon loyer !\n",
      "Extraction : Difficultés financières à cause de la situation\n",
      "===========\n",
      "Sentence : Nous sommes vraiment absolument pas considérée par la CARSAT de Paris !\n",
      "Extraction : Sentiment de non-considération par la CARSAT de Paris\n",
      "Elementary Subjects : ['Service : Sentiment de non-considération par les services publics']\n",
      "===========\n",
      "Sentence : Perso je suis désespérée de cette situation !\n",
      "Extraction : Désespoir face à la situation\n",
      "===========\n"
     ]
    }
   ],
   "source": [
    "row = subdf.sample().iloc[0]\n",
    "extractions = get_field_value(\n",
    "    feedback_id=row['_id'],\n",
    "    field_name='extractions',\n",
    ")\n",
    "res = classify_one_feedback(\n",
    "    feedback_id=row['_id'],\n",
    "    extractions=extractions,\n",
    "    model=\"gpt-4o-mini\",\n",
    "    brand=BRAND,\n",
    "    brand_descr=BRAND_DESCR,\n",
    "    language=\"french\",\n",
    "    extractions_column=\"extractions\",\n",
    "    update_mongo=False\n",
    ")\n",
    "\n",
    "# res"
   ]
  },
  {
   "cell_type": "code",
   "execution_count": null,
   "metadata": {},
   "outputs": [],
   "source": [
    "========================\n",
    "========================\n",
    "Sentence : Démarche prime à la conversion interminable.\n",
    "Extraction : Démarche prime à la conversion interminable\n",
    "Elementary Subjects : ['Services publics : Démarches administratives : Démarche prime à la conversion trop longue']\n",
    "===========\n",
    "Sentence : Des documents fournis sont encore illisibles soi-disant...\n",
    "Extraction : Documents fournis illisibles\n",
    "Elementary Subjects : ['Documents : Problème de lisibilité']\n",
    "===========\n",
    "Sentence : mais nous avons des nouvelles de notre dossier tous les deux mois.\n",
    "Extraction : Mises à jour du dossier tous les deux mois\n",
    "Elementary Subjects : ['Service : Fréquence des mises à jour de dossier']\n"
   ]
  }
 ],
 "metadata": {
  "kernelspec": {
   "display_name": "Python 3",
   "language": "python",
   "name": "python3"
  },
  "language_info": {
   "codemirror_mode": {
    "name": "ipython",
    "version": 3
   },
   "file_extension": ".py",
   "mimetype": "text/x-python",
   "name": "python",
   "nbconvert_exporter": "python",
   "pygments_lexer": "ipython3",
   "version": "3.11.3"
  }
 },
 "nbformat": 4,
 "nbformat_minor": 2
}
