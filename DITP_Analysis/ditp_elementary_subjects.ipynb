{
 "cells": [
  {
   "cell_type": "code",
   "execution_count": 1,
   "metadata": {},
   "outputs": [],
   "source": [
    "import json\n",
    "import boto3\n",
    "import pandas as pd\n",
    "import ast\n",
    "\n",
    "from utils.analysis_utils import process_analysis_in_parallel, process_analysis, format_ligne\n",
    "from utils.database import get_field_value\n",
    "from pymongo import MongoClient\n",
    "import certifi\n",
    "import importlib"
   ]
  },
  {
   "cell_type": "code",
   "execution_count": 17,
   "metadata": {},
   "outputs": [],
   "source": [
    "# TODO: Remove\n",
    "\n",
    "import importlib\n",
    "import utils.analysis_utils\n",
    "import utils.database\n",
    "\n",
    "# Reload the modules\n",
    "importlib.reload(utils.analysis_utils)\n",
    "importlib.reload(utils.database)\n",
    "\n",
    "# Now you can import your functions\n",
    "from utils.analysis_utils import process_analysis_in_parallel, process_analysis, format_ligne\n",
    "from utils.database import get_field_value\n"
   ]
  },
  {
   "cell_type": "code",
   "execution_count": 3,
   "metadata": {},
   "outputs": [],
   "source": [
    "_secrets_manager_client = boto3.client(\"secretsmanager\", region_name=\"eu-west-3\")\n",
    "\n",
    "_secrets = json.loads(\n",
    "    _secrets_manager_client.get_secret_value(\n",
    "        SecretId=f\"Prod/alloreview\"\n",
    "    )[\"SecretString\"]\n",
    ")\n",
    "MONGO_CONNECTION_STRING = (\n",
    "    \"mongodb+srv://alloreview:{}@feedbacksdev.cuwx1.mongodb.net\".format(\n",
    "        _secrets[\"mongodb\"][\"password\"]\n",
    "    )\n",
    ")\n",
    "mongo_client = MongoClient(MONGO_CONNECTION_STRING,tlsCAFile=certifi.where())\n",
    "\n",
    "collection = mongo_client['feedbacks_db']['feedbacks_Prod']"
   ]
  },
  {
   "cell_type": "markdown",
   "metadata": {},
   "source": [
    "# Generating Elementary Subjects\n",
    "\n",
    "After creating all the extractions, our objective is to generate elementary subjects.\n",
    "\n",
    "We use the following method:\n",
    "\n",
    "1. For each extraction, we attempt to classify it among the existing elementary subjects.\n",
    "2. If no subject matches, we generate a new one.\n",
    "3. As we progress, we also verify that we are not generating duplicates.\n",
    "\n",
    "## Process\n",
    "\n",
    "We classify and generate our elementary subjects progressively:\n",
    "\n",
    "1. Classify each extraction\n",
    "2. Generate new subjects as needed\n",
    "3. Check for duplicates\n",
    "\n",
    "By the end of this process, after classifying everything, we will have generated all our subjects.\n",
    "\n",
    "## Database Storage\n",
    "\n",
    "The elementary subjects are pushed into the `elementary_subjects_dev` database."
   ]
  },
  {
   "cell_type": "code",
   "execution_count": 4,
   "metadata": {},
   "outputs": [],
   "source": [
    "BRAND = 'ditp_analysis'\n",
    "\n",
    "BRAND_DESCR = '''\n",
    "Feedbacks are from French public services.\n",
    "'''"
   ]
  },
  {
   "cell_type": "code",
   "execution_count": 5,
   "metadata": {},
   "outputs": [
    {
     "data": {
      "text/plain": [
       "(80537, 85)"
      ]
     },
     "execution_count": 5,
     "metadata": {},
     "output_type": "execute_result"
    }
   ],
   "source": [
    "# getting feedbacks from mongo\n",
    "\n",
    "from_mongo = pd.DataFrame(list(collection.aggregate([\n",
    "    {\n",
    "        '$match': {\n",
    "            'brand': BRAND,\n",
    "        },\n",
    "    },\n",
    "])))\n",
    "\n",
    "from_mongo.shape"
   ]
  },
  {
   "cell_type": "code",
   "execution_count": 6,
   "metadata": {},
   "outputs": [
    {
     "name": "stdout",
     "output_type": "stream",
     "text": [
      "Subdf contains 148 rows.\n"
     ]
    }
   ],
   "source": [
    "# Keeping only feedbacks with extractions and splitted_analysis_v2\n",
    "subdf = from_mongo[from_mongo['extractions'].notna()]\n",
    "subdf = subdf[subdf['splitted_analysis_v2'].notna()]\n",
    "\n",
    "# from_csv = pd.read_csv('ditp_test_2.csv')\n",
    "# subdf = from_csv\n",
    "\n",
    "subdf['brand_context'] = subdf.apply(format_ligne, axis=1)\n",
    "subdf = subdf[['_id', 'extractions', 'brand_context']]\n",
    "\n",
    "print(f\"Subdf contains {subdf.shape[0]} rows.\")"
   ]
  },
  {
   "cell_type": "markdown",
   "metadata": {},
   "source": [
    "### For one feedback"
   ]
  },
  {
   "cell_type": "code",
   "execution_count": 15,
   "metadata": {},
   "outputs": [
    {
     "data": {
      "text/plain": [
       "' Histovec encore en panne\\nLe service histovec, utile pour les automobiliste et payé par nos impôts est  encore en panne !\\r\\n\\r\\nPourquoi une telle incompétence ?'"
      ]
     },
     "execution_count": 15,
     "metadata": {},
     "output_type": "execute_result"
    }
   ],
   "source": [
    "row = subdf.sample().iloc[0]\n",
    "row.brand_context.split(\"Full feedback**:\")[1]"
   ]
  },
  {
   "cell_type": "code",
   "execution_count": 18,
   "metadata": {},
   "outputs": [
    {
     "name": "stdout",
     "output_type": "stream",
     "text": [
      "{'topics': ['Fonctionnement du Site : Service en Panne'], 'justification': \"Le feedback indique que le service Histovec est en panne, ce qui reflète un problème de fonctionnement du site. Aucune des catégories existantes ne correspond spécifiquement à un problème de service en panne, ce qui justifie la création d'une nouvelle catégorie.\", 'is_new_topic': True}\n",
      "{'topics': ['Fonctionnement du Site : Service en Panne'], 'justification': \"Le feedback indique clairement que le service Histovec est en panne, ce qui correspond directement à la catégorie 'Fonctionnement du Site : Service en Panne'.\", 'is_new_topic': False}\n",
      "{'topics': ['Fonctionnement du Site : Service en Panne'], 'justification': \"Le feedback exprime une frustration face à l'indisponibilité du service Histovec, ce qui correspond à la catégorie 'Fonctionnement du Site : Service en Panne'.\", 'is_new_topic': False}\n",
      "{'topics': ['Fonctionnement du Site : Service en Panne'], 'justification': \"Le feedback indique clairement que le service Histovec est en panne, ce qui correspond directement à la catégorie 'Fonctionnement du Site : Service en Panne'.\", 'is_new_topic': False}\n",
      "{'topics': ['Fonctionnement du Site : Service en Panne'], 'justification': \"Le feedback indique clairement que le service Histovec est en panne, ce qui correspond directement à la catégorie 'Fonctionnement du Site : Service en Panne'.\", 'is_new_topic': False}\n",
      "Updating feedback ditp_analysis/4620419 with updates: {'extractions': [{'sentiment': 'NEGATIVE', 'extraction': 'Histovec en panne', 'text': 'Histovec encore en panne', 'elementary_subjects': ['Fonctionnement du Site : Service en Panne'], 'topics': []}, {'sentiment': 'NEGATIVE', 'extraction': 'Histovec en panne', 'text': 'utile pour les automobiliste et payé par nos impôts est  encore en panne', 'elementary_subjects': ['Fonctionnement du Site : Service en Panne'], 'topics': []}, {'sentiment': 'NEGATIVE', 'extraction': 'Incompétence du service Histovec', 'text': 'Pourquoi une telle incompétence', 'elementary_subjects': ['Fonctionnement du Site : Service en Panne'], 'topics': []}, {'sentiment': 'NEGATIVE', 'extraction': 'Service utile pour les automobilistes mais en panne', 'text': 'Le service histovec', 'elementary_subjects': ['Fonctionnement du Site : Service en Panne'], 'topics': []}, {'sentiment': 'NEGATIVE', 'extraction': 'Service utile pour les automobilistes mais en panne', 'text': 'utile pour les automobiliste et payé par nos impôts est  encore en panne', 'elementary_subjects': ['Fonctionnement du Site : Service en Panne'], 'topics': []}], 'splitted_analysis_v2': [{'text': 'Histovec encore en panne', 'extractions': [{'sentiment': 'NEGATIVE', 'extraction': 'Histovec en panne', 'text': 'utile pour les automobiliste et payé par nos impôts est  encore en panne', 'elementary_subjects': ['Fonctionnement du Site : Service en Panne'], 'topics': []}]}, {'text': 'Le service histovec', 'extractions': [{'sentiment': 'NEGATIVE', 'extraction': 'Service utile pour les automobilistes mais en panne', 'text': 'utile pour les automobiliste et payé par nos impôts est  encore en panne', 'elementary_subjects': ['Fonctionnement du Site : Service en Panne'], 'topics': []}]}, {'text': 'utile pour les automobiliste et payé par nos impôts est  encore en panne', 'extractions': [{'sentiment': 'NEGATIVE', 'extraction': 'Histovec en panne', 'text': 'utile pour les automobiliste et payé par nos impôts est  encore en panne', 'elementary_subjects': ['Fonctionnement du Site : Service en Panne'], 'topics': []}, {'sentiment': 'NEGATIVE', 'extraction': 'Service utile pour les automobilistes mais en panne', 'text': 'utile pour les automobiliste et payé par nos impôts est  encore en panne', 'elementary_subjects': ['Fonctionnement du Site : Service en Panne'], 'topics': []}]}, {'text': 'Pourquoi une telle incompétence', 'extractions': [{'sentiment': 'NEGATIVE', 'extraction': 'Incompétence du service Histovec', 'text': 'Pourquoi une telle incompétence', 'elementary_subjects': ['Fonctionnement du Site : Service en Panne'], 'topics': []}]}], 'topics_v2': []}\n"
     ]
    },
    {
     "data": {
      "text/plain": [
       "{'id': 'ditp_analysis/4620419',\n",
       " 'extractions': [{'sentiment': 'NEGATIVE',\n",
       "   'extraction': 'Histovec en panne',\n",
       "   'text': 'Histovec encore en panne',\n",
       "   'elementary_subjects': ['Fonctionnement du Site : Service en Panne'],\n",
       "   'topics': []},\n",
       "  {'sentiment': 'NEGATIVE',\n",
       "   'extraction': 'Histovec en panne',\n",
       "   'text': 'utile pour les automobiliste et payé par nos impôts est  encore en panne',\n",
       "   'elementary_subjects': ['Fonctionnement du Site : Service en Panne'],\n",
       "   'topics': []},\n",
       "  {'sentiment': 'NEGATIVE',\n",
       "   'extraction': 'Incompétence du service Histovec',\n",
       "   'text': 'Pourquoi une telle incompétence',\n",
       "   'elementary_subjects': ['Fonctionnement du Site : Service en Panne'],\n",
       "   'topics': []},\n",
       "  {'sentiment': 'NEGATIVE',\n",
       "   'extraction': 'Service utile pour les automobilistes mais en panne',\n",
       "   'text': 'Le service histovec',\n",
       "   'elementary_subjects': ['Fonctionnement du Site : Service en Panne'],\n",
       "   'topics': []},\n",
       "  {'sentiment': 'NEGATIVE',\n",
       "   'extraction': 'Service utile pour les automobilistes mais en panne',\n",
       "   'text': 'utile pour les automobiliste et payé par nos impôts est  encore en panne',\n",
       "   'elementary_subjects': ['Fonctionnement du Site : Service en Panne'],\n",
       "   'topics': []}]}"
      ]
     },
     "execution_count": 18,
     "metadata": {},
     "output_type": "execute_result"
    }
   ],
   "source": [
    "\n",
    "\n",
    "\n",
    "res = process_analysis(\n",
    "    feedback_id=row['_id'],\n",
    "    extractions=row[\"extractions\"],\n",
    "    brand_context=row[\"brand_context\"],\n",
    "    model=\"gpt-4o-mini\",\n",
    "    brand_name=BRAND,\n",
    "    language=\"french\",\n",
    "    extractions_column=\"extractions\",\n",
    "    should_update_mongo=True\n",
    ")\n",
    "\n",
    "res\n"
   ]
  },
  {
   "cell_type": "markdown",
   "metadata": {},
   "source": [
    "### For multiple feedbacks"
   ]
  },
  {
   "cell_type": "code",
   "execution_count": 180,
   "metadata": {},
   "outputs": [],
   "source": [
    "\n",
    "importlib.reload(utils.analysis_utils)\n",
    "from utils.analysis_utils import run_analysis_full_parallel"
   ]
  },
  {
   "cell_type": "code",
   "execution_count": 187,
   "metadata": {},
   "outputs": [],
   "source": [
    "feedbacks_sample = subdf.sample(5)"
   ]
  },
  {
   "cell_type": "code",
   "execution_count": 188,
   "metadata": {},
   "outputs": [
    {
     "name": "stderr",
     "output_type": "stream",
     "text": [
      "Processing chunks:   0%|          | 0/1 [00:00<?, ?it/s]"
     ]
    },
    {
     "name": "stdout",
     "output_type": "stream",
     "text": [
      "Updating feedback ditp_analysis/4306751 with updates: {'extractions': [], 'splitted_analysis_v2': [], 'topics_v2': []}\n",
      "Updating feedback ditp_analysis/3971879 with updates: {'extractions': [], 'splitted_analysis_v2': [], 'topics_v2': []}\n",
      "Updating feedback ditp_analysis/389783 with updates: {'extractions': [{'sentiment': 'NEGATIVE', 'extraction': \"Récupération de la carte d'identité de l'enfant\", 'text': \"Pour récupérer la carte d'identité de mon enfant\", 'elementary_subjects': ['Récupération de Documents : Attente et Exigences Administratives'], 'topics': []}, {'sentiment': 'NEGATIVE', 'extraction': 'Rendez-vous multiples en même temps', 'text': 'plusieurs personnes ont rendez vous en même temps', 'elementary_subjects': ['Récupération de Documents : Attente et Exigences Administratives'], 'topics': []}, {'sentiment': 'NEGATIVE', 'extraction': 'Attente et frustration générées', 'text': 'Ce qui génère attente et frustration', 'elementary_subjects': ['Récupération de Documents : Attente et Exigences Administratives'], 'topics': []}, {'sentiment': 'NEGATIVE', 'extraction': 'Présence obligatoire du parent pour la récupération des documents', 'text': 'Le parent qui a fait la demande doit impérativement être présent pour la récupération des documents', 'elementary_subjects': ['Récupération de Documents : Attente et Exigences Administratives'], 'topics': []}, {'sentiment': 'NEGATIVE', 'extraction': 'Problème potentiel lié à la présence obligatoire', 'text': 'Ce qui peut poser problème', 'elementary_subjects': ['Récupération de Documents : Attente et Exigences Administratives'], 'topics': []}, {'sentiment': 'NEGATIVE', 'extraction': \"Redemande de la carte d'identité malgré les photocopies\", 'text': \"On me redemande ma carte d'identité alors que des photocopies ont été faite initialement\", 'elementary_subjects': ['Récupération de Documents : Attente et Exigences Administratives'], 'topics': []}, {'sentiment': 'NEGATIVE', 'extraction': 'Document non récupérable car dans un autre bureau', 'text': 'Et ce document ne peut être récupéré car il est dans un autre bureau et que cette collègue est en vacance', 'elementary_subjects': ['Récupération de Documents : Attente et Exigences Administratives'], 'topics': []}], 'splitted_analysis_v2': [{'text': \"Passeport et carte d'identité\"}, {'text': \"Pour récupérer la carte d'identité de mon enfant\", 'extractions': [{'sentiment': 'NEGATIVE', 'extraction': \"Récupération de la carte d'identité de l'enfant\", 'text': \"Pour récupérer la carte d'identité de mon enfant\", 'elementary_subjects': ['Récupération de Documents : Attente et Exigences Administratives'], 'topics': []}]}, {'text': 'plusieurs personnes ont rendez vous en même temps', 'extractions': [{'sentiment': 'NEGATIVE', 'extraction': 'Rendez-vous multiples en même temps', 'text': 'plusieurs personnes ont rendez vous en même temps', 'elementary_subjects': ['Récupération de Documents : Attente et Exigences Administratives'], 'topics': []}]}, {'text': 'Ce qui génère attente et frustration', 'extractions': [{'sentiment': 'NEGATIVE', 'extraction': 'Attente et frustration générées', 'text': 'Ce qui génère attente et frustration', 'elementary_subjects': ['Récupération de Documents : Attente et Exigences Administratives'], 'topics': []}]}, {'text': 'Le parent qui a fait la demande doit impérativement être présent pour la récupération des documents', 'extractions': [{'sentiment': 'NEGATIVE', 'extraction': 'Présence obligatoire du parent pour la récupération des documents', 'text': 'Le parent qui a fait la demande doit impérativement être présent pour la récupération des documents', 'elementary_subjects': ['Récupération de Documents : Attente et Exigences Administratives'], 'topics': []}]}, {'text': 'Ce qui peut poser problème', 'extractions': [{'sentiment': 'NEGATIVE', 'extraction': 'Problème potentiel lié à la présence obligatoire', 'text': 'Ce qui peut poser problème', 'elementary_subjects': ['Récupération de Documents : Attente et Exigences Administratives'], 'topics': []}]}, {'text': \"On me redemande ma carte d'identité alors que des photocopies ont été faite initialement\", 'extractions': [{'sentiment': 'NEGATIVE', 'extraction': \"Redemande de la carte d'identité malgré les photocopies\", 'text': \"On me redemande ma carte d'identité alors que des photocopies ont été faite initialement\", 'elementary_subjects': ['Récupération de Documents : Attente et Exigences Administratives'], 'topics': []}]}, {'text': 'Et ce document ne peut être récupéré car il est dans un autre bureau et que cette collègue est en vacance', 'extractions': [{'sentiment': 'NEGATIVE', 'extraction': 'Document non récupérable car dans un autre bureau', 'text': 'Et ce document ne peut être récupéré car il est dans un autre bureau et que cette collègue est en vacance', 'elementary_subjects': ['Récupération de Documents : Attente et Exigences Administratives'], 'topics': []}]}], 'topics_v2': []}\n",
      "Updating feedback ditp_analysis/3162201 with updates: {'extractions': [{'sentiment': 'NEGATIVE', 'extraction': 'Manque de réponse aux messages sur le site', 'text': \"L'Agirc-Arrco ne répond pas aux messages laissés sur le site et les personnes qui sont à l'accueil téléphonique prennent note du message mais sont systématiquement dans l'impossibilité d'apporter des réponses aux questions posées\", 'elementary_subjects': ['Assistance : Manque de Réponses et de Support'], 'topics': []}, {'sentiment': 'NEGATIVE', 'extraction': 'Incapacité des agents à répondre aux questions', 'text': \"L'Agirc-Arrco ne répond pas aux messages laissés sur le site et les personnes qui sont à l'accueil téléphonique prennent note du message mais sont systématiquement dans l'impossibilité d'apporter des réponses aux questions posées\", 'elementary_subjects': ['Assistance : Manque de Réponses et de Support'], 'topics': []}, {'sentiment': 'NEGATIVE', 'extraction': 'Demande de retraite progressive à 48%', 'text': \"j'ai fait une demande de retraite progressive à 48%\", 'elementary_subjects': ['Assistance : Manque de Réponses et de Support'], 'topics': []}, {'sentiment': 'NEGATIVE', 'extraction': 'Montant des premiers paiements incorrect', 'text': 'les premiers paiements (demande faite en mai pour une retraite en octobre) sont de 20% et non pas de 48%', 'elementary_subjects': ['Assistance : Manque de Réponses et de Support'], 'topics': []}, {'sentiment': 'SUGGESTION', 'extraction': 'Demande de délai de régularisation', 'text': \"je demande simplement à l' Agirc-Arrco de me donner un délai de régularisation (la Carsat a notifié cette retraite en août et il ne manque aucun papier à ma connaissance pour mon dossier)\", 'elementary_subjects': ['Suivi de Dossier : Demande de Délai de Régularisation'], 'topics': []}, {'sentiment': 'NEGATIVE', 'extraction': \"Manque d'explications sur la régularisation du dossier\", 'text': \"Je ne comprends pas ce manque d'explication (certaines personnes ont besoin de leur retraite pour subvenir à leurs besoins et ne pas savoir quand votre dossier sera régularisé\", 'elementary_subjects': ['Assistance : Manque de Réponses et de Support'], 'topics': []}, {'sentiment': 'NEGATIVE', 'extraction': 'Absence de réponse comme facteur de stress', 'text': 'ne pas obtenir de réponse peut être un facteur de stress important)', 'elementary_subjects': ['Assistance : Manque de Réponses et de Support'], 'topics': []}], 'splitted_analysis_v2': [{'text': 'Paiement provisoire Agirc-Arrco'}, {'text': \"L'Agirc-Arrco ne répond pas aux messages laissés sur le site et les personnes qui sont à l'accueil téléphonique prennent note du message mais sont systématiquement dans l'impossibilité d'apporter des réponses aux questions posées\", 'extractions': [{'sentiment': 'NEGATIVE', 'extraction': 'Manque de réponse aux messages sur le site', 'text': \"L'Agirc-Arrco ne répond pas aux messages laissés sur le site et les personnes qui sont à l'accueil téléphonique prennent note du message mais sont systématiquement dans l'impossibilité d'apporter des réponses aux questions posées\", 'elementary_subjects': ['Assistance : Manque de Réponses et de Support'], 'topics': []}, {'sentiment': 'NEGATIVE', 'extraction': 'Incapacité des agents à répondre aux questions', 'text': \"L'Agirc-Arrco ne répond pas aux messages laissés sur le site et les personnes qui sont à l'accueil téléphonique prennent note du message mais sont systématiquement dans l'impossibilité d'apporter des réponses aux questions posées\", 'elementary_subjects': ['Assistance : Manque de Réponses et de Support'], 'topics': []}]}, {'text': \"j'ai fait une demande de retraite progressive à 48%\", 'extractions': [{'sentiment': 'NEGATIVE', 'extraction': 'Demande de retraite progressive à 48%', 'text': \"j'ai fait une demande de retraite progressive à 48%\", 'elementary_subjects': ['Assistance : Manque de Réponses et de Support'], 'topics': []}]}, {'text': 'les premiers paiements (demande faite en mai pour une retraite en octobre) sont de 20% et non pas de 48%', 'extractions': [{'sentiment': 'NEGATIVE', 'extraction': 'Montant des premiers paiements incorrect', 'text': 'les premiers paiements (demande faite en mai pour une retraite en octobre) sont de 20% et non pas de 48%', 'elementary_subjects': ['Assistance : Manque de Réponses et de Support'], 'topics': []}]}, {'text': \"je demande simplement à l' Agirc-Arrco de me donner un délai de régularisation (la Carsat a notifié cette retraite en août et il ne manque aucun papier à ma connaissance pour mon dossier)\", 'extractions': [{'sentiment': 'SUGGESTION', 'extraction': 'Demande de délai de régularisation', 'text': \"je demande simplement à l' Agirc-Arrco de me donner un délai de régularisation (la Carsat a notifié cette retraite en août et il ne manque aucun papier à ma connaissance pour mon dossier)\", 'elementary_subjects': ['Suivi de Dossier : Demande de Délai de Régularisation'], 'topics': []}]}, {'text': \"Je ne comprends pas ce manque d'explication (certaines personnes ont besoin de leur retraite pour subvenir à leurs besoins et ne pas savoir quand votre dossier sera régularisé\", 'extractions': [{'sentiment': 'NEGATIVE', 'extraction': \"Manque d'explications sur la régularisation du dossier\", 'text': \"Je ne comprends pas ce manque d'explication (certaines personnes ont besoin de leur retraite pour subvenir à leurs besoins et ne pas savoir quand votre dossier sera régularisé\", 'elementary_subjects': ['Assistance : Manque de Réponses et de Support'], 'topics': []}]}, {'text': 'ne pas obtenir de réponse peut être un facteur de stress important)', 'extractions': [{'sentiment': 'NEGATIVE', 'extraction': 'Absence de réponse comme facteur de stress', 'text': 'ne pas obtenir de réponse peut être un facteur de stress important)', 'elementary_subjects': ['Assistance : Manque de Réponses et de Support'], 'topics': []}]}, {'text': 'Bien cordialement'}], 'topics_v2': []}\n",
      "[check_duplicates()] invalid syntax (<string>, line 0)\n",
      "Updating feedback ditp_analysis/3690388 with updates: {'extractions': [{'sentiment': 'SUGGESTION', 'extraction': \"Renouvellement de CNI suite à changement d'adresse\", 'text': 'Renouvellement CNI suite à changement d’adresse', 'elementary_subjects': [\"Renouvellement CNI : Changement d'Adresse et Procédure\"], 'topics': []}, {'sentiment': 'NEGATIVE', 'extraction': 'Demande de passeport suite à une perte', 'text': 'Le 25/03 j’ai réalisé en mairie une demande de passeport (suite à une perte)', 'elementary_subjects': ['Assistance : Manque de Réponses et de Support'], 'topics': []}, {'sentiment': 'NEGATIVE', 'extraction': \"Incompréhension sur le renouvellement de la carte d'identité\", 'text': 'Je ne savais pas que je pouvais réaliser en même temps une demande de renouvellement de carte d’identité (suite déménagement) pensant qu’il fallait remettre immédiatement sa carte d’identité alors que j’en avais besoin', 'elementary_subjects': ['Assistance : Manque de Réponses et de Support'], 'topics': []}, {'sentiment': 'NEGATIVE', 'extraction': \"Délai d'attente pour le rendez-vous de renouvellement\", 'text': 'J’ai donc rerempli ma demande en ligne le 25/03 et obtenu un rdv 3 mois plus tard… soit fin juin', 'elementary_subjects': ['Récupération de Documents : Attente et Exigences Administratives'], 'topics': []}, {'sentiment': 'NEGATIVE', 'extraction': \"Suspension de la demande de renouvellement de carte d'identité\", 'text': 'la demande de renouvellement de carte d’identité pour changement d’adresse est suspendue…', 'elementary_subjects': ['Assistance : Manque de Réponses et de Support'], 'topics': []}, {'sentiment': 'NEGATIVE', 'extraction': 'Inquiétude concernant le respect des procédures', 'text': 'Suis je concerné car j’ai pourtant tout respecté', 'elementary_subjects': ['Assistance : Manque de Réponses et de Support'], 'topics': []}, {'sentiment': 'NEGATIVE', 'extraction': 'Furieux de potentiellement ne pas pouvoir déposer le dossier', 'text': 'prise de rdv et maintenant je serai furieux de m’entendre dire désolé mais ce n’est plus possible', 'elementary_subjects': ['Assistance : Manque de Réponses et de Support'], 'topics': []}, {'sentiment': 'SUGGESTION', 'extraction': 'Possibilité de déposer le dossier dans un mois', 'text': 'Puis je tout de même déposer mon dossier dans 1 mois en mairie', 'elementary_subjects': [\"Renouvellement CNI : Changement d'Adresse et Procédure\"], 'topics': []}, {'sentiment': 'SUGGESTION', 'extraction': 'Droit de la mairie de refuser le dépôt de la demande de renouvellement', 'text': 'Avez vous le droit (ou la mairie) de me refuser le dépôt le mois prochain de ma demande de renouvellement de CNI', 'elementary_subjects': [\"Renouvellement CNI : Changement d'Adresse et Procédure\"], 'topics': []}], 'splitted_analysis_v2': [{'text': 'Renouvellement CNI suite à changement d’adresse', 'extractions': [{'sentiment': 'SUGGESTION', 'extraction': \"Renouvellement de CNI suite à changement d'adresse\", 'text': 'Renouvellement CNI suite à changement d’adresse', 'elementary_subjects': [\"Renouvellement CNI : Changement d'Adresse et Procédure\"], 'topics': []}]}, {'text': 'Le 25/03 j’ai réalisé en mairie une demande de passeport (suite à une perte)', 'extractions': [{'sentiment': 'NEGATIVE', 'extraction': 'Demande de passeport suite à une perte', 'text': 'Le 25/03 j’ai réalisé en mairie une demande de passeport (suite à une perte)', 'elementary_subjects': ['Assistance : Manque de Réponses et de Support'], 'topics': []}]}, {'text': 'Je ne savais pas que je pouvais réaliser en même temps une demande de renouvellement de carte d’identité (suite déménagement) pensant qu’il fallait remettre immédiatement sa carte d’identité alors que j’en avais besoin', 'extractions': [{'sentiment': 'NEGATIVE', 'extraction': \"Incompréhension sur le renouvellement de la carte d'identité\", 'text': 'Je ne savais pas que je pouvais réaliser en même temps une demande de renouvellement de carte d’identité (suite déménagement) pensant qu’il fallait remettre immédiatement sa carte d’identité alors que j’en avais besoin', 'elementary_subjects': ['Assistance : Manque de Réponses et de Support'], 'topics': []}]}, {'text': 'faute de passeport'}, {'text': 'La mairie m’a donc suggérée de reprendre un rdv pour refaire ma carte d’identité suite à mon changement de domicile'}, {'text': 'J’ai donc rerempli ma demande en ligne le 25/03 et obtenu un rdv 3 mois plus tard… soit fin juin', 'extractions': [{'sentiment': 'NEGATIVE', 'extraction': \"Délai d'attente pour le rendez-vous de renouvellement\", 'text': 'J’ai donc rerempli ma demande en ligne le 25/03 et obtenu un rdv 3 mois plus tard… soit fin juin', 'elementary_subjects': ['Récupération de Documents : Attente et Exigences Administratives'], 'topics': []}]}, {'text': 'Mon dossier est prêt et je patiente bien sagement mon rdv (3 mois)… or je lis que le 22/04 soit un mois après mon dossier en ligne et ma prise de rdv'}, {'text': 'la demande de renouvellement de carte d’identité pour changement d’adresse est suspendue…', 'extractions': [{'sentiment': 'NEGATIVE', 'extraction': \"Suspension de la demande de renouvellement de carte d'identité\", 'text': 'la demande de renouvellement de carte d’identité pour changement d’adresse est suspendue…', 'elementary_subjects': ['Assistance : Manque de Réponses et de Support'], 'topics': []}]}, {'text': 'Suis je concerné car j’ai pourtant tout respecté', 'extractions': [{'sentiment': 'NEGATIVE', 'extraction': 'Inquiétude concernant le respect des procédures', 'text': 'Suis je concerné car j’ai pourtant tout respecté', 'elementary_subjects': ['Assistance : Manque de Réponses et de Support'], 'topics': []}]}, {'text': 'pré dossier en ligne'}, {'text': 'prise de rdv et maintenant je serai furieux de m’entendre dire désolé mais ce n’est plus possible', 'extractions': [{'sentiment': 'NEGATIVE', 'extraction': 'Furieux de potentiellement ne pas pouvoir déposer le dossier', 'text': 'prise de rdv et maintenant je serai furieux de m’entendre dire désolé mais ce n’est plus possible', 'elementary_subjects': ['Assistance : Manque de Réponses et de Support'], 'topics': []}]}, {'text': 'Puis je tout de même déposer mon dossier dans 1 mois en mairie', 'extractions': [{'sentiment': 'SUGGESTION', 'extraction': 'Possibilité de déposer le dossier dans un mois', 'text': 'Puis je tout de même déposer mon dossier dans 1 mois en mairie', 'elementary_subjects': [\"Renouvellement CNI : Changement d'Adresse et Procédure\"], 'topics': []}]}, {'text': 'Avez vous le droit (ou la mairie) de me refuser le dépôt le mois prochain de ma demande de renouvellement de CNI', 'extractions': [{'sentiment': 'SUGGESTION', 'extraction': 'Droit de la mairie de refuser le dépôt de la demande de renouvellement', 'text': 'Avez vous le droit (ou la mairie) de me refuser le dépôt le mois prochain de ma demande de renouvellement de CNI', 'elementary_subjects': [\"Renouvellement CNI : Changement d'Adresse et Procédure\"], 'topics': []}]}, {'text': 'Cordialement'}], 'topics_v2': []}\n",
      "[check_duplicates()] invalid syntax (<string>, line 0)\n",
      "[check_duplicates()] invalid syntax (<string>, line 0)\n"
     ]
    },
    {
     "name": "stderr",
     "output_type": "stream",
     "text": [
      "Processing chunks: 100%|██████████| 1/1 [00:30<00:00, 31.00s/it]"
     ]
    },
    {
     "name": "stdout",
     "output_type": "stream",
     "text": [
      "[check_duplicates()] invalid syntax (<string>, line 0)\n"
     ]
    },
    {
     "name": "stderr",
     "output_type": "stream",
     "text": [
      "\n"
     ]
    }
   ],
   "source": [
    "\n",
    "res = process_analysis_in_parallel(\n",
    "    feedbacks=feedbacks_sample,\n",
    "    brand_name=BRAND,\n",
    "    language='french',\n",
    "    model=\"gpt-4o-mini\",\n",
    "    save_to_mongo=True\n",
    ")\n",
    "\n",
    "# res"
   ]
  },
  {
   "cell_type": "markdown",
   "metadata": {},
   "source": [
    "## Check elementary subjects that we generated"
   ]
  },
  {
   "cell_type": "code",
   "execution_count": 8,
   "metadata": {},
   "outputs": [],
   "source": [
    "from utils.database import get_elementary_subjects"
   ]
  },
  {
   "cell_type": "code",
   "execution_count": 9,
   "metadata": {},
   "outputs": [
    {
     "name": "stdout",
     "output_type": "stream",
     "text": [
      "3\n"
     ]
    },
    {
     "data": {
      "text/plain": [
       "['Assistance : Manque de Réponses et de Support',\n",
       " 'Récupération de Documents : Attente et Exigences Administratives',\n",
       " 'Système de Notation : Inexactitude des Retours Utilisateurs']"
      ]
     },
     "execution_count": 9,
     "metadata": {},
     "output_type": "execute_result"
    }
   ],
   "source": [
    "negative_elementary_subjects = get_elementary_subjects(BRAND, 'negative')\n",
    "\n",
    "print(len(negative_elementary_subjects))\n",
    "\n",
    "[x['elementary_subject'] for x in negative_elementary_subjects[:5]]"
   ]
  },
  {
   "cell_type": "code",
   "execution_count": null,
   "metadata": {},
   "outputs": [],
   "source": []
  },
  {
   "cell_type": "code",
   "execution_count": 13,
   "metadata": {},
   "outputs": [
    {
     "name": "stdout",
     "output_type": "stream",
     "text": [
      "========================\n",
      "========================\n",
      "Sentence : J’ai fait ma demande d’Aspa en juillet 2021.\n",
      "Extraction : Demande d'Aspa en attente depuis juillet 2021\n",
      "Elementary Subjects : [\"Service : Délais d'attente pour les demandes : Demande d'Aspa en attente\"]\n",
      "===========\n",
      "Sentence : Mon dossier est complet et il est toujours en attente depuis !\n",
      "Extraction : Demande d'Aspa en attente depuis juillet 2021\n",
      "Elementary Subjects : [\"Service : Délais de traitement des demandes : Demande d'Aspa en attente\"]\n",
      "===========\n",
      "Sentence : je suis passée par la CARSAT DE L’ORNE ou j’ai trouvé une super écoute !\n",
      "Extraction : Bonne écoute de la CARSAT DE L’ORNE\n",
      "Elementary Subjects : [\"Service : Qualité de l'écoute des agents\"]\n",
      "===========\n",
      "Sentence : J’ai reçu un mail sur mon espace client me disant que mon dossier serait traité sous 7 jours ouvrés,\n",
      "Extraction : Dossier non traité dans les délais annoncés\n",
      "Elementary Subjects : ['Service : Délai de traitement : Dossier non traité dans les délais annoncés']\n",
      "===========\n",
      "Sentence : et bien non !\n",
      "Extraction : Dossier non traité dans les délais annoncés\n",
      "Elementary Subjects : ['Service : Délais de traitement : Dossier non traité dans les délais annoncés']\n",
      "===========\n",
      "Sentence : on se moque de nous,\n",
      "Extraction : Absence de suivi et de communication\n",
      "Elementary Subjects : ['Service : Manque de suivi et de communication']\n",
      "===========\n",
      "Sentence : on nous balade.\n",
      "Extraction : Absence de suivi et de communication\n",
      "Elementary Subjects : ['Service : Manque de suivi et de communication']\n",
      "===========\n",
      "Sentence : On me fixe un rendez vous téléphonique,\n",
      "Extraction : Absence de suivi et de communication\n",
      "Elementary Subjects : ['Service : Manque de suivi et de communication']\n",
      "===========\n",
      "Sentence : et on ne m’appelle pas.\n",
      "Extraction : Absence de suivi et de communication\n",
      "Elementary Subjects : ['Service : Manque de suivi et de communication']\n",
      "===========\n",
      "Sentence : On envoie des mails à mon gestionnaire,\n",
      "Extraction : Absence de suivi et de communication\n",
      "Elementary Subjects : ['Service : Manque de suivi et de communication']\n",
      "===========\n",
      "Sentence : pour signaler l’urgence aucune réponse !\n",
      "Extraction : Absence de suivi et de communication\n",
      "Elementary Subjects : ['Service : Manque de suivi et de communication']\n",
      "===========\n",
      "Sentence : Je devrai vivre tranquille avec ma petite retraite et la aide de l’ASPA ,\n",
      "Extraction : Difficultés financières à cause de la situation\n",
      "===========\n",
      "Sentence : je galère pour régler mes factures et mon loyer !\n",
      "Extraction : Difficultés financières à cause de la situation\n",
      "===========\n",
      "Sentence : Nous sommes vraiment absolument pas considérée par la CARSAT de Paris !\n",
      "Extraction : Sentiment de non-considération par la CARSAT de Paris\n",
      "Elementary Subjects : ['Service : Sentiment de non-considération par les services publics']\n",
      "===========\n",
      "Sentence : Perso je suis désespérée de cette situation !\n",
      "Extraction : Désespoir face à la situation\n",
      "===========\n"
     ]
    }
   ],
   "source": [
    "# row = subdf.sample().iloc[0]\n",
    "# extractions = get_field_value(\n",
    "#     feedback_id=row['_id'],\n",
    "#     field_name='extractions',\n",
    "# )\n",
    "# res = classify_one_feedback(\n",
    "#     feedback_id=row['_id'],\n",
    "#     extractions=extractions,\n",
    "#     model=\"gpt-4o-mini\",\n",
    "#     brand=BRAND,\n",
    "#     brand_descr=BRAND_DESCR,\n",
    "#     language=\"french\",\n",
    "#     extractions_column=\"extractions\",\n",
    "#     update_mongo=False\n",
    "# )\n",
    "\n",
    "# # res"
   ]
  }
 ],
 "metadata": {
  "kernelspec": {
   "display_name": "Python 3",
   "language": "python",
   "name": "python3"
  },
  "language_info": {
   "codemirror_mode": {
    "name": "ipython",
    "version": 3
   },
   "file_extension": ".py",
   "mimetype": "text/x-python",
   "name": "python",
   "nbconvert_exporter": "python",
   "pygments_lexer": "ipython3",
   "version": "3.11.3"
  }
 },
 "nbformat": 4,
 "nbformat_minor": 2
}
