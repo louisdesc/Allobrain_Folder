{
 "cells": [
  {
   "cell_type": "code",
   "execution_count": 47,
   "metadata": {},
   "outputs": [],
   "source": [
    "import json\n",
    "import boto3\n",
    "import pandas as pd\n",
    "import ast\n",
    "\n",
    "from utils.analysis_utils import classify_one_feedback\n",
    "from utils.database import get_field_value\n",
    "from pymongo import MongoClient\n",
    "import certifi\n",
    "import importlib"
   ]
  },
  {
   "cell_type": "code",
   "execution_count": 41,
   "metadata": {},
   "outputs": [],
   "source": [
    "# TODO: Remove\n",
    "\n",
    "import importlib\n",
    "import utils.analysis_utils\n",
    "import utils.database\n",
    "\n",
    "# Reload the modules\n",
    "importlib.reload(utils.analysis_utils)\n",
    "importlib.reload(utils.database)\n",
    "\n",
    "# Now you can import your functions\n",
    "from utils.analysis_utils import classify_one_feedback\n",
    "from utils.database import get_field_value\n"
   ]
  },
  {
   "cell_type": "code",
   "execution_count": 3,
   "metadata": {},
   "outputs": [],
   "source": [
    "_secrets_manager_client = boto3.client(\"secretsmanager\", region_name=\"eu-west-3\")\n",
    "\n",
    "_secrets = json.loads(\n",
    "    _secrets_manager_client.get_secret_value(\n",
    "        SecretId=f\"Prod/alloreview\"\n",
    "    )[\"SecretString\"]\n",
    ")\n",
    "MONGO_CONNECTION_STRING = (\n",
    "    \"mongodb+srv://alloreview:{}@feedbacksdev.cuwx1.mongodb.net\".format(\n",
    "        _secrets[\"mongodb\"][\"password\"]\n",
    "    )\n",
    ")\n",
    "mongo_client = MongoClient(MONGO_CONNECTION_STRING,tlsCAFile=certifi.where())\n",
    "\n",
    "collection = mongo_client['feedbacks_db']['feedbacks_Prod']"
   ]
  },
  {
   "cell_type": "markdown",
   "metadata": {},
   "source": [
    "# Generating Elementary Subjects\n",
    "\n",
    "After creating all the extractions, our objective is to generate elementary subjects.\n",
    "\n",
    "We use the following method:\n",
    "\n",
    "1. For each extraction, we attempt to classify it among the existing elementary subjects.\n",
    "2. If no subject matches, we generate a new one.\n",
    "3. As we progress, we also verify that we are not generating duplicates.\n",
    "\n",
    "## Process\n",
    "\n",
    "We classify and generate our elementary subjects progressively:\n",
    "\n",
    "1. Classify each extraction\n",
    "2. Generate new subjects as needed\n",
    "3. Check for duplicates\n",
    "\n",
    "By the end of this process, after classifying everything, we will have generated all our subjects.\n",
    "\n",
    "## Database Storage\n",
    "\n",
    "The elementary subjects are pushed into the `elementary_subjects_dev` database."
   ]
  },
  {
   "cell_type": "code",
   "execution_count": 4,
   "metadata": {},
   "outputs": [],
   "source": [
    "BRAND = 'ditp_analysis'\n",
    "\n",
    "BRAND_DESCR = '''\n",
    "Feedbacks are from French public services.\n",
    "'''"
   ]
  },
  {
   "cell_type": "code",
   "execution_count": 7,
   "metadata": {},
   "outputs": [
    {
     "data": {
      "text/plain": [
       "(80172, 84)"
      ]
     },
     "execution_count": 7,
     "metadata": {},
     "output_type": "execute_result"
    }
   ],
   "source": [
    "# getting feedbacks from mongo\n",
    "\n",
    "from_mongo = pd.DataFrame(list(collection.aggregate([\n",
    "    {\n",
    "        '$match': {\n",
    "            'brand': BRAND,\n",
    "        },\n",
    "    },\n",
    "])))\n",
    "\n",
    "from_mongo.shape"
   ]
  },
  {
   "cell_type": "code",
   "execution_count": 17,
   "metadata": {},
   "outputs": [],
   "source": [
    "def format_ligne(ligne):\n",
    "    # Fonction interne pour gérer les valeurs manquantes\n",
    "    def extraire_champ(champ, allow_empty=False):\n",
    "        return champ if pd.notnull(champ) and (allow_empty or champ != 'N/A') else None\n",
    "\n",
    "    # Champs obligatoires et facultatifs\n",
    "    champs = [\n",
    "        (\"Intitulé Structure 1\", ligne.get(\"intitule_structure_1\"), False),\n",
    "        (\"Intitulé Structure 2\", ligne.get(\"intitule_structure_2\"), True),\n",
    "        (\"Tags Métiers\", ligne.get(\"tags_metiers\"), True),\n",
    "        (\"Pays de la demande\", ligne.get(\"pays\"), False)\n",
    "    ]\n",
    "    \n",
    "    # Initialisation des lignes avec une phrase fixe\n",
    "    lignes = [\"Feedbacks are from French public services.\"]\n",
    "    \n",
    "    # Génération des lignes dynamiques si les champs sont présents\n",
    "    for label, champ, allow_empty in champs:\n",
    "        valeur = extraire_champ(champ, allow_empty)\n",
    "        if valeur:\n",
    "            lignes.append(f\"{label}: {valeur}\")\n",
    "    \n",
    "    # Retour du résultat formaté\n",
    "    return \"\\n\".join(lignes)"
   ]
  },
  {
   "cell_type": "code",
   "execution_count": 51,
   "metadata": {},
   "outputs": [
    {
     "name": "stdout",
     "output_type": "stream",
     "text": [
      "(43, 85)\n",
      "Example of row: changement d'adresse pour carte grise\n",
      "J'ai déménagé récemment et pour mettre à jour ma carte grise, je me suis connectée sur ANTS, la démarche a été très simple, quand je la compare aux longues files d'attente en Préfecture d'il y a quelques années, enfin je parle d'un temps que les moins de 20 ans ne peuvent pas connaitre. Ce service est parfait, rapide, pas de déplacement, franchement, top !\n"
     ]
    }
   ],
   "source": [
    "# Keeping only feedbacks with extractions and splitted_analysis_v2\n",
    "\n",
    "# subdf = from_mongo[from_mongo['extractions'].notna()]\n",
    "# subdf = subdf[subdf['splitted_analysis_v2'].notna()]\n",
    "df = pd.read_csv('ditp_test_2.csv')\n",
    "subdf = df\n",
    "subdf['brand_context'] = subdf.apply(format_ligne, axis=1)\n",
    "print(subdf.shape)\n",
    "\n",
    "row = subdf.sample().iloc[0]\n",
    "\n",
    "print(\"Example of row:\", row.verbatims)\n"
   ]
  },
  {
   "cell_type": "markdown",
   "metadata": {},
   "source": [
    "The function `classify_one_feedback` is used to classify each extraction."
   ]
  },
  {
   "cell_type": "code",
   "execution_count": 45,
   "metadata": {},
   "outputs": [
    {
     "name": "stdout",
     "output_type": "stream",
     "text": [
      "ditp_analysis/3073551\n",
      "[{'sentiment': 'SUGGESTION', 'extraction': \"Demande d'information sur le dossier\", 'text': \"Demande d'information sur mon dossier\"}, {'sentiment': 'NEGATIVE', 'extraction': 'Absence de réponse à la demande de retraite complémentaire', 'text': \"Je n'ai pas eu de réponse.\"}, {'sentiment': 'NEGATIVE', 'extraction': 'Dossier de retraite complémentaire toujours en cours de traitement', 'text': 'Traitement de dossier toujours en cours.'}, {'sentiment': 'SUGGESTION', 'extraction': \"Confirmation de l'enregistrement de la demande de retraite complémentaire\", 'text': \"J'ai besoin de savoir si ma demande de retraite complémentaire pour le 1er octobre est bien enregistrée et de connaître le montant et la date de paiement ?\"}, {'sentiment': 'SUGGESTION', 'extraction': 'Demande de montant et date de paiement de la retraite complémentaire', 'text': \"J'ai besoin de savoir si ma demande de retraite complémentaire pour le 1er octobre est bien enregistrée et de connaître le montant et la date de paiement ?\"}]\n",
      "Feedbacks are from French public services.\n",
      "Intitulé Structure 1: AGIRC-ARRCO\n",
      "Pays de la demande: France\n",
      "<class 'str'>\n",
      "<class 'str'>\n",
      "<class 'str'>\n"
     ]
    }
   ],
   "source": [
    "print(row[\"_id\"])\n",
    "print(row[\"extractions\"])\n",
    "print(row[\"brand_context\"])\n",
    "\n",
    "print(type(row[\"_id\"]))\n",
    "print(type(row[\"extractions\"]))\n",
    "print(type(row[\"brand_context\"]))"
   ]
  },
  {
   "cell_type": "code",
   "execution_count": 53,
   "metadata": {},
   "outputs": [
    {
     "name": "stdout",
     "output_type": "stream",
     "text": [
      "========================\n",
      "========================\n",
      "Sentence : J'ai déménagé récemment et pour mettre à jour ma carte grise,\n",
      "Extraction : Simplicité de la démarche pour mettre à jour la carte grise\n",
      "Elementary Subjects : ['Services publics : Simplicité des démarches administratives : Mise à jour de la carte grise']\n",
      "===========\n",
      "Sentence :  la démarche a été très simple,\n",
      "Extraction : Simplicité de la démarche pour mettre à jour la carte grise\n",
      "Elementary Subjects : ['Services publics : Simplicité des démarches administratives : Mise à jour de la carte grise']\n",
      "===========\n",
      "Sentence :  quand je la compare aux longues files d'attente en Préfecture d'il y a quelques années,\n",
      "Extraction : Comparaison favorable avec les longues files d'attente en Préfecture\n",
      "Elementary Subjects : [\"Service : Comparaison de l'efficacité : Efficacité par rapport aux services en Préfecture\"]\n",
      "===========\n",
      "Sentence :  Ce service est parfait,\n",
      "Extraction : Service parfait\n",
      "===========\n",
      "Sentence :  rapide,\n",
      "Extraction : Service rapide\n",
      "===========\n",
      "Sentence :  pas de déplacement,\n",
      "Extraction : Pas de déplacement nécessaire\n",
      "===========\n",
      "Sentence :  franchement,\n",
      "Extraction : Satisfaction générale\n",
      "===========\n",
      "Sentence :  top !\n",
      "Extraction : Satisfaction générale\n",
      "===========\n"
     ]
    },
    {
     "data": {
      "text/plain": [
       "{'id': 'ditp_analysis/615879',\n",
       " 'extractions': [{'sentiment': 'POSITIVE',\n",
       "   'extraction': 'Simplicité de la démarche pour mettre à jour la carte grise',\n",
       "   'text': \"J'ai déménagé récemment et pour mettre à jour ma carte grise,\",\n",
       "   'elementary_subjects': ['Services publics : Simplicité des démarches administratives : Mise à jour de la carte grise'],\n",
       "   'topics': {}},\n",
       "  {'sentiment': 'POSITIVE',\n",
       "   'extraction': 'Simplicité de la démarche pour mettre à jour la carte grise',\n",
       "   'text': ' la démarche a été très simple,',\n",
       "   'elementary_subjects': ['Services publics : Simplicité des démarches administratives : Mise à jour de la carte grise'],\n",
       "   'topics': {}},\n",
       "  {'sentiment': 'POSITIVE',\n",
       "   'extraction': \"Comparaison favorable avec les longues files d'attente en Préfecture\",\n",
       "   'text': \" quand je la compare aux longues files d'attente en Préfecture d'il y a quelques années,\",\n",
       "   'elementary_subjects': [\"Service : Comparaison de l'efficacité : Efficacité par rapport aux services en Préfecture\"],\n",
       "   'topics': {}},\n",
       "  {'sentiment': 'POSITIVE',\n",
       "   'extraction': 'Service parfait',\n",
       "   'text': ' Ce service est parfait,'},\n",
       "  {'sentiment': 'POSITIVE',\n",
       "   'extraction': 'Service rapide',\n",
       "   'text': ' rapide,'},\n",
       "  {'sentiment': 'POSITIVE',\n",
       "   'extraction': 'Pas de déplacement nécessaire',\n",
       "   'text': ' pas de déplacement,'},\n",
       "  {'sentiment': 'POSITIVE',\n",
       "   'extraction': 'Satisfaction générale',\n",
       "   'text': ' franchement,'},\n",
       "  {'sentiment': 'POSITIVE',\n",
       "   'extraction': 'Satisfaction générale',\n",
       "   'text': ' top !'}]}"
      ]
     },
     "execution_count": 53,
     "metadata": {},
     "output_type": "execute_result"
    }
   ],
   "source": [
    "res = classify_one_feedback(\n",
    "    feedback_id=row['_id'],\n",
    "    extractions=ast.literal_eval(row[\"extractions\"]),\n",
    "    model=\"gpt-4o-mini\",\n",
    "    brand=BRAND,\n",
    "    brand_context=row[\"brand_context\"],\n",
    "    language=\"french\",\n",
    "    extractions_column=\"extractions\",\n",
    "    update_mongo=False\n",
    ")\n",
    "\n",
    "res"
   ]
  },
  {
   "cell_type": "code",
   "execution_count": 8,
   "metadata": {},
   "outputs": [],
   "source": [
    "# this function allows to parallelize the analysis process and to save the results on the mongo database\n",
    "from utils.analysis_utils import run_analysis_full_parallel"
   ]
  },
  {
   "cell_type": "code",
   "execution_count": 11,
   "metadata": {},
   "outputs": [],
   "source": [
    "\n",
    "importlib.reload(utils.analysis_utils)\n",
    "\n",
    "# Now you can import your functions\n",
    "from utils.analysis_utils import run_analysis_full_parallel"
   ]
  },
  {
   "cell_type": "code",
   "execution_count": 9,
   "metadata": {},
   "outputs": [
    {
     "name": "stdout",
     "output_type": "stream",
     "text": [
      "To extract: 10\n"
     ]
    }
   ],
   "source": [
    "to_analyse = subdf.sample(10) # test on a subset\n",
    "print('To extract:', to_analyse.shape[0])\n",
    "\n",
    "extractions_with_ids = to_analyse[['extractions', '_id']].to_dict(orient='records')"
   ]
  },
  {
   "cell_type": "code",
   "execution_count": 12,
   "metadata": {},
   "outputs": [
    {
     "name": "stdout",
     "output_type": "stream",
     "text": [
      "t\n"
     ]
    },
    {
     "name": "stderr",
     "output_type": "stream",
     "text": [
      "Processing chunks: 100%|██████████| 1/1 [00:00<00:00, 10305.42it/s]\n"
     ]
    },
    {
     "data": {
      "text/plain": [
       "[[], [], [], [], [], [], [], [], [], []]"
      ]
     },
     "execution_count": 12,
     "metadata": {},
     "output_type": "execute_result"
    }
   ],
   "source": [
    "analysis = run_analysis_full_parallel(\n",
    "    extractions_with_ids,\n",
    "    BRAND,\n",
    "    brand_descr=BRAND_DESCR,\n",
    "    language='french',\n",
    "    model=\"gpt-4o-mini\",\n",
    "    save_to_mongo=False\n",
    ")\n",
    "\n",
    "analysis"
   ]
  },
  {
   "cell_type": "code",
   "execution_count": null,
   "metadata": {},
   "outputs": [
    {
     "data": {
      "text/plain": [
       "[{'id': 'columbuscafe_test/5b6e404652649c8ae22e',\n",
       "  'extractions': [{'sentiment': 'POSITIVE',\n",
       "    'extraction': 'Appréciation générale',\n",
       "    'text': '2👍',\n",
       "    'elementary_subjects': ['Satisfaction générale : Volonté de revenir'],\n",
       "    'topics': []}]},\n",
       " {'id': 'columbuscafe_test/72f750f6fe9766ce0e77',\n",
       "  'extractions': [{'sentiment': 'NEGATIVE',\n",
       "    'extraction': 'Erreur dans la commande',\n",
       "    'text': 'Encore une fois une erreur dans la commande,',\n",
       "    'elementary_subjects': ['Service : Problème de traitement des commandes : Commande non traitée'],\n",
       "    'topics': []},\n",
       "   {'sentiment': 'NEGATIVE',\n",
       "    'extraction': 'Problèmes récurrents avec les commandes sur Deliveroo',\n",
       "    'text': ' comme à chaque commande réalisée sur Deliveroo.',\n",
       "    'elementary_subjects': ['Service : Problème de traitement des commandes : Problèmes avec les commandes sur Deliveroo'],\n",
       "    'topics': []},\n",
       "   {'sentiment': 'POSITIVE',\n",
       "    'extraction': 'Service généralement bon en boutique',\n",
       "    'text': ' Cliente de la boutique le service est toujours bien sauf quand on commande !',\n",
       "    'elementary_subjects': [\"Service : Qualité de l'équipe\"],\n",
       "    'topics': []},\n",
       "   {'sentiment': 'NEGATIVE',\n",
       "    'extraction': 'Prix élevé des petites boissons avec frais',\n",
       "    'text': ' Sauf que lorsqu’on paye une petite boisson 8€ avec les frais ça fait râler à force.',\n",
       "    'elementary_subjects': ['Prix : Tarifs élevés'],\n",
       "    'topics': [{'topic': {'1': 'Prix', '2': 'Prix des produits'},\n",
       "      'classification_scheme_id': ObjectId('66df25bf365a29ed53caf5a2'),\n",
       "      'classification_scheme_name': 'Test Classification Scheme'}]}]},\n",
       " {'id': 'columbuscafe_test/ece98e66b43e4fbbdbb4',\n",
       "  'extractions': [{'sentiment': 'POSITIVE',\n",
       "    'extraction': 'Rapport qualité-prix avantageux',\n",
       "    'text': 'rapport qualité prix prix avantageux',\n",
       "    'elementary_subjects': ['Prix : Rapport qualité-prix'],\n",
       "    'topics': [{'topic': {'1': 'Prix', '2': 'Prix des produits'},\n",
       "      'classification_scheme_id': ObjectId('66df25bf365a29ed53caf5a2'),\n",
       "      'classification_scheme_name': 'Test Classification Scheme'}]}]},\n",
       " {'id': 'columbuscafe_test/12e3c568ad741bf2ef96',\n",
       "  'extractions': [{'sentiment': 'NEGATIVE',\n",
       "    'extraction': 'Attente de 25 minutes pour un café',\n",
       "    'text': 'Attendu 25 mn pour un café ….',\n",
       "    'elementary_subjects': [\"Service : Temps d'attente : Longue attente\"],\n",
       "    'topics': [{'topic': {'1': 'Service', '2': 'Rapidité du service'},\n",
       "      'classification_scheme_id': ObjectId('66df25bf365a29ed53caf5a2'),\n",
       "      'classification_scheme_name': 'Test Classification Scheme'}]},\n",
       "   {'sentiment': 'NEGATIVE',\n",
       "    'extraction': 'Service insuffisant avec une seule serveuse',\n",
       "    'text': ' 1 serveuse …..',\n",
       "    'elementary_subjects': ['Service : Organisation du personnel : Désorganisation du personnel'],\n",
       "    'topics': []},\n",
       "   {'sentiment': 'NEGATIVE',\n",
       "    'extraction': 'Café de mauvaise qualité',\n",
       "    'text': ' et en plus le café n’est pas bon …\\n',\n",
       "    'elementary_subjects': ['Produits : Problème de qualité : Café de mauvaise qualité'],\n",
       "    'topics': [{'topic': {'1': 'Personnel', '2': 'Aimabilité du personnel'},\n",
       "      'classification_scheme_id': ObjectId('66df25bf365a29ed53caf5a2'),\n",
       "      'classification_scheme_name': 'Test Classification Scheme'}]},\n",
       "   {'sentiment': 'NEGATIVE',\n",
       "    'extraction': 'Déception générale',\n",
       "    'text': 'Vraiment très déçu,'},\n",
       "   {'sentiment': 'NEGATIVE',\n",
       "    'extraction': 'Décision de ne pas revenir',\n",
       "    'text': ' ne reviendrai plus !'}]},\n",
       " {'id': 'columbuscafe_test/e0e6365ca6e5f9be3d6b',\n",
       "  'extractions': [{'sentiment': 'POSITIVE',\n",
       "    'extraction': 'Super accueil',\n",
       "    'text': 'Super accueil 😁',\n",
       "    'elementary_subjects': ['Service : Accueil chaleureux'],\n",
       "    'topics': [{'topic': {'1': 'Personnel', '2': 'Aimabilité du personnel'},\n",
       "      'classification_scheme_id': ObjectId('66df25bf365a29ed53caf5a2'),\n",
       "      'classification_scheme_name': 'Test Classification Scheme'}]}]},\n",
       " {'id': 'columbuscafe_test/f9e272df0d4fd82a2c18',\n",
       "  'extractions': [{'sentiment': 'NEGATIVE',\n",
       "    'extraction': 'Mauvaise gestion des clients par les serveuses',\n",
       "    'text': \"Les serveuses s'occupent mal des clients .\",\n",
       "    'elementary_subjects': ['Service : Organisation du personnel : Désorganisation du personnel'],\n",
       "    'topics': []},\n",
       "   {'sentiment': 'NEGATIVE',\n",
       "    'extraction': 'Attente excessive pour le service',\n",
       "    'text': \"Le bipeur bip personnes s'occupent de toi au bout de 5 min j'ai pris mon plateau et parti.\",\n",
       "    'elementary_subjects': [\"Service : Temps d'attente : Longue attente\"],\n",
       "    'topics': [{'topic': {'1': 'Service', '2': 'Rapidité du service'},\n",
       "      'classification_scheme_id': ObjectId('66df25bf365a29ed53caf5a2'),\n",
       "      'classification_scheme_name': 'Test Classification Scheme'}]},\n",
       "   {'sentiment': 'NEGATIVE',\n",
       "    'extraction': 'Chocolat et cappuccino de mauvaise qualité',\n",
       "    'text': 'Le chocolat et le capuccino infecte imbuvable..',\n",
       "    'elementary_subjects': ['Produits : Problème de qualité : Cappuccino de mauvaise qualité'],\n",
       "    'topics': [{'topic': {'1': 'Personnel', '2': 'Aimabilité du personnel'},\n",
       "      'classification_scheme_id': ObjectId('66df25bf365a29ed53caf5a2'),\n",
       "      'classification_scheme_name': 'Test Classification Scheme'}]},\n",
       "   {'sentiment': 'NEGATIVE',\n",
       "    'extraction': 'Décision de ne plus retourner dans ce Columbus Café',\n",
       "    'text': 'un endroit plus jamais je retournerai et pourtant je vais souvent dans des columbus mais alors celui la plus jamais',\n",
       "    'elementary_subjects': [\"Service : Insatisfaction générale sur l'établissement\"],\n",
       "    'topics': []}]},\n",
       " {'id': 'columbuscafe_test/43f07543c941a5d88922',\n",
       "  'extractions': [{'sentiment': 'POSITIVE',\n",
       "    'extraction': 'Service courtois',\n",
       "    'text': 'Service courtois.',\n",
       "    'elementary_subjects': [\"Service : Qualité de l'équipe\"],\n",
       "    'topics': []},\n",
       "   {'sentiment': 'NEGATIVE',\n",
       "    'extraction': 'Préparation des beignets exposée de manière peu agréable',\n",
       "    'text': ' Préparation des beignets par un employé exposé comme un poisson dans un aquarium.',\n",
       "    'elementary_subjects': ['Produits : Problème de présentation : Présentation des beignets peu agréable'],\n",
       "    'topics': []},\n",
       "   {'sentiment': 'NEGATIVE',\n",
       "    'extraction': 'Préparation des beignets exposée de manière peu agréable',\n",
       "    'text': \" je n'aimerais pas trop travaillé exposé comme ça.\",\n",
       "    'elementary_subjects': ['Produits : Problème de présentation : Présentation des beignets peu agréable'],\n",
       "    'topics': []},\n",
       "   {'sentiment': 'POSITIVE',\n",
       "    'extraction': 'Petit espace sympa pour manger sur place',\n",
       "    'text': ' Petit espace sympa pour manger sur place,',\n",
       "    'elementary_subjects': ['Ambiance : Ambiance agréable'],\n",
       "    'topics': []},\n",
       "   {'sentiment': 'POSITIVE',\n",
       "    'extraction': 'Bien situé',\n",
       "    'text': ' bien situé,',\n",
       "    'elementary_subjects': [\"Emplacement : Qualité de l'emplacement\"],\n",
       "    'topics': []},\n",
       "   {'sentiment': 'POSITIVE',\n",
       "    'extraction': 'Espace sous un puits de lumière',\n",
       "    'text': ' sous un puit de lumière.',\n",
       "    'elementary_subjects': [\"Ambiance : Qualité de l'espace : Espace sous un puits de lumière\"],\n",
       "    'topics': []},\n",
       "   {'sentiment': 'POSITIVE',\n",
       "    'extraction': \"Produits d'excellente qualité\",\n",
       "    'text': \" 😎 Produits  d'excellente qualité.\",\n",
       "    'elementary_subjects': ['Produits : Qualité des produits : Qualité générale des produits'],\n",
       "    'topics': [{'topic': {'1': 'Personnel', '2': 'Aimabilité du personnel'},\n",
       "      'classification_scheme_id': ObjectId('66df25bf365a29ed53caf5a2'),\n",
       "      'classification_scheme_name': 'Test Classification Scheme'}]},\n",
       "   {'sentiment': 'POSITIVE',\n",
       "    'extraction': 'Bon rapport qualité-prix',\n",
       "    'text': ' 👍 En rapport avec 💵 dépensé.',\n",
       "    'elementary_subjects': ['Prix : Rapport qualité-prix'],\n",
       "    'topics': [{'topic': {'1': 'Prix', '2': 'Prix des produits'},\n",
       "      'classification_scheme_id': ObjectId('66df25bf365a29ed53caf5a2'),\n",
       "      'classification_scheme_name': 'Test Classification Scheme'}]},\n",
       "   {'sentiment': 'POSITIVE',\n",
       "    'extraction': 'Bonne pause goûter pendant les courses',\n",
       "    'text': ' Ça fait une bonne pause goûter au cours des courses.',\n",
       "    'elementary_subjects': ['Produits : Satisfaction générale : Satisfaction lors de la pause goûter'],\n",
       "    'topics': []}]},\n",
       " {'id': 'columbuscafe_test/5c9bb9d227a8028911e2',\n",
       "  'extractions': [{'sentiment': 'POSITIVE',\n",
       "    'extraction': 'Appréciation générale',\n",
       "    'text': '1👍'}]},\n",
       " {'id': 'columbuscafe_test/1976c554cdd362249798', 'extractions': []},\n",
       " {'id': 'columbuscafe_test/3637b6c505ac86f55a53',\n",
       "  'extractions': [{'sentiment': 'POSITIVE',\n",
       "    'extraction': 'Service très bon',\n",
       "    'text': 'Très bon,',\n",
       "    'elementary_subjects': [\"Service : Qualité de l'équipe\"],\n",
       "    'topics': []},\n",
       "   {'sentiment': 'POSITIVE',\n",
       "    'extraction': 'Service très bon',\n",
       "    'text': ' et très serviable de leur part,',\n",
       "    'elementary_subjects': [\"Service : Qualité de l'équipe\"],\n",
       "    'topics': []},\n",
       "   {'sentiment': 'POSITIVE',\n",
       "    'extraction': 'Nourriture proposée est bonne',\n",
       "    'text': ' la nourriture proposé est bonne',\n",
       "    'elementary_subjects': ['Produits : Qualité des produits : Qualité de la nourriture'],\n",
       "    'topics': [{'topic': {'1': 'Personnel', '2': 'Aimabilité du personnel'},\n",
       "      'classification_scheme_id': ObjectId('66df25bf365a29ed53caf5a2'),\n",
       "      'classification_scheme_name': 'Test Classification Scheme'}]}]}]"
      ]
     },
     "metadata": {},
     "output_type": "display_data"
    }
   ],
   "source": [
    "analysis"
   ]
  },
  {
   "cell_type": "markdown",
   "metadata": {},
   "source": [
    "## Check elementary subjects that we generated"
   ]
  },
  {
   "cell_type": "code",
   "execution_count": null,
   "metadata": {},
   "outputs": [],
   "source": [
    "from utils.database import get_elementary_subjects"
   ]
  },
  {
   "cell_type": "code",
   "execution_count": null,
   "metadata": {},
   "outputs": [
    {
     "data": {
      "text/plain": [
       "21"
      ]
     },
     "metadata": {},
     "output_type": "display_data"
    }
   ],
   "source": [
    "positive_elementary_subjects = get_elementary_subjects(BRAND, 'positive')\n",
    "\n",
    "len(positive_elementary_subjects)"
   ]
  },
  {
   "cell_type": "code",
   "execution_count": null,
   "metadata": {},
   "outputs": [
    {
     "data": {
      "text/plain": [
       "['Ambiance : Ambiance agréable',\n",
       " 'Service : Accueil chaleureux',\n",
       " 'Service : Problemlösung : Schnelle Problemlösung bei Fehlern',\n",
       " 'Produits : Qualité des produits : Qualité de la nourriture',\n",
       " 'Produits : Qualité des produits : Qualité du café']"
      ]
     },
     "metadata": {},
     "output_type": "display_data"
    }
   ],
   "source": [
    "[x['elementary_subject'] for x in positive_elementary_subjects[:5]]"
   ]
  },
  {
   "cell_type": "code",
   "execution_count": null,
   "metadata": {},
   "outputs": [
    {
     "name": "stdout",
     "output_type": "stream",
     "text": [
      "15\n"
     ]
    },
    {
     "data": {
      "text/plain": [
       "['Service : Comportement du personnel : Serveur impoli ou nerveux',\n",
       " 'Magasin : Aménagement : Emplacement du mobilier inapproprié',\n",
       " \"Accessibilité : Difficulté d'accès pour les fauteuils roulants\",\n",
       " 'Produits : Problème de qualité : Chocolat non consommable',\n",
       " 'Prix : Tarifs élevés']"
      ]
     },
     "metadata": {},
     "output_type": "display_data"
    }
   ],
   "source": [
    "negative_elementary_subjects = get_elementary_subjects(BRAND, 'negative')\n",
    "\n",
    "print(len(negative_elementary_subjects))\n",
    "\n",
    "[x['elementary_subject'] for x in negative_elementary_subjects[:5]]"
   ]
  },
  {
   "cell_type": "code",
   "execution_count": null,
   "metadata": {},
   "outputs": [],
   "source": []
  },
  {
   "cell_type": "code",
   "execution_count": 13,
   "metadata": {},
   "outputs": [
    {
     "name": "stdout",
     "output_type": "stream",
     "text": [
      "========================\n",
      "========================\n",
      "Sentence : J’ai fait ma demande d’Aspa en juillet 2021.\n",
      "Extraction : Demande d'Aspa en attente depuis juillet 2021\n",
      "Elementary Subjects : [\"Service : Délais d'attente pour les demandes : Demande d'Aspa en attente\"]\n",
      "===========\n",
      "Sentence : Mon dossier est complet et il est toujours en attente depuis !\n",
      "Extraction : Demande d'Aspa en attente depuis juillet 2021\n",
      "Elementary Subjects : [\"Service : Délais de traitement des demandes : Demande d'Aspa en attente\"]\n",
      "===========\n",
      "Sentence : je suis passée par la CARSAT DE L’ORNE ou j’ai trouvé une super écoute !\n",
      "Extraction : Bonne écoute de la CARSAT DE L’ORNE\n",
      "Elementary Subjects : [\"Service : Qualité de l'écoute des agents\"]\n",
      "===========\n",
      "Sentence : J’ai reçu un mail sur mon espace client me disant que mon dossier serait traité sous 7 jours ouvrés,\n",
      "Extraction : Dossier non traité dans les délais annoncés\n",
      "Elementary Subjects : ['Service : Délai de traitement : Dossier non traité dans les délais annoncés']\n",
      "===========\n",
      "Sentence : et bien non !\n",
      "Extraction : Dossier non traité dans les délais annoncés\n",
      "Elementary Subjects : ['Service : Délais de traitement : Dossier non traité dans les délais annoncés']\n",
      "===========\n",
      "Sentence : on se moque de nous,\n",
      "Extraction : Absence de suivi et de communication\n",
      "Elementary Subjects : ['Service : Manque de suivi et de communication']\n",
      "===========\n",
      "Sentence : on nous balade.\n",
      "Extraction : Absence de suivi et de communication\n",
      "Elementary Subjects : ['Service : Manque de suivi et de communication']\n",
      "===========\n",
      "Sentence : On me fixe un rendez vous téléphonique,\n",
      "Extraction : Absence de suivi et de communication\n",
      "Elementary Subjects : ['Service : Manque de suivi et de communication']\n",
      "===========\n",
      "Sentence : et on ne m’appelle pas.\n",
      "Extraction : Absence de suivi et de communication\n",
      "Elementary Subjects : ['Service : Manque de suivi et de communication']\n",
      "===========\n",
      "Sentence : On envoie des mails à mon gestionnaire,\n",
      "Extraction : Absence de suivi et de communication\n",
      "Elementary Subjects : ['Service : Manque de suivi et de communication']\n",
      "===========\n",
      "Sentence : pour signaler l’urgence aucune réponse !\n",
      "Extraction : Absence de suivi et de communication\n",
      "Elementary Subjects : ['Service : Manque de suivi et de communication']\n",
      "===========\n",
      "Sentence : Je devrai vivre tranquille avec ma petite retraite et la aide de l’ASPA ,\n",
      "Extraction : Difficultés financières à cause de la situation\n",
      "===========\n",
      "Sentence : je galère pour régler mes factures et mon loyer !\n",
      "Extraction : Difficultés financières à cause de la situation\n",
      "===========\n",
      "Sentence : Nous sommes vraiment absolument pas considérée par la CARSAT de Paris !\n",
      "Extraction : Sentiment de non-considération par la CARSAT de Paris\n",
      "Elementary Subjects : ['Service : Sentiment de non-considération par les services publics']\n",
      "===========\n",
      "Sentence : Perso je suis désespérée de cette situation !\n",
      "Extraction : Désespoir face à la situation\n",
      "===========\n"
     ]
    }
   ],
   "source": [
    "row = subdf.sample().iloc[0]\n",
    "extractions = get_field_value(\n",
    "    feedback_id=row['_id'],\n",
    "    field_name='extractions',\n",
    ")\n",
    "res = classify_one_feedback(\n",
    "    feedback_id=row['_id'],\n",
    "    extractions=extractions,\n",
    "    model=\"gpt-4o-mini\",\n",
    "    brand=BRAND,\n",
    "    brand_descr=BRAND_DESCR,\n",
    "    language=\"french\",\n",
    "    extractions_column=\"extractions\",\n",
    "    update_mongo=False\n",
    ")\n",
    "\n",
    "# res"
   ]
  },
  {
   "cell_type": "code",
   "execution_count": null,
   "metadata": {},
   "outputs": [],
   "source": [
    "========================\n",
    "========================\n",
    "Sentence : Démarche prime à la conversion interminable.\n",
    "Extraction : Démarche prime à la conversion interminable\n",
    "Elementary Subjects : ['Services publics : Démarches administratives : Démarche prime à la conversion trop longue']\n",
    "===========\n",
    "Sentence : Des documents fournis sont encore illisibles soi-disant...\n",
    "Extraction : Documents fournis illisibles\n",
    "Elementary Subjects : ['Documents : Problème de lisibilité']\n",
    "===========\n",
    "Sentence : mais nous avons des nouvelles de notre dossier tous les deux mois.\n",
    "Extraction : Mises à jour du dossier tous les deux mois\n",
    "Elementary Subjects : ['Service : Fréquence des mises à jour de dossier']\n"
   ]
  }
 ],
 "metadata": {
  "kernelspec": {
   "display_name": "Python 3",
   "language": "python",
   "name": "python3"
  },
  "language_info": {
   "codemirror_mode": {
    "name": "ipython",
    "version": 3
   },
   "file_extension": ".py",
   "mimetype": "text/x-python",
   "name": "python",
   "nbconvert_exporter": "python",
   "pygments_lexer": "ipython3",
   "version": "3.11.3"
  }
 },
 "nbformat": 4,
 "nbformat_minor": 2
}
