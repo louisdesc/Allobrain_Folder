{
 "cells": [
  {
   "cell_type": "code",
   "execution_count": 1,
   "metadata": {},
   "outputs": [],
   "source": [
    "import pandas as pd\n",
    "import json\n",
    "\n",
    "from tqdm import tqdm\n",
    "from joblib import Memory\n",
    "from typing import List, Dict\n",
    "from pymongo import MongoClient"
   ]
  },
  {
   "attachments": {},
   "cell_type": "markdown",
   "metadata": {},
   "source": [
    "# Data Structure Observation\n",
    "\n",
    "The primary objective of this notebook is to observe the structure of the data in the database.\n",
    "\n",
    "Let's retrieve some data to better understand their structure.\n",
    "\n",
    "- The data is stored in MongoDB\n",
    "- Each feedback is a \"document\" that can contain multiple fields/metadata\n",
    "- The mandatory metadata are:\n",
    "    * Timestamp\n",
    "    * A text field (often verbatim)\n",
    "    * An ID\n",
    "    * A brand (to filter our data based on the client)\n",
    "\n",
    "We will take the example of the brand: ColumbusCafe\n",
    "\n",
    "Dashboard link :  https://dashboard.allobrain.com/columbuscafe?filter_time_range=%5B1660521600000%2C1727733599999%5D&"
   ]
  },
  {
   "attachments": {},
   "cell_type": "markdown",
   "metadata": {},
   "source": [
    "Connect to the database"
   ]
  },
  {
   "cell_type": "code",
   "execution_count": 2,
   "metadata": {},
   "outputs": [],
   "source": [
    "MONGO_PASSWORD = \"TZ4ejFMVMzInADLP\"\n",
    "\n",
    "import certifi\n",
    "\n",
    "mongo_client = MongoClient(\n",
    "    f\"mongodb+srv://alloreview:{MONGO_PASSWORD}@\"\n",
    "    \"feedbacksdev.cuwx1.mongodb.net/\"\n",
    "    \"myFirstDatabase?retryWrites=true&w=majority\",\n",
    "     tlsCAFile=certifi.where()\n",
    ")\n",
    "collection = mongo_client['feedbacks_db']['feedbacks_Prod']"
   ]
  },
  {
   "attachments": {},
   "cell_type": "markdown",
   "metadata": {},
   "source": [
    "Brand:"
   ]
  },
  {
   "cell_type": "code",
   "execution_count": 3,
   "metadata": {},
   "outputs": [],
   "source": [
    "BRAND = 'ditp_analysis'"
   ]
  },
  {
   "cell_type": "code",
   "execution_count": 4,
   "metadata": {},
   "outputs": [
    {
     "data": {
      "text/plain": [
       "(100, 82)"
      ]
     },
     "execution_count": 4,
     "metadata": {},
     "output_type": "execute_result"
    }
   ],
   "source": [
    "# getting 100 documents from picard brand\n",
    "\n",
    "from_mongo = pd.DataFrame(list(collection.aggregate([\n",
    "    {\n",
    "        '$match': {\n",
    "            'brand': BRAND,\n",
    "        },\n",
    "    },\n",
    "    { \"$sample\" : { \"size\": 100 } }\n",
    "])))\n",
    "\n",
    "from_mongo.shape"
   ]
  },
  {
   "cell_type": "code",
   "execution_count": 14,
   "metadata": {},
   "outputs": [
    {
     "data": {
      "text/html": [
       "<div>\n",
       "<style scoped>\n",
       "    .dataframe tbody tr th:only-of-type {\n",
       "        vertical-align: middle;\n",
       "    }\n",
       "\n",
       "    .dataframe tbody tr th {\n",
       "        vertical-align: top;\n",
       "    }\n",
       "\n",
       "    .dataframe thead th {\n",
       "        text-align: right;\n",
       "    }\n",
       "</style>\n",
       "<table border=\"1\" class=\"dataframe\">\n",
       "  <thead>\n",
       "    <tr style=\"text-align: right;\">\n",
       "      <th></th>\n",
       "      <th>_id</th>\n",
       "      <th>accessibilite</th>\n",
       "      <th>action</th>\n",
       "      <th>aide_ia_proposee_reponse_structure_1</th>\n",
       "      <th>aide_ia_proposee_reponse_structure_2</th>\n",
       "      <th>aide_ia_proposee_reponse_structure_3</th>\n",
       "      <th>amelioration_de_service_a_considerer</th>\n",
       "      <th>audio</th>\n",
       "      <th>brand</th>\n",
       "      <th>canaux_typologie_1</th>\n",
       "      <th>...</th>\n",
       "      <th>taux_de_similarite_reponse_ia_structure_3</th>\n",
       "      <th>timestamp</th>\n",
       "      <th>titre</th>\n",
       "      <th>top_ia_structure_1</th>\n",
       "      <th>top_ia_structure_2</th>\n",
       "      <th>top_ia_structure_3</th>\n",
       "      <th>vote_de_l_agent_reponse_ia_structure_1</th>\n",
       "      <th>vote_de_l_agent_reponse_ia_structure_2</th>\n",
       "      <th>vote_de_l_agent_reponse_ia_structure_3</th>\n",
       "      <th>verbatims</th>\n",
       "    </tr>\n",
       "  </thead>\n",
       "  <tbody>\n",
       "    <tr>\n",
       "      <th>0</th>\n",
       "      <td>ditp_analysis/4325567</td>\n",
       "      <td>Négatif</td>\n",
       "      <td>None</td>\n",
       "      <td>N</td>\n",
       "      <td>N</td>\n",
       "      <td>None</td>\n",
       "      <td>Non</td>\n",
       "      <td>N</td>\n",
       "      <td>ditp_analysis</td>\n",
       "      <td>Démarche en ligne,E-mail</td>\n",
       "      <td>...</td>\n",
       "      <td>None</td>\n",
       "      <td>1.702249e+12</td>\n",
       "      <td>Renouvellement du titre de séjour étudiant</td>\n",
       "      <td>O</td>\n",
       "      <td>N</td>\n",
       "      <td>None</td>\n",
       "      <td>None</td>\n",
       "      <td>None</td>\n",
       "      <td>None</td>\n",
       "      <td>Renouvellement du titre de séjour étudiant\\nJ'...</td>\n",
       "    </tr>\n",
       "    <tr>\n",
       "      <th>1</th>\n",
       "      <td>ditp_analysis/3812414</td>\n",
       "      <td>Négatif</td>\n",
       "      <td>None</td>\n",
       "      <td>O</td>\n",
       "      <td>N</td>\n",
       "      <td>None</td>\n",
       "      <td>Non</td>\n",
       "      <td>N</td>\n",
       "      <td>ditp_analysis</td>\n",
       "      <td>Démarche en ligne</td>\n",
       "      <td>...</td>\n",
       "      <td>None</td>\n",
       "      <td>1.689631e+12</td>\n",
       "      <td>Refus de la demande de changement d'adresse</td>\n",
       "      <td>O</td>\n",
       "      <td>N</td>\n",
       "      <td>None</td>\n",
       "      <td>None</td>\n",
       "      <td>None</td>\n",
       "      <td>None</td>\n",
       "      <td>Refus de la demande de changement d'adresse\\nJ...</td>\n",
       "    </tr>\n",
       "    <tr>\n",
       "      <th>2</th>\n",
       "      <td>ditp_analysis/4136135</td>\n",
       "      <td>Négatif</td>\n",
       "      <td>None</td>\n",
       "      <td>O</td>\n",
       "      <td>None</td>\n",
       "      <td>None</td>\n",
       "      <td>Non</td>\n",
       "      <td>N</td>\n",
       "      <td>ditp_analysis</td>\n",
       "      <td>Démarche en ligne,Téléphone</td>\n",
       "      <td>...</td>\n",
       "      <td>None</td>\n",
       "      <td>1.697926e+12</td>\n",
       "      <td>CCAM</td>\n",
       "      <td>O</td>\n",
       "      <td>None</td>\n",
       "      <td>None</td>\n",
       "      <td>None</td>\n",
       "      <td>None</td>\n",
       "      <td>None</td>\n",
       "      <td>CCAM\\nLe consulat de France à Fès est le plus ...</td>\n",
       "    </tr>\n",
       "    <tr>\n",
       "      <th>3</th>\n",
       "      <td>ditp_analysis/5094741</td>\n",
       "      <td>Positif</td>\n",
       "      <td>None</td>\n",
       "      <td>O</td>\n",
       "      <td>None</td>\n",
       "      <td>None</td>\n",
       "      <td>Non</td>\n",
       "      <td>N</td>\n",
       "      <td>ditp_analysis</td>\n",
       "      <td>Démarche en ligne</td>\n",
       "      <td>...</td>\n",
       "      <td>None</td>\n",
       "      <td>1.725055e+12</td>\n",
       "      <td>Edition d'un plan de situation pour faire une DP</td>\n",
       "      <td>O</td>\n",
       "      <td>None</td>\n",
       "      <td>None</td>\n",
       "      <td>None</td>\n",
       "      <td>None</td>\n",
       "      <td>None</td>\n",
       "      <td>Edition d'un plan de situation pour faire une ...</td>\n",
       "    </tr>\n",
       "    <tr>\n",
       "      <th>4</th>\n",
       "      <td>ditp_analysis/468186</td>\n",
       "      <td>Négatif</td>\n",
       "      <td>None</td>\n",
       "      <td>N</td>\n",
       "      <td>None</td>\n",
       "      <td>None</td>\n",
       "      <td>Non</td>\n",
       "      <td>N</td>\n",
       "      <td>ditp_analysis</td>\n",
       "      <td>Démarche en ligne</td>\n",
       "      <td>...</td>\n",
       "      <td>None</td>\n",
       "      <td>1.638054e+12</td>\n",
       "      <td>demande de documents</td>\n",
       "      <td>O</td>\n",
       "      <td>None</td>\n",
       "      <td>None</td>\n",
       "      <td>None</td>\n",
       "      <td>None</td>\n",
       "      <td>None</td>\n",
       "      <td>demande de documents\\nj'ai demandé par ANTS un...</td>\n",
       "    </tr>\n",
       "  </tbody>\n",
       "</table>\n",
       "<p>5 rows × 82 columns</p>\n",
       "</div>"
      ],
      "text/plain": [
       "                     _id accessibilite action   \n",
       "0  ditp_analysis/4325567       Négatif   None  \\\n",
       "1  ditp_analysis/3812414       Négatif   None   \n",
       "2  ditp_analysis/4136135       Négatif   None   \n",
       "3  ditp_analysis/5094741       Positif   None   \n",
       "4   ditp_analysis/468186       Négatif   None   \n",
       "\n",
       "  aide_ia_proposee_reponse_structure_1 aide_ia_proposee_reponse_structure_2   \n",
       "0                                    N                                    N  \\\n",
       "1                                    O                                    N   \n",
       "2                                    O                                 None   \n",
       "3                                    O                                 None   \n",
       "4                                    N                                 None   \n",
       "\n",
       "  aide_ia_proposee_reponse_structure_3 amelioration_de_service_a_considerer   \n",
       "0                                 None                                  Non  \\\n",
       "1                                 None                                  Non   \n",
       "2                                 None                                  Non   \n",
       "3                                 None                                  Non   \n",
       "4                                 None                                  Non   \n",
       "\n",
       "  audio          brand           canaux_typologie_1  ...   \n",
       "0     N  ditp_analysis     Démarche en ligne,E-mail  ...  \\\n",
       "1     N  ditp_analysis            Démarche en ligne  ...   \n",
       "2     N  ditp_analysis  Démarche en ligne,Téléphone  ...   \n",
       "3     N  ditp_analysis            Démarche en ligne  ...   \n",
       "4     N  ditp_analysis            Démarche en ligne  ...   \n",
       "\n",
       "  taux_de_similarite_reponse_ia_structure_3     timestamp   \n",
       "0                                      None  1.702249e+12  \\\n",
       "1                                      None  1.689631e+12   \n",
       "2                                      None  1.697926e+12   \n",
       "3                                      None  1.725055e+12   \n",
       "4                                      None  1.638054e+12   \n",
       "\n",
       "                                              titre top_ia_structure_1   \n",
       "0        Renouvellement du titre de séjour étudiant                  O  \\\n",
       "1       Refus de la demande de changement d'adresse                  O   \n",
       "2                                              CCAM                  O   \n",
       "3  Edition d'un plan de situation pour faire une DP                  O   \n",
       "4                              demande de documents                  O   \n",
       "\n",
       "  top_ia_structure_2  top_ia_structure_3   \n",
       "0                  N                None  \\\n",
       "1                  N                None   \n",
       "2               None                None   \n",
       "3               None                None   \n",
       "4               None                None   \n",
       "\n",
       "  vote_de_l_agent_reponse_ia_structure_1   \n",
       "0                                   None  \\\n",
       "1                                   None   \n",
       "2                                   None   \n",
       "3                                   None   \n",
       "4                                   None   \n",
       "\n",
       "   vote_de_l_agent_reponse_ia_structure_2   \n",
       "0                                    None  \\\n",
       "1                                    None   \n",
       "2                                    None   \n",
       "3                                    None   \n",
       "4                                    None   \n",
       "\n",
       "  vote_de_l_agent_reponse_ia_structure_3   \n",
       "0                                   None  \\\n",
       "1                                   None   \n",
       "2                                   None   \n",
       "3                                   None   \n",
       "4                                   None   \n",
       "\n",
       "                                           verbatims  \n",
       "0  Renouvellement du titre de séjour étudiant\\nJ'...  \n",
       "1  Refus de la demande de changement d'adresse\\nJ...  \n",
       "2  CCAM\\nLe consulat de France à Fès est le plus ...  \n",
       "3  Edition d'un plan de situation pour faire une ...  \n",
       "4  demande de documents\\nj'ai demandé par ANTS un...  \n",
       "\n",
       "[5 rows x 82 columns]"
      ]
     },
     "execution_count": 14,
     "metadata": {},
     "output_type": "execute_result"
    }
   ],
   "source": [
    "from_mongo.head()"
   ]
  },
  {
   "cell_type": "code",
   "execution_count": 19,
   "metadata": {},
   "outputs": [
    {
     "data": {
      "text/plain": [
       "Index(['_id', 'accessibilite', 'action',\n",
       "       'aide_ia_proposee_reponse_structure_1',\n",
       "       'aide_ia_proposee_reponse_structure_2',\n",
       "       'aide_ia_proposee_reponse_structure_3',\n",
       "       'amelioration_de_service_a_considerer', 'audio', 'brand',\n",
       "       'canaux_typologie_1', 'canaux_typologie_2', 'canaux_typologie_3',\n",
       "       'cle_de_tracking', 'code_insee_departement_usager',\n",
       "       'code_insee_region_usager', 'code_postal_typologie_1',\n",
       "       'code_postal_typologie_2', 'code_postal_typologie_3',\n",
       "       'date_action_engagee', 'date_action_realisee', 'date_de_publication',\n",
       "       'description', 'ecrit_le', 'etat_experience',\n",
       "       'evaluation_inutile_reponse_structure_1_par_visiteurs',\n",
       "       'evaluation_inutile_reponse_structure_2_par_visiteurs',\n",
       "       'evaluation_inutile_reponse_structure_3_par_visiteurs',\n",
       "       'evaluation_reponse_structure_1_par_auteur',\n",
       "       'evaluation_reponse_structure_2_par_auteur',\n",
       "       'evaluation_reponse_structure_3_par_auteur',\n",
       "       'evaluation_utile_reponse_structure_1_par_visiteurs',\n",
       "       'evaluation_utile_reponse_structure_2_par_visiteurs',\n",
       "       'evaluation_utile_reponse_structure_3_par_visiteurs',\n",
       "       'experiences_similaires', 'hors_structure', 'id', 'id_experience',\n",
       "       'id_structure_1', 'id_structure_2', 'id_structure_3', 'id_typologie_1',\n",
       "       'id_typologie_2', 'id_typologie_3', 'information_explication',\n",
       "       'intitule_departement_usager', 'intitule_region_usager',\n",
       "       'intitule_structure_1', 'intitule_structure_2', 'intitule_structure_3',\n",
       "       'intitule_typologie_1', 'intitule_typologie_2', 'intitule_typologie_3',\n",
       "       'pays', 'pays_typologie_1', 'pays_typologie_2', 'pays_typologie_3',\n",
       "       'poste_comme', 'pseudonyme_usager', 'reactivite', 'relation',\n",
       "       'reponse_structure_1', 'reponse_structure_2', 'reponse_structure_3',\n",
       "       'ressenti_usager', 'simplicite_complexite', 'statut_de_l_experience',\n",
       "       'statut_reponse_structure_1', 'statut_reponse_structure_2',\n",
       "       'statut_reponse_structure_3', 'tags_metiers',\n",
       "       'taux_de_similarite_reponse_ia_structure_1',\n",
       "       'taux_de_similarite_reponse_ia_structure_2',\n",
       "       'taux_de_similarite_reponse_ia_structure_3', 'timestamp', 'titre',\n",
       "       'top_ia_structure_1', 'top_ia_structure_2', 'top_ia_structure_3',\n",
       "       'vote_de_l_agent_reponse_ia_structure_1',\n",
       "       'vote_de_l_agent_reponse_ia_structure_2',\n",
       "       'vote_de_l_agent_reponse_ia_structure_3', 'verbatims'],\n",
       "      dtype='object')"
      ]
     },
     "execution_count": 19,
     "metadata": {},
     "output_type": "execute_result"
    }
   ],
   "source": [
    "from_mongo.columns"
   ]
  },
  {
   "cell_type": "code",
   "execution_count": 10,
   "metadata": {},
   "outputs": [
    {
     "name": "stdout",
     "output_type": "stream",
     "text": [
      "_id                                                                   ditp_analysis/4797317\n",
      "accessibilite                                                                          None\n",
      "action                                                                                 None\n",
      "aide_ia_proposee_reponse_structure_1                                                      O\n",
      "aide_ia_proposee_reponse_structure_2                                                   None\n",
      "                                                                ...                        \n",
      "top_ia_structure_3                                                                     None\n",
      "vote_de_l_agent_reponse_ia_structure_1                                                utile\n",
      "vote_de_l_agent_reponse_ia_structure_2                                                 None\n",
      "vote_de_l_agent_reponse_ia_structure_3                                                 None\n",
      "verbatims                                 Renouvellement\\n- Le site web est trop touffu ...\n",
      "Name: 26, Length: 82, dtype: object\n"
     ]
    }
   ],
   "source": [
    "sample_document = from_mongo.sample().iloc[0]\n",
    "\n",
    "# the text of the client feedback\n",
    "print(sample_document)"
   ]
  },
  {
   "cell_type": "code",
   "execution_count": 42,
   "metadata": {},
   "outputs": [
    {
     "data": {
      "text/plain": [
       "\"Bonjour,\\n\\nMerci pour votre retour d’expérience. Désolé d’apprendre que votre séjour au Pôle Hébergement du CROUS n’a pas été à la hauteur de vos attentes. \\n\\nPour résoudre les problèmes mentionnés, nous vous recommandons d'abord de contacter directement le service concerné pour demander une révision de la décision liée à votre carte d’identité italienne. Pour l’assurance logement, il est conseillé de demander un certificat provisoire à votre assureur pour couvrir la période du 30 août au 1er septembre.\\n\\nEnfin, concernant le traitement de votre dossier en ligne, il est important de signaler ces incidents à la direction du CROUS pour qu'ils puissent améliorer leurs services. En attendant, n’hésitez pas à leur envoyer les documents numériques requis directement par l’adresse mail prévue à cet effet.\\n\\nNous vous remercions pour votre patience et espérons que ces solutions contribueront à améliorer votre situation.\\n\\n\""
      ]
     },
     "execution_count": 42,
     "metadata": {},
     "output_type": "execute_result"
    }
   ],
   "source": [
    "sample_document.generated_answer"
   ]
  },
  {
   "attachments": {},
   "cell_type": "markdown",
   "metadata": {},
   "source": [
    "### Exploring the different fields of the document\n"
   ]
  },
  {
   "cell_type": "code",
   "execution_count": 16,
   "metadata": {},
   "outputs": [
    {
     "name": "stdout",
     "output_type": "stream",
     "text": [
      "Timestamp: 1715724000000.0\n",
      "Title: Renouvellement\n",
      "Text field: Renouvellement\n",
      "- Le site web est trop touffu ; je n’ai pas vu la mention claire de la nécessité de prendre rendez-vous pour un retrait de pièce d’identité. \n",
      "- Délai de 8 mois pour l’obtention de pièce d’identité pour un nouveau-né (service de l’etat-civil de Nantes compris) : globalement beaucoup trop long. C’est hélas un grand pas en arrière. \n",
      "- Personnel consulaire extrêmement gentil, efficace, à l’écoute et proactif face aux problèmes rencontrés.\n",
      "ID: ditp_analysis/4797317\n",
      "Brand: ditp_analysis\n"
     ]
    }
   ],
   "source": [
    "print(\"Timestamp:\", sample_document.timestamp)\n",
    "print(\"Title:\", sample_document.titre)\n",
    "print(\"Text field:\", sample_document.verbatims)\n",
    "print(\"ID:\", sample_document._id)\n",
    "print(\"Brand:\", sample_document.brand)"
   ]
  },
  {
   "attachments": {},
   "cell_type": "markdown",
   "metadata": {},
   "source": [
    "### Checking for additional fields\n",
    "\n",
    "Each brand has its own metadata !"
   ]
  },
  {
   "cell_type": "code",
   "execution_count": null,
   "metadata": {},
   "outputs": [],
   "source": [
    "print(sample_document.rating_out_of_5)\n",
    "print(sample_document.establishment)\n",
    "print(sample_document.author)"
   ]
  },
  {
   "attachments": {},
   "cell_type": "markdown",
   "metadata": {},
   "source": [
    "## Analysis fields\n",
    "\n",
    "### 1. Topic Extraction\n",
    "\n",
    "Firstly, we will extract the topics that emerge from a review. The goal is to transform a long text containing several mixed topics into a list of distinct and reformulated topics.\n",
    "\n",
    "Each extracted topic can have a positive, negative, or neutral sentiment associated with it. The sentiment of each topic is indicated in the \"sentiment\" field."
   ]
  },
  {
   "cell_type": "code",
   "execution_count": null,
   "metadata": {},
   "outputs": [],
   "source": [
    "print(sample_document.verbatim['text'])\n",
    "\n",
    "sample_document.extractions"
   ]
  },
  {
   "cell_type": "code",
   "execution_count": null,
   "metadata": {},
   "outputs": [],
   "source": [
    "for extr in sample_document.extractions:\n",
    "    print('Extraction:', extr['extraction'])\n",
    "    print('Sentiment:', extr['sentiment'])\n",
    "    print('-' * 50)"
   ]
  },
  {
   "attachments": {},
   "cell_type": "markdown",
   "metadata": {},
   "source": [
    "**Detailed Structure of Extractions**\n",
    "\n",
    "Upon closer examination, each object within the \"splitted_analysis_v2\" field contains the following information:\n",
    "\n",
    "- Extraction: The extracted topic or subject.\n",
    "- Sentiment: The sentiment associated with the extraction (positive, negative, or suggestion).\n",
    "- Elementary Subjects: Generated subjects that allow us to classify the extractions.\n",
    "- Topics (optional): More general and business-oriented subjects.\n",
    "\n",
    "#### Elementary Subjects\n",
    "\n",
    "Elementary subjects are generated subjects that help us classify the extractions. They are designed to highlight the most frequent subjects expressed by customers. These elementary subjects are displayed in the \"Top Subjects\" graph on the dashboard.\n",
    "\n",
    "The purpose of elementary subjects is to provide a structured and organized way to categorize the extracted topics. By identifying common themes and grouping similar extractions together, we can gain insights into the most prevalent issues or opinions expressed by customers.\n",
    "\n",
    "#### Topics\n",
    "\n",
    "Topics, on the other hand, are more general and business-oriented subjects. They are less numerous compared to elementary subjects and provide a higher-level categorization.\n",
    "\n",
    "Topics are intended to capture broader themes or categories that are relevant to the business or domain. They allow for a more strategic view of the feedback and can help identify overarching areas of concern or satisfaction."
   ]
  },
  {
   "cell_type": "code",
   "execution_count": null,
   "metadata": {},
   "outputs": [],
   "source": [
    "for extr in sample_document.extractions:\n",
    "    print('Extraction:', extr['extraction'])\n",
    "    print('Elementary subjects:', extr['elementary_subjects'])\n",
    "    print('Topics:', extr['topics'])\n",
    "    print('-' * 50)"
   ]
  },
  {
   "attachments": {},
   "cell_type": "markdown",
   "metadata": {},
   "source": [
    "### 2. Linking Extractions to Feedback\n",
    "\n",
    "Each extracted topic is linked to the corresponding part of the feedback in the \"splitted_analysis_v2\" field. This field allows us to highlight the topics in the \"Details\" graph on the dashboard.\n",
    "\n",
    "The \"splitted_analysis_v2\" field contains information that maps the extracted topics to their respective positions within the original feedback text. This mapping enables us to visually highlight the relevant parts of the feedback when displaying the extracted topics on the dashboard."
   ]
  },
  {
   "cell_type": "code",
   "execution_count": null,
   "metadata": {},
   "outputs": [],
   "source": [
    "sample_document.splitted_analysis_v2"
   ]
  }
 ],
 "metadata": {
  "kernelspec": {
   "display_name": "Python 3",
   "language": "python",
   "name": "python3"
  },
  "language_info": {
   "codemirror_mode": {
    "name": "ipython",
    "version": 3
   },
   "file_extension": ".py",
   "mimetype": "text/x-python",
   "name": "python",
   "nbconvert_exporter": "python",
   "pygments_lexer": "ipython3",
   "version": "3.11.3"
  },
  "orig_nbformat": 4
 },
 "nbformat": 4,
 "nbformat_minor": 2
}
